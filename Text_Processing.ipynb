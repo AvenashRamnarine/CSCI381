{
  "nbformat": 4,
  "nbformat_minor": 0,
  "metadata": {
    "colab": {
      "name": "Text Processing.ipynb",
      "provenance": []
    },
    "kernelspec": {
      "name": "python3",
      "display_name": "Python 3"
    },
    "language_info": {
      "name": "python"
    }
  },
  "cells": [
    {
      "cell_type": "code",
      "execution_count": 11,
      "metadata": {
        "colab": {
          "base_uri": "https://localhost:8080/"
        },
        "id": "-yroehjdfv9C",
        "outputId": "d0131715-1608-4065-8ca6-91db88090d4a"
      },
      "outputs": [
        {
          "output_type": "stream",
          "name": "stdout",
          "text": [
            "['555', '1239', '636', '555', '0113', '555', '6542', '555', '8904', '636', '555', '3226', '5553642']\n",
            "['Dr', 'Bernard', 'Lander', 'Hollingdorp', 'Donnatella', 'Fitzgerald', 'F', 'Sco', 't', 'Rev', 'Martin', 'Luther', 'King', 'Snodgrass', 'Theodore', 'Carlamina', 'Scarfoni']\n",
            "Dr. Bernard Lander         (636) 555-0113\n",
            "Donnatella Hollingdorp           555-6542\n",
            "Scott F. Fitzgerald              555 8904\n",
            "Rev. Martin Luther King      636-555-3226\n",
            "Theodore Snodgrass                5553642\n",
            "Carlamina Scarfoni               555-1239\n",
            "dtype: object\n",
            "Dr. Bernard Lander         False\n",
            "Donnatella Hollingdorp     False\n",
            "Scott F. Fitzgerald        False\n",
            "Rev. Martin Luther King    False\n",
            "Theodore Snodgrass         False\n",
            "Carlamina Scarfoni         False\n",
            "dtype: bool\n"
          ]
        }
      ],
      "source": [
        "import re\n",
        "import pandas as pd\n",
        "import numpy as np\n",
        "\n",
        "text = '555-1239Dr. Bernard Lander(636) 555-0113Hollingdorp, Donnatella555-6542Fitzgerald, F. Sco\\tt555 8904Rev. Martin Luther King636-555-3226Snodgrass, Theodore5553642Carlamina Scarfoni'\n",
        "\n",
        "print(re.findall('[0-9]+', text))\n",
        "print(re.findall('[A-Za-z]+', text))\n",
        "\n",
        "text = {'Dr. Bernard Lander' : '(636) 555-0113', 'Donnatella Hollingdorp' : '555-6542', 'Scott F. Fitzgerald' : '555 8904', \n",
        "        'Rev. Martin Luther King' : '636-555-3226', 'Theodore Snodgrass' : '5553642', 'Carlamina Scarfoni' : '555-1239' }\n",
        "text = pd.Series(text)\n",
        "print(text)\n",
        "print(text.str.contains('Dr.', 'Rev.'))"
      ]
    }
  ]
}