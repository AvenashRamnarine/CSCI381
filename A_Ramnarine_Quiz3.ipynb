{
  "nbformat": 4,
  "nbformat_minor": 0,
  "metadata": {
    "colab": {
      "name": "A_Ramnarine_Quiz3.ipynb",
      "provenance": []
    },
    "kernelspec": {
      "name": "python3",
      "display_name": "Python 3"
    },
    "language_info": {
      "name": "python"
    }
  },
  "cells": [
    {
      "cell_type": "markdown",
      "source": [
        "## Wine Data\n",
        "\n",
        "This data set is a collection wines and their attributes. Each attribute represents a particular wine and it's characteristics. "
      ],
      "metadata": {
        "id": "f8CqNQHjSM4D"
      }
    },
    {
      "cell_type": "code",
      "execution_count": 475,
      "metadata": {
        "colab": {
          "base_uri": "https://localhost:8080/",
          "height": 424
        },
        "id": "7iT04Q1uMSli",
        "outputId": "8912d12e-536f-4c45-f0e8-d7d460c6d4ac"
      },
      "outputs": [
        {
          "output_type": "execute_result",
          "data": {
            "text/plain": [
              "       INDEX  TARGET  FixedAcidity  VolatileAcidity  CitricAcid  \\\n",
              "0          1       3           3.2            1.160       -0.98   \n",
              "1          2       3           4.5            0.160       -0.81   \n",
              "2          4       5           7.1            2.640       -0.88   \n",
              "3          5       3           5.7            0.385        0.04   \n",
              "4          6       4           8.0            0.330       -1.26   \n",
              "...      ...     ...           ...              ...         ...   \n",
              "12790  16120       0           5.0           -0.790        2.01   \n",
              "12791  16123       5           8.9            0.470        0.29   \n",
              "12792  16127       4           6.0            0.170       -1.10   \n",
              "12793  16128       3           7.7            0.320        0.12   \n",
              "12794  16129       4           5.2           -0.040       -0.81   \n",
              "\n",
              "       ResidualSugar  Chlorides  FreeSulfurDioxide  TotalSulfurDioxide  \\\n",
              "0               54.2     -0.567                NaN               268.0   \n",
              "1               26.1     -0.425               15.0              -327.0   \n",
              "2               14.8      0.037              214.0               142.0   \n",
              "3               18.8     -0.425               22.0               115.0   \n",
              "4                9.4        NaN             -167.0               108.0   \n",
              "...              ...        ...                ...                 ...   \n",
              "12790            5.0      0.043               17.0               101.0   \n",
              "12791           84.9      0.259               54.0                 NaN   \n",
              "12792           37.0      0.078               25.0               108.0   \n",
              "12793            NaN      0.029               26.0               274.0   \n",
              "12794           52.7        NaN             -106.0               242.0   \n",
              "\n",
              "       Density    pH  Sulphates  Alcohol  LabelAppeal  AcidIndex  STARS  \n",
              "0      0.99280  3.33      -0.59      9.9            0          8    2.0  \n",
              "1      1.02792  3.38       0.70      NaN           -1          7    3.0  \n",
              "2      0.99518  3.12       0.48     22.0           -1          8    3.0  \n",
              "3      0.99640  2.24       1.83      6.2           -1          6    1.0  \n",
              "4      0.99457  3.12       1.77     13.7            0          9    2.0  \n",
              "...        ...   ...        ...      ...          ...        ...    ...  \n",
              "12790  1.01077  3.39       0.57      4.9            1          5    NaN  \n",
              "12791  0.99518  4.46      -1.20      NaN           -1          8    2.0  \n",
              "12792  0.99076  3.25        NaN     12.3            0          6    2.0  \n",
              "12793  0.99060  3.97       0.62     11.0           -1          6    2.0  \n",
              "12794  0.99454  3.94      -0.12      9.9            0          7    2.0  \n",
              "\n",
              "[12795 rows x 16 columns]"
            ],
            "text/html": [
              "\n",
              "  <div id=\"df-c4fbcd3a-7fd5-4b63-b614-17bd043ffe5e\">\n",
              "    <div class=\"colab-df-container\">\n",
              "      <div>\n",
              "<style scoped>\n",
              "    .dataframe tbody tr th:only-of-type {\n",
              "        vertical-align: middle;\n",
              "    }\n",
              "\n",
              "    .dataframe tbody tr th {\n",
              "        vertical-align: top;\n",
              "    }\n",
              "\n",
              "    .dataframe thead th {\n",
              "        text-align: right;\n",
              "    }\n",
              "</style>\n",
              "<table border=\"1\" class=\"dataframe\">\n",
              "  <thead>\n",
              "    <tr style=\"text-align: right;\">\n",
              "      <th></th>\n",
              "      <th>INDEX</th>\n",
              "      <th>TARGET</th>\n",
              "      <th>FixedAcidity</th>\n",
              "      <th>VolatileAcidity</th>\n",
              "      <th>CitricAcid</th>\n",
              "      <th>ResidualSugar</th>\n",
              "      <th>Chlorides</th>\n",
              "      <th>FreeSulfurDioxide</th>\n",
              "      <th>TotalSulfurDioxide</th>\n",
              "      <th>Density</th>\n",
              "      <th>pH</th>\n",
              "      <th>Sulphates</th>\n",
              "      <th>Alcohol</th>\n",
              "      <th>LabelAppeal</th>\n",
              "      <th>AcidIndex</th>\n",
              "      <th>STARS</th>\n",
              "    </tr>\n",
              "  </thead>\n",
              "  <tbody>\n",
              "    <tr>\n",
              "      <th>0</th>\n",
              "      <td>1</td>\n",
              "      <td>3</td>\n",
              "      <td>3.2</td>\n",
              "      <td>1.160</td>\n",
              "      <td>-0.98</td>\n",
              "      <td>54.2</td>\n",
              "      <td>-0.567</td>\n",
              "      <td>NaN</td>\n",
              "      <td>268.0</td>\n",
              "      <td>0.99280</td>\n",
              "      <td>3.33</td>\n",
              "      <td>-0.59</td>\n",
              "      <td>9.9</td>\n",
              "      <td>0</td>\n",
              "      <td>8</td>\n",
              "      <td>2.0</td>\n",
              "    </tr>\n",
              "    <tr>\n",
              "      <th>1</th>\n",
              "      <td>2</td>\n",
              "      <td>3</td>\n",
              "      <td>4.5</td>\n",
              "      <td>0.160</td>\n",
              "      <td>-0.81</td>\n",
              "      <td>26.1</td>\n",
              "      <td>-0.425</td>\n",
              "      <td>15.0</td>\n",
              "      <td>-327.0</td>\n",
              "      <td>1.02792</td>\n",
              "      <td>3.38</td>\n",
              "      <td>0.70</td>\n",
              "      <td>NaN</td>\n",
              "      <td>-1</td>\n",
              "      <td>7</td>\n",
              "      <td>3.0</td>\n",
              "    </tr>\n",
              "    <tr>\n",
              "      <th>2</th>\n",
              "      <td>4</td>\n",
              "      <td>5</td>\n",
              "      <td>7.1</td>\n",
              "      <td>2.640</td>\n",
              "      <td>-0.88</td>\n",
              "      <td>14.8</td>\n",
              "      <td>0.037</td>\n",
              "      <td>214.0</td>\n",
              "      <td>142.0</td>\n",
              "      <td>0.99518</td>\n",
              "      <td>3.12</td>\n",
              "      <td>0.48</td>\n",
              "      <td>22.0</td>\n",
              "      <td>-1</td>\n",
              "      <td>8</td>\n",
              "      <td>3.0</td>\n",
              "    </tr>\n",
              "    <tr>\n",
              "      <th>3</th>\n",
              "      <td>5</td>\n",
              "      <td>3</td>\n",
              "      <td>5.7</td>\n",
              "      <td>0.385</td>\n",
              "      <td>0.04</td>\n",
              "      <td>18.8</td>\n",
              "      <td>-0.425</td>\n",
              "      <td>22.0</td>\n",
              "      <td>115.0</td>\n",
              "      <td>0.99640</td>\n",
              "      <td>2.24</td>\n",
              "      <td>1.83</td>\n",
              "      <td>6.2</td>\n",
              "      <td>-1</td>\n",
              "      <td>6</td>\n",
              "      <td>1.0</td>\n",
              "    </tr>\n",
              "    <tr>\n",
              "      <th>4</th>\n",
              "      <td>6</td>\n",
              "      <td>4</td>\n",
              "      <td>8.0</td>\n",
              "      <td>0.330</td>\n",
              "      <td>-1.26</td>\n",
              "      <td>9.4</td>\n",
              "      <td>NaN</td>\n",
              "      <td>-167.0</td>\n",
              "      <td>108.0</td>\n",
              "      <td>0.99457</td>\n",
              "      <td>3.12</td>\n",
              "      <td>1.77</td>\n",
              "      <td>13.7</td>\n",
              "      <td>0</td>\n",
              "      <td>9</td>\n",
              "      <td>2.0</td>\n",
              "    </tr>\n",
              "    <tr>\n",
              "      <th>...</th>\n",
              "      <td>...</td>\n",
              "      <td>...</td>\n",
              "      <td>...</td>\n",
              "      <td>...</td>\n",
              "      <td>...</td>\n",
              "      <td>...</td>\n",
              "      <td>...</td>\n",
              "      <td>...</td>\n",
              "      <td>...</td>\n",
              "      <td>...</td>\n",
              "      <td>...</td>\n",
              "      <td>...</td>\n",
              "      <td>...</td>\n",
              "      <td>...</td>\n",
              "      <td>...</td>\n",
              "      <td>...</td>\n",
              "    </tr>\n",
              "    <tr>\n",
              "      <th>12790</th>\n",
              "      <td>16120</td>\n",
              "      <td>0</td>\n",
              "      <td>5.0</td>\n",
              "      <td>-0.790</td>\n",
              "      <td>2.01</td>\n",
              "      <td>5.0</td>\n",
              "      <td>0.043</td>\n",
              "      <td>17.0</td>\n",
              "      <td>101.0</td>\n",
              "      <td>1.01077</td>\n",
              "      <td>3.39</td>\n",
              "      <td>0.57</td>\n",
              "      <td>4.9</td>\n",
              "      <td>1</td>\n",
              "      <td>5</td>\n",
              "      <td>NaN</td>\n",
              "    </tr>\n",
              "    <tr>\n",
              "      <th>12791</th>\n",
              "      <td>16123</td>\n",
              "      <td>5</td>\n",
              "      <td>8.9</td>\n",
              "      <td>0.470</td>\n",
              "      <td>0.29</td>\n",
              "      <td>84.9</td>\n",
              "      <td>0.259</td>\n",
              "      <td>54.0</td>\n",
              "      <td>NaN</td>\n",
              "      <td>0.99518</td>\n",
              "      <td>4.46</td>\n",
              "      <td>-1.20</td>\n",
              "      <td>NaN</td>\n",
              "      <td>-1</td>\n",
              "      <td>8</td>\n",
              "      <td>2.0</td>\n",
              "    </tr>\n",
              "    <tr>\n",
              "      <th>12792</th>\n",
              "      <td>16127</td>\n",
              "      <td>4</td>\n",
              "      <td>6.0</td>\n",
              "      <td>0.170</td>\n",
              "      <td>-1.10</td>\n",
              "      <td>37.0</td>\n",
              "      <td>0.078</td>\n",
              "      <td>25.0</td>\n",
              "      <td>108.0</td>\n",
              "      <td>0.99076</td>\n",
              "      <td>3.25</td>\n",
              "      <td>NaN</td>\n",
              "      <td>12.3</td>\n",
              "      <td>0</td>\n",
              "      <td>6</td>\n",
              "      <td>2.0</td>\n",
              "    </tr>\n",
              "    <tr>\n",
              "      <th>12793</th>\n",
              "      <td>16128</td>\n",
              "      <td>3</td>\n",
              "      <td>7.7</td>\n",
              "      <td>0.320</td>\n",
              "      <td>0.12</td>\n",
              "      <td>NaN</td>\n",
              "      <td>0.029</td>\n",
              "      <td>26.0</td>\n",
              "      <td>274.0</td>\n",
              "      <td>0.99060</td>\n",
              "      <td>3.97</td>\n",
              "      <td>0.62</td>\n",
              "      <td>11.0</td>\n",
              "      <td>-1</td>\n",
              "      <td>6</td>\n",
              "      <td>2.0</td>\n",
              "    </tr>\n",
              "    <tr>\n",
              "      <th>12794</th>\n",
              "      <td>16129</td>\n",
              "      <td>4</td>\n",
              "      <td>5.2</td>\n",
              "      <td>-0.040</td>\n",
              "      <td>-0.81</td>\n",
              "      <td>52.7</td>\n",
              "      <td>NaN</td>\n",
              "      <td>-106.0</td>\n",
              "      <td>242.0</td>\n",
              "      <td>0.99454</td>\n",
              "      <td>3.94</td>\n",
              "      <td>-0.12</td>\n",
              "      <td>9.9</td>\n",
              "      <td>0</td>\n",
              "      <td>7</td>\n",
              "      <td>2.0</td>\n",
              "    </tr>\n",
              "  </tbody>\n",
              "</table>\n",
              "<p>12795 rows × 16 columns</p>\n",
              "</div>\n",
              "      <button class=\"colab-df-convert\" onclick=\"convertToInteractive('df-c4fbcd3a-7fd5-4b63-b614-17bd043ffe5e')\"\n",
              "              title=\"Convert this dataframe to an interactive table.\"\n",
              "              style=\"display:none;\">\n",
              "        \n",
              "  <svg xmlns=\"http://www.w3.org/2000/svg\" height=\"24px\"viewBox=\"0 0 24 24\"\n",
              "       width=\"24px\">\n",
              "    <path d=\"M0 0h24v24H0V0z\" fill=\"none\"/>\n",
              "    <path d=\"M18.56 5.44l.94 2.06.94-2.06 2.06-.94-2.06-.94-.94-2.06-.94 2.06-2.06.94zm-11 1L8.5 8.5l.94-2.06 2.06-.94-2.06-.94L8.5 2.5l-.94 2.06-2.06.94zm10 10l.94 2.06.94-2.06 2.06-.94-2.06-.94-.94-2.06-.94 2.06-2.06.94z\"/><path d=\"M17.41 7.96l-1.37-1.37c-.4-.4-.92-.59-1.43-.59-.52 0-1.04.2-1.43.59L10.3 9.45l-7.72 7.72c-.78.78-.78 2.05 0 2.83L4 21.41c.39.39.9.59 1.41.59.51 0 1.02-.2 1.41-.59l7.78-7.78 2.81-2.81c.8-.78.8-2.07 0-2.86zM5.41 20L4 18.59l7.72-7.72 1.47 1.35L5.41 20z\"/>\n",
              "  </svg>\n",
              "      </button>\n",
              "      \n",
              "  <style>\n",
              "    .colab-df-container {\n",
              "      display:flex;\n",
              "      flex-wrap:wrap;\n",
              "      gap: 12px;\n",
              "    }\n",
              "\n",
              "    .colab-df-convert {\n",
              "      background-color: #E8F0FE;\n",
              "      border: none;\n",
              "      border-radius: 50%;\n",
              "      cursor: pointer;\n",
              "      display: none;\n",
              "      fill: #1967D2;\n",
              "      height: 32px;\n",
              "      padding: 0 0 0 0;\n",
              "      width: 32px;\n",
              "    }\n",
              "\n",
              "    .colab-df-convert:hover {\n",
              "      background-color: #E2EBFA;\n",
              "      box-shadow: 0px 1px 2px rgba(60, 64, 67, 0.3), 0px 1px 3px 1px rgba(60, 64, 67, 0.15);\n",
              "      fill: #174EA6;\n",
              "    }\n",
              "\n",
              "    [theme=dark] .colab-df-convert {\n",
              "      background-color: #3B4455;\n",
              "      fill: #D2E3FC;\n",
              "    }\n",
              "\n",
              "    [theme=dark] .colab-df-convert:hover {\n",
              "      background-color: #434B5C;\n",
              "      box-shadow: 0px 1px 3px 1px rgba(0, 0, 0, 0.15);\n",
              "      filter: drop-shadow(0px 1px 2px rgba(0, 0, 0, 0.3));\n",
              "      fill: #FFFFFF;\n",
              "    }\n",
              "  </style>\n",
              "\n",
              "      <script>\n",
              "        const buttonEl =\n",
              "          document.querySelector('#df-c4fbcd3a-7fd5-4b63-b614-17bd043ffe5e button.colab-df-convert');\n",
              "        buttonEl.style.display =\n",
              "          google.colab.kernel.accessAllowed ? 'block' : 'none';\n",
              "\n",
              "        async function convertToInteractive(key) {\n",
              "          const element = document.querySelector('#df-c4fbcd3a-7fd5-4b63-b614-17bd043ffe5e');\n",
              "          const dataTable =\n",
              "            await google.colab.kernel.invokeFunction('convertToInteractive',\n",
              "                                                     [key], {});\n",
              "          if (!dataTable) return;\n",
              "\n",
              "          const docLinkHtml = 'Like what you see? Visit the ' +\n",
              "            '<a target=\"_blank\" href=https://colab.research.google.com/notebooks/data_table.ipynb>data table notebook</a>'\n",
              "            + ' to learn more about interactive tables.';\n",
              "          element.innerHTML = '';\n",
              "          dataTable['output_type'] = 'display_data';\n",
              "          await google.colab.output.renderOutput(dataTable, element);\n",
              "          const docLink = document.createElement('div');\n",
              "          docLink.innerHTML = docLinkHtml;\n",
              "          element.appendChild(docLink);\n",
              "        }\n",
              "      </script>\n",
              "    </div>\n",
              "  </div>\n",
              "  "
            ]
          },
          "metadata": {},
          "execution_count": 475
        }
      ],
      "source": [
        "import matplotlib.pyplot as plt\n",
        "import numpy as np\n",
        "import pandas as pd\n",
        "import seaborn as sns\n",
        "\n",
        "df = pd.read_csv('https://raw.githubusercontent.com/MatthewFried/Udemy/master/Day2/Day2_Data.csv')\n",
        "df"
      ]
    },
    {
      "cell_type": "markdown",
      "source": [
        "## EDA\n",
        "\n",
        "This data set contains over 12,700 wines and lists all the their specfic attirbutes. The attributes given here are:\n",
        "1. INDEX\t- index of the wine bottle \n",
        "2. TARGET\t- number of cases sold\n",
        "3. FixedAcidity\t- fixed acidity content\n",
        "4. VolatileAcidity\t- volatile acidity content\n",
        "5. CitricAcid\t- citric acid content\n",
        "6. ResidualSugar\t- residual sugar content\n",
        "7. Chlorides\t- chloride content\n",
        "8. FreeSulfurDioxide\t- free sulfur dioxide content\n",
        "9. TotalSulfurDioxide\t- the total sulfur dioxide content\n",
        "10. Density\t- density of wine\n",
        "11. pH\t- acidity of wine (measured in pH)\n",
        "12. Sulphates\t- sulphate content\n",
        "13. Alcohol\t- alcohol content\n",
        "14. LabelAppeal\t- design appeal of label\n",
        "15. AcidIndex\tSTARS - rating of acid index "
      ],
      "metadata": {
        "id": "FWHUQszZO4vn"
      }
    },
    {
      "cell_type": "markdown",
      "source": [
        "Looking specifically at attributes of the wines, we begin to analyze the different aspects."
      ],
      "metadata": {
        "id": "Ji_TzTS_TLVm"
      }
    },
    {
      "cell_type": "markdown",
      "source": [
        "For example lets take a look at the number of wines and their target scores, which represents how many cases of said wine were sold"
      ],
      "metadata": {
        "id": "Do8KgvaYTVoH"
      }
    },
    {
      "cell_type": "code",
      "source": [
        "%matplotlib inline\n",
        "\n",
        "tplt = df['TARGET'].value_counts().plot.bar(title = \"Target Scores and Num of Wines\")\n",
        "tplt;"
      ],
      "metadata": {
        "colab": {
          "base_uri": "https://localhost:8080/",
          "height": 278
        },
        "id": "eYshdt_pS261",
        "outputId": "d8208d28-f559-46b3-a280-49db5b9825f2"
      },
      "execution_count": 476,
      "outputs": [
        {
          "output_type": "display_data",
          "data": {
            "text/plain": [
              "<Figure size 432x288 with 1 Axes>"
            ],
            "image/png": "[encoded data removed]"
          },
          "metadata": {
            "needs_background": "light"
          }
        }
      ]
    },
    {
      "cell_type": "markdown",
      "source": [
        "We can see here that the majority of wines made it within the 4 target score. "
      ],
      "metadata": {
        "id": "Vaoj2wejTnUu"
      }
    },
    {
      "cell_type": "markdown",
      "source": [
        "Using this information we can try and find different trends within the data set. For example, lets see how the alcohol content of a wine is related to their target score"
      ],
      "metadata": {
        "id": "HN_OyRS1Tzts"
      }
    },
    {
      "cell_type": "code",
      "source": [
        "sns.lineplot(data=df['TARGET'], x=df['TARGET'], y=df['Alcohol'])"
      ],
      "metadata": {
        "colab": {
          "base_uri": "https://localhost:8080/",
          "height": 296
        },
        "id": "VE2wWLCZT_nn",
        "outputId": "9f26a427-0ea9-4287-8efe-03a04f54ec3c"
      },
      "execution_count": 477,
      "outputs": [
        {
          "output_type": "execute_result",
          "data": {
            "text/plain": [
              "<matplotlib.axes._subplots.AxesSubplot at 0x7ff5076d6f90>"
            ]
          },
          "metadata": {},
          "execution_count": 477
        },
        {
          "output_type": "display_data",
          "data": {
            "text/plain": [
              "<Figure size 432x288 with 1 Axes>"
            ],
            "image/png": "[encoded data removed]"
          },
          "metadata": {
            "needs_background": "light"
          }
        }
      ]
    },
    {
      "cell_type": "markdown",
      "source": [
        "So based on this graph we can see that the higher the target score, the higher the alcohol content tends to be. Which, if you happened to be a wine maker, would be a benefit for you. "
      ],
      "metadata": {
        "id": "4O-6zHtuUQyb"
      }
    },
    {
      "cell_type": "markdown",
      "source": [
        "While we're on the topic let's see the distribution of alcohol levels in general"
      ],
      "metadata": {
        "id": "5gDIF66SuWmJ"
      }
    },
    {
      "cell_type": "code",
      "source": [
        "sns.distplot(df['Alcohol'])"
      ],
      "metadata": {
        "colab": {
          "base_uri": "https://localhost:8080/",
          "height": 351
        },
        "id": "a1T_4QIqueQT",
        "outputId": "62147682-b56b-410e-b40a-6fc8311dd0ba"
      },
      "execution_count": 478,
      "outputs": [
        {
          "output_type": "stream",
          "name": "stderr",
          "text": [
            "/usr/local/lib/python3.7/dist-packages/seaborn/distributions.py:2619: FutureWarning: `distplot` is a deprecated function and will be removed in a future version. Please adapt your code to use either `displot` (a figure-level function with similar flexibility) or `histplot` (an axes-level function for histograms).\n",
            "  warnings.warn(msg, FutureWarning)\n"
          ]
        },
        {
          "output_type": "execute_result",
          "data": {
            "text/plain": [
              "<matplotlib.axes._subplots.AxesSubplot at 0x7ff5076689d0>"
            ]
          },
          "metadata": {},
          "execution_count": 478
        },
        {
          "output_type": "display_data",
          "data": {
            "text/plain": [
              "<Figure size 432x288 with 1 Axes>"
            ],
            "image/png": "[encoded data removed]"
          },
          "metadata": {
            "needs_background": "light"
          }
        }
      ]
    },
    {
      "cell_type": "markdown",
      "source": [
        "You can clearly see a sort of 'bell curve' favorite alcohols near the 7-15 percent range"
      ],
      "metadata": {
        "id": "FIT4pxemvj3r"
      }
    },
    {
      "cell_type": "markdown",
      "source": [
        "Next lets take a look at the Stars Index, which serves as an overall rating of the wines"
      ],
      "metadata": {
        "id": "LEoDIN-RVFXB"
      }
    },
    {
      "cell_type": "code",
      "source": [
        "%matplotlib inline\n",
        "\n",
        "splt = df['STARS'].value_counts().plot.bar(title = \"Stars Scores\")\n",
        "splt;"
      ],
      "metadata": {
        "colab": {
          "base_uri": "https://localhost:8080/",
          "height": 287
        },
        "id": "ccEcr3njVRkM",
        "outputId": "dc30f0b2-a2ad-4ae9-fe27-fe936edf8421"
      },
      "execution_count": 479,
      "outputs": [
        {
          "output_type": "display_data",
          "data": {
            "text/plain": [
              "<Figure size 432x288 with 1 Axes>"
            ],
            "image/png": "[encoded data removed]"
          },
          "metadata": {
            "needs_background": "light"
          }
        }
      ]
    },
    {
      "cell_type": "markdown",
      "source": [
        "So as to be expected, the majority of wines did not make the top tier of being a 4.0. The majority are bunched into the 2.0 and 1.0 areas of the scale."
      ],
      "metadata": {
        "id": "IVeK0F0OVcil"
      }
    },
    {
      "cell_type": "markdown",
      "source": [
        "However now knowing both of these, we test and see how the target relates to the star score. Do more people buy the more highly rated wines?"
      ],
      "metadata": {
        "id": "tZXxkmsrWFBO"
      }
    },
    {
      "cell_type": "code",
      "source": [
        "sns.lineplot(data=df['STARS'], x=df['STARS'], y=df['TARGET'])"
      ],
      "metadata": {
        "colab": {
          "base_uri": "https://localhost:8080/",
          "height": 296
        },
        "id": "G5GrxJJ2VvGN",
        "outputId": "471e7297-a1c8-4d45-91ba-37eef83c2257"
      },
      "execution_count": 480,
      "outputs": [
        {
          "output_type": "execute_result",
          "data": {
            "text/plain": [
              "<matplotlib.axes._subplots.AxesSubplot at 0x7ff50748f110>"
            ]
          },
          "metadata": {},
          "execution_count": 480
        },
        {
          "output_type": "display_data",
          "data": {
            "text/plain": [
              "<Figure size 432x288 with 1 Axes>"
            ],
            "image/png": "[encoded data removed]"
          },
          "metadata": {
            "needs_background": "light"
          }
        }
      ]
    },
    {
      "cell_type": "markdown",
      "source": [
        "And using our data analysis we are able to see that indeed this is true. The target of a wine seems to be directly related to it's stars rating"
      ],
      "metadata": {
        "id": "hknqfGOyWaLc"
      }
    },
    {
      "cell_type": "markdown",
      "source": [
        "So now we can also check the alcohol content"
      ],
      "metadata": {
        "id": "ft_cdzgWWwkl"
      }
    },
    {
      "cell_type": "code",
      "source": [
        "sns.lineplot(data=df['STARS'], x=df['STARS'], y=df['Alcohol'])"
      ],
      "metadata": {
        "colab": {
          "base_uri": "https://localhost:8080/",
          "height": 296
        },
        "id": "ntusZsTBWsUT",
        "outputId": "374cf5b6-a9fb-4d69-c71d-802ebaf75972"
      },
      "execution_count": 481,
      "outputs": [
        {
          "output_type": "execute_result",
          "data": {
            "text/plain": [
              "<matplotlib.axes._subplots.AxesSubplot at 0x7ff507413bd0>"
            ]
          },
          "metadata": {},
          "execution_count": 481
        },
        {
          "output_type": "display_data",
          "data": {
            "text/plain": [
              "<Figure size 432x288 with 1 Axes>"
            ],
            "image/png": "[encoded data removed]"
          },
          "metadata": {
            "needs_background": "light"
          }
        }
      ]
    },
    {
      "cell_type": "markdown",
      "source": [
        "These analysis techniques allow us to see characteristics of the data we would miss. However it should be important to note that the data itself is not completely accurate. There are some discrepencies that we should be aware of."
      ],
      "metadata": {
        "id": "jyRllmHTW0HF"
      }
    },
    {
      "cell_type": "markdown",
      "source": [
        "### Data Cleansing and Preparation \n",
        "To begin our data preperation we should start by cleaning our data. The first thing we can do is to find and replace any values that are missing within our data set. These missing values can cause unwanted discrepencies in our data and they should be accounted for. "
      ],
      "metadata": {
        "id": "IxhTFGlLXQhf"
      }
    },
    {
      "cell_type": "markdown",
      "source": [
        "To do this I will find all NaN's, and replace them with the mean value of their respective column. This will improve data integrity without the need to remove these sets of data."
      ],
      "metadata": {
        "id": "u_Q_SjvDX3TN"
      }
    },
    {
      "cell_type": "code",
      "source": [
        "#First I will print out the amount of NaN's within each columns\n",
        "print('BEFORE NANS REMOVED')\n",
        "print(df['INDEX'].isnull().sum())\n",
        "print(df['TARGET'].isnull().sum())\n",
        "print(df['FixedAcidity'].isnull().sum())\n",
        "print(df['VolatileAcidity'].isnull().sum())\n",
        "print(df['CitricAcid'].isnull().sum())\n",
        "print(df['ResidualSugar'].isnull().sum())\n",
        "print(df['Chlorides'].isnull().sum())\n",
        "print(df['FreeSulfurDioxide'].isnull().sum())\n",
        "print(df['TotalSulfurDioxide'].isnull().sum())\n",
        "print(df['Density'].isnull().sum())\n",
        "print(df['pH'].isnull().sum())\n",
        "print(df['Sulphates'].isnull().sum())\n",
        "print(df['Alcohol'].isnull().sum())\n",
        "print(df['LabelAppeal'].isnull().sum())\n",
        "print(df['AcidIndex'].isnull().sum())\n",
        "print(df['STARS'].isnull().sum())\n",
        "\n",
        "#Then I will replace those values with the mean of their respective column\n",
        "df['ResidualSugar'].fillna(df['ResidualSugar'].mean(), inplace = True)\n",
        "df['Chlorides'].fillna(df['Chlorides'].mean(), inplace = True)\n",
        "df['FreeSulfurDioxide'].fillna(df['FreeSulfurDioxide'].mean(), inplace = True)\n",
        "df['TotalSulfurDioxide'].fillna(df['TotalSulfurDioxide'].mean(), inplace = True)\n",
        "df['pH'].fillna(df['pH'].mean(), inplace = True)\n",
        "df['Sulphates'].fillna(df['Sulphates'].mean(), inplace = True)\n",
        "df['Alcohol'].fillna(df['Alcohol'].mean(), inplace = True)\n",
        "df['STARS'].fillna(df['STARS'].mean(), inplace = True)\n",
        "\n",
        "#Then I will check again to see if NaN's still exist. \n",
        "#If they do not, then I have suceeeded in cleaning this aspect of the data set.\n",
        "print('\\nAFTER NANS REMOVED')\n",
        "print(df['INDEX'].isnull().sum())\n",
        "print(df['TARGET'].isnull().sum())\n",
        "print(df['FixedAcidity'].isnull().sum())\n",
        "print(df['VolatileAcidity'].isnull().sum())\n",
        "print(df['CitricAcid'].isnull().sum())\n",
        "print(df['ResidualSugar'].isnull().sum())\n",
        "print(df['Chlorides'].isnull().sum())\n",
        "print(df['FreeSulfurDioxide'].isnull().sum())\n",
        "print(df['TotalSulfurDioxide'].isnull().sum())\n",
        "print(df['Density'].isnull().sum())\n",
        "print(df['pH'].isnull().sum())\n",
        "print(df['Sulphates'].isnull().sum())\n",
        "print(df['Alcohol'].isnull().sum())\n",
        "print(df['LabelAppeal'].isnull().sum())\n",
        "print(df['AcidIndex'].isnull().sum())\n",
        "print(df['STARS'].isnull().sum())\n",
        "\n",
        "df"
      ],
      "metadata": {
        "colab": {
          "base_uri": "https://localhost:8080/",
          "height": 1000
        },
        "id": "DKi0OivXgJub",
        "outputId": "1ae6b882-561d-4ee6-e6d3-74b10530572a"
      },
      "execution_count": 482,
      "outputs": [
        {
          "output_type": "stream",
          "name": "stdout",
          "text": [
            "BEFORE NANS REMOVED\n",
            "0\n",
            "0\n",
            "0\n",
            "0\n",
            "0\n",
            "616\n",
            "638\n",
            "647\n",
            "682\n",
            "0\n",
            "395\n",
            "1210\n",
            "653\n",
            "0\n",
            "0\n",
            "3359\n",
            "\n",
            "AFTER NANS REMOVED\n",
            "0\n",
            "0\n",
            "0\n",
            "0\n",
            "0\n",
            "0\n",
            "0\n",
            "0\n",
            "0\n",
            "0\n",
            "0\n",
            "0\n",
            "0\n",
            "0\n",
            "0\n",
            "0\n"
          ]
        },
        {
          "output_type": "execute_result",
          "data": {
            "text/plain": [
              "       INDEX  TARGET  FixedAcidity  VolatileAcidity  CitricAcid  \\\n",
              "0          1       3           3.2            1.160       -0.98   \n",
              "1          2       3           4.5            0.160       -0.81   \n",
              "2          4       5           7.1            2.640       -0.88   \n",
              "3          5       3           5.7            0.385        0.04   \n",
              "4          6       4           8.0            0.330       -1.26   \n",
              "...      ...     ...           ...              ...         ...   \n",
              "12790  16120       0           5.0           -0.790        2.01   \n",
              "12791  16123       5           8.9            0.470        0.29   \n",
              "12792  16127       4           6.0            0.170       -1.10   \n",
              "12793  16128       3           7.7            0.320        0.12   \n",
              "12794  16129       4           5.2           -0.040       -0.81   \n",
              "\n",
              "       ResidualSugar  Chlorides  FreeSulfurDioxide  TotalSulfurDioxide  \\\n",
              "0          54.200000  -0.567000          30.845571          268.000000   \n",
              "1          26.100000  -0.425000          15.000000         -327.000000   \n",
              "2          14.800000   0.037000         214.000000          142.000000   \n",
              "3          18.800000  -0.425000          22.000000          115.000000   \n",
              "4           9.400000   0.054822        -167.000000          108.000000   \n",
              "...              ...        ...                ...                 ...   \n",
              "12790       5.000000   0.043000          17.000000          101.000000   \n",
              "12791      84.900000   0.259000          54.000000          120.714233   \n",
              "12792      37.000000   0.078000          25.000000          108.000000   \n",
              "12793       5.418733   0.029000          26.000000          274.000000   \n",
              "12794      52.700000   0.054822        -106.000000          242.000000   \n",
              "\n",
              "       Density    pH  Sulphates    Alcohol  LabelAppeal  AcidIndex     STARS  \n",
              "0      0.99280  3.33  -0.590000   9.900000            0          8  2.000000  \n",
              "1      1.02792  3.38   0.700000  10.489236           -1          7  3.000000  \n",
              "2      0.99518  3.12   0.480000  22.000000           -1          8  3.000000  \n",
              "3      0.99640  2.24   1.830000   6.200000           -1          6  1.000000  \n",
              "4      0.99457  3.12   1.770000  13.700000            0          9  2.000000  \n",
              "...        ...   ...        ...        ...          ...        ...       ...  \n",
              "12790  1.01077  3.39   0.570000   4.900000            1          5  2.041755  \n",
              "12791  0.99518  4.46  -1.200000  10.489236           -1          8  2.000000  \n",
              "12792  0.99076  3.25   0.527112  12.300000            0          6  2.000000  \n",
              "12793  0.99060  3.97   0.620000  11.000000           -1          6  2.000000  \n",
              "12794  0.99454  3.94  -0.120000   9.900000            0          7  2.000000  \n",
              "\n",
              "[12795 rows x 16 columns]"
            ],
            "text/html": [
              "\n",
              "  <div id=\"df-adc50e9b-25ed-483c-aab3-189d4b5fd56a\">\n",
              "    <div class=\"colab-df-container\">\n",
              "      <div>\n",
              "<style scoped>\n",
              "    .dataframe tbody tr th:only-of-type {\n",
              "        vertical-align: middle;\n",
              "    }\n",
              "\n",
              "    .dataframe tbody tr th {\n",
              "        vertical-align: top;\n",
              "    }\n",
              "\n",
              "    .dataframe thead th {\n",
              "        text-align: right;\n",
              "    }\n",
              "</style>\n",
              "<table border=\"1\" class=\"dataframe\">\n",
              "  <thead>\n",
              "    <tr style=\"text-align: right;\">\n",
              "      <th></th>\n",
              "      <th>INDEX</th>\n",
              "      <th>TARGET</th>\n",
              "      <th>FixedAcidity</th>\n",
              "      <th>VolatileAcidity</th>\n",
              "      <th>CitricAcid</th>\n",
              "      <th>ResidualSugar</th>\n",
              "      <th>Chlorides</th>\n",
              "      <th>FreeSulfurDioxide</th>\n",
              "      <th>TotalSulfurDioxide</th>\n",
              "      <th>Density</th>\n",
              "      <th>pH</th>\n",
              "      <th>Sulphates</th>\n",
              "      <th>Alcohol</th>\n",
              "      <th>LabelAppeal</th>\n",
              "      <th>AcidIndex</th>\n",
              "      <th>STARS</th>\n",
              "    </tr>\n",
              "  </thead>\n",
              "  <tbody>\n",
              "    <tr>\n",
              "      <th>0</th>\n",
              "      <td>1</td>\n",
              "      <td>3</td>\n",
              "      <td>3.2</td>\n",
              "      <td>1.160</td>\n",
              "      <td>-0.98</td>\n",
              "      <td>54.200000</td>\n",
              "      <td>-0.567000</td>\n",
              "      <td>30.845571</td>\n",
              "      <td>268.000000</td>\n",
              "      <td>0.99280</td>\n",
              "      <td>3.33</td>\n",
              "      <td>-0.590000</td>\n",
              "      <td>9.900000</td>\n",
              "      <td>0</td>\n",
              "      <td>8</td>\n",
              "      <td>2.000000</td>\n",
              "    </tr>\n",
              "    <tr>\n",
              "      <th>1</th>\n",
              "      <td>2</td>\n",
              "      <td>3</td>\n",
              "      <td>4.5</td>\n",
              "      <td>0.160</td>\n",
              "      <td>-0.81</td>\n",
              "      <td>26.100000</td>\n",
              "      <td>-0.425000</td>\n",
              "      <td>15.000000</td>\n",
              "      <td>-327.000000</td>\n",
              "      <td>1.02792</td>\n",
              "      <td>3.38</td>\n",
              "      <td>0.700000</td>\n",
              "      <td>10.489236</td>\n",
              "      <td>-1</td>\n",
              "      <td>7</td>\n",
              "      <td>3.000000</td>\n",
              "    </tr>\n",
              "    <tr>\n",
              "      <th>2</th>\n",
              "      <td>4</td>\n",
              "      <td>5</td>\n",
              "      <td>7.1</td>\n",
              "      <td>2.640</td>\n",
              "      <td>-0.88</td>\n",
              "      <td>14.800000</td>\n",
              "      <td>0.037000</td>\n",
              "      <td>214.000000</td>\n",
              "      <td>142.000000</td>\n",
              "      <td>0.99518</td>\n",
              "      <td>3.12</td>\n",
              "      <td>0.480000</td>\n",
              "      <td>22.000000</td>\n",
              "      <td>-1</td>\n",
              "      <td>8</td>\n",
              "      <td>3.000000</td>\n",
              "    </tr>\n",
              "    <tr>\n",
              "      <th>3</th>\n",
              "      <td>5</td>\n",
              "      <td>3</td>\n",
              "      <td>5.7</td>\n",
              "      <td>0.385</td>\n",
              "      <td>0.04</td>\n",
              "      <td>18.800000</td>\n",
              "      <td>-0.425000</td>\n",
              "      <td>22.000000</td>\n",
              "      <td>115.000000</td>\n",
              "      <td>0.99640</td>\n",
              "      <td>2.24</td>\n",
              "      <td>1.830000</td>\n",
              "      <td>6.200000</td>\n",
              "      <td>-1</td>\n",
              "      <td>6</td>\n",
              "      <td>1.000000</td>\n",
              "    </tr>\n",
              "    <tr>\n",
              "      <th>4</th>\n",
              "      <td>6</td>\n",
              "      <td>4</td>\n",
              "      <td>8.0</td>\n",
              "      <td>0.330</td>\n",
              "      <td>-1.26</td>\n",
              "      <td>9.400000</td>\n",
              "      <td>0.054822</td>\n",
              "      <td>-167.000000</td>\n",
              "      <td>108.000000</td>\n",
              "      <td>0.99457</td>\n",
              "      <td>3.12</td>\n",
              "      <td>1.770000</td>\n",
              "      <td>13.700000</td>\n",
              "      <td>0</td>\n",
              "      <td>9</td>\n",
              "      <td>2.000000</td>\n",
              "    </tr>\n",
              "    <tr>\n",
              "      <th>...</th>\n",
              "      <td>...</td>\n",
              "      <td>...</td>\n",
              "      <td>...</td>\n",
              "      <td>...</td>\n",
              "      <td>...</td>\n",
              "      <td>...</td>\n",
              "      <td>...</td>\n",
              "      <td>...</td>\n",
              "      <td>...</td>\n",
              "      <td>...</td>\n",
              "      <td>...</td>\n",
              "      <td>...</td>\n",
              "      <td>...</td>\n",
              "      <td>...</td>\n",
              "      <td>...</td>\n",
              "      <td>...</td>\n",
              "    </tr>\n",
              "    <tr>\n",
              "      <th>12790</th>\n",
              "      <td>16120</td>\n",
              "      <td>0</td>\n",
              "      <td>5.0</td>\n",
              "      <td>-0.790</td>\n",
              "      <td>2.01</td>\n",
              "      <td>5.000000</td>\n",
              "      <td>0.043000</td>\n",
              "      <td>17.000000</td>\n",
              "      <td>101.000000</td>\n",
              "      <td>1.01077</td>\n",
              "      <td>3.39</td>\n",
              "      <td>0.570000</td>\n",
              "      <td>4.900000</td>\n",
              "      <td>1</td>\n",
              "      <td>5</td>\n",
              "      <td>2.041755</td>\n",
              "    </tr>\n",
              "    <tr>\n",
              "      <th>12791</th>\n",
              "      <td>16123</td>\n",
              "      <td>5</td>\n",
              "      <td>8.9</td>\n",
              "      <td>0.470</td>\n",
              "      <td>0.29</td>\n",
              "      <td>84.900000</td>\n",
              "      <td>0.259000</td>\n",
              "      <td>54.000000</td>\n",
              "      <td>120.714233</td>\n",
              "      <td>0.99518</td>\n",
              "      <td>4.46</td>\n",
              "      <td>-1.200000</td>\n",
              "      <td>10.489236</td>\n",
              "      <td>-1</td>\n",
              "      <td>8</td>\n",
              "      <td>2.000000</td>\n",
              "    </tr>\n",
              "    <tr>\n",
              "      <th>12792</th>\n",
              "      <td>16127</td>\n",
              "      <td>4</td>\n",
              "      <td>6.0</td>\n",
              "      <td>0.170</td>\n",
              "      <td>-1.10</td>\n",
              "      <td>37.000000</td>\n",
              "      <td>0.078000</td>\n",
              "      <td>25.000000</td>\n",
              "      <td>108.000000</td>\n",
              "      <td>0.99076</td>\n",
              "      <td>3.25</td>\n",
              "      <td>0.527112</td>\n",
              "      <td>12.300000</td>\n",
              "      <td>0</td>\n",
              "      <td>6</td>\n",
              "      <td>2.000000</td>\n",
              "    </tr>\n",
              "    <tr>\n",
              "      <th>12793</th>\n",
              "      <td>16128</td>\n",
              "      <td>3</td>\n",
              "      <td>7.7</td>\n",
              "      <td>0.320</td>\n",
              "      <td>0.12</td>\n",
              "      <td>5.418733</td>\n",
              "      <td>0.029000</td>\n",
              "      <td>26.000000</td>\n",
              "      <td>274.000000</td>\n",
              "      <td>0.99060</td>\n",
              "      <td>3.97</td>\n",
              "      <td>0.620000</td>\n",
              "      <td>11.000000</td>\n",
              "      <td>-1</td>\n",
              "      <td>6</td>\n",
              "      <td>2.000000</td>\n",
              "    </tr>\n",
              "    <tr>\n",
              "      <th>12794</th>\n",
              "      <td>16129</td>\n",
              "      <td>4</td>\n",
              "      <td>5.2</td>\n",
              "      <td>-0.040</td>\n",
              "      <td>-0.81</td>\n",
              "      <td>52.700000</td>\n",
              "      <td>0.054822</td>\n",
              "      <td>-106.000000</td>\n",
              "      <td>242.000000</td>\n",
              "      <td>0.99454</td>\n",
              "      <td>3.94</td>\n",
              "      <td>-0.120000</td>\n",
              "      <td>9.900000</td>\n",
              "      <td>0</td>\n",
              "      <td>7</td>\n",
              "      <td>2.000000</td>\n",
              "    </tr>\n",
              "  </tbody>\n",
              "</table>\n",
              "<p>12795 rows × 16 columns</p>\n",
              "</div>\n",
              "      <button class=\"colab-df-convert\" onclick=\"convertToInteractive('df-adc50e9b-25ed-483c-aab3-189d4b5fd56a')\"\n",
              "              title=\"Convert this dataframe to an interactive table.\"\n",
              "              style=\"display:none;\">\n",
              "        \n",
              "  <svg xmlns=\"http://www.w3.org/2000/svg\" height=\"24px\"viewBox=\"0 0 24 24\"\n",
              "       width=\"24px\">\n",
              "    <path d=\"M0 0h24v24H0V0z\" fill=\"none\"/>\n",
              "    <path d=\"M18.56 5.44l.94 2.06.94-2.06 2.06-.94-2.06-.94-.94-2.06-.94 2.06-2.06.94zm-11 1L8.5 8.5l.94-2.06 2.06-.94-2.06-.94L8.5 2.5l-.94 2.06-2.06.94zm10 10l.94 2.06.94-2.06 2.06-.94-2.06-.94-.94-2.06-.94 2.06-2.06.94z\"/><path d=\"M17.41 7.96l-1.37-1.37c-.4-.4-.92-.59-1.43-.59-.52 0-1.04.2-1.43.59L10.3 9.45l-7.72 7.72c-.78.78-.78 2.05 0 2.83L4 21.41c.39.39.9.59 1.41.59.51 0 1.02-.2 1.41-.59l7.78-7.78 2.81-2.81c.8-.78.8-2.07 0-2.86zM5.41 20L4 18.59l7.72-7.72 1.47 1.35L5.41 20z\"/>\n",
              "  </svg>\n",
              "      </button>\n",
              "      \n",
              "  <style>\n",
              "    .colab-df-container {\n",
              "      display:flex;\n",
              "      flex-wrap:wrap;\n",
              "      gap: 12px;\n",
              "    }\n",
              "\n",
              "    .colab-df-convert {\n",
              "      background-color: #E8F0FE;\n",
              "      border: none;\n",
              "      border-radius: 50%;\n",
              "      cursor: pointer;\n",
              "      display: none;\n",
              "      fill: #1967D2;\n",
              "      height: 32px;\n",
              "      padding: 0 0 0 0;\n",
              "      width: 32px;\n",
              "    }\n",
              "\n",
              "    .colab-df-convert:hover {\n",
              "      background-color: #E2EBFA;\n",
              "      box-shadow: 0px 1px 2px rgba(60, 64, 67, 0.3), 0px 1px 3px 1px rgba(60, 64, 67, 0.15);\n",
              "      fill: #174EA6;\n",
              "    }\n",
              "\n",
              "    [theme=dark] .colab-df-convert {\n",
              "      background-color: #3B4455;\n",
              "      fill: #D2E3FC;\n",
              "    }\n",
              "\n",
              "    [theme=dark] .colab-df-convert:hover {\n",
              "      background-color: #434B5C;\n",
              "      box-shadow: 0px 1px 3px 1px rgba(0, 0, 0, 0.15);\n",
              "      filter: drop-shadow(0px 1px 2px rgba(0, 0, 0, 0.3));\n",
              "      fill: #FFFFFF;\n",
              "    }\n",
              "  </style>\n",
              "\n",
              "      <script>\n",
              "        const buttonEl =\n",
              "          document.querySelector('#df-adc50e9b-25ed-483c-aab3-189d4b5fd56a button.colab-df-convert');\n",
              "        buttonEl.style.display =\n",
              "          google.colab.kernel.accessAllowed ? 'block' : 'none';\n",
              "\n",
              "        async function convertToInteractive(key) {\n",
              "          const element = document.querySelector('#df-adc50e9b-25ed-483c-aab3-189d4b5fd56a');\n",
              "          const dataTable =\n",
              "            await google.colab.kernel.invokeFunction('convertToInteractive',\n",
              "                                                     [key], {});\n",
              "          if (!dataTable) return;\n",
              "\n",
              "          const docLinkHtml = 'Like what you see? Visit the ' +\n",
              "            '<a target=\"_blank\" href=https://colab.research.google.com/notebooks/data_table.ipynb>data table notebook</a>'\n",
              "            + ' to learn more about interactive tables.';\n",
              "          element.innerHTML = '';\n",
              "          dataTable['output_type'] = 'display_data';\n",
              "          await google.colab.output.renderOutput(dataTable, element);\n",
              "          const docLink = document.createElement('div');\n",
              "          docLink.innerHTML = docLinkHtml;\n",
              "          element.appendChild(docLink);\n",
              "        }\n",
              "      </script>\n",
              "    </div>\n",
              "  </div>\n",
              "  "
            ]
          },
          "metadata": {},
          "execution_count": 482
        }
      ]
    },
    {
      "cell_type": "markdown",
      "source": [
        "### Scaling Data"
      ],
      "metadata": {
        "id": "pzIkteHOnOzH"
      }
    },
    {
      "cell_type": "markdown",
      "source": [
        "The next thing to do is try and find values to scale. For example, I see right away that the Residual Sugar, Free Sulfur Dioxide and Total Sulfur Dioxide attributes all are in very large number quantities. As compared to the other attributes of the data frame, these might cause disparities when trying to compare data. So it seems fit that I should try and scale these attributes."
      ],
      "metadata": {
        "id": "ncf7mb3pnh3u"
      }
    },
    {
      "cell_type": "markdown",
      "source": [
        "To scale them I will divide them by a factor of 10 to decrease the number. Also since they are floats, the decimal points will remain intact in case an exact measurement is needed."
      ],
      "metadata": {
        "id": "Yq-M1dP9rO3K"
      }
    },
    {
      "cell_type": "code",
      "source": [
        "df['ResidualSugar'] = df['ResidualSugar'] / 10\n",
        "df['FreeSulfurDioxide'] = df['FreeSulfurDioxide'] / 10\n",
        "df['TotalSulfurDioxide'] = df['TotalSulfurDioxide'] / 10\n",
        "df"
      ],
      "metadata": {
        "colab": {
          "base_uri": "https://localhost:8080/",
          "height": 424
        },
        "id": "owcOezArocB7",
        "outputId": "90ebf5c1-76c4-4b0f-e797-27f6f16b317c"
      },
      "execution_count": 483,
      "outputs": [
        {
          "output_type": "execute_result",
          "data": {
            "text/plain": [
              "       INDEX  TARGET  FixedAcidity  VolatileAcidity  CitricAcid  \\\n",
              "0          1       3           3.2            1.160       -0.98   \n",
              "1          2       3           4.5            0.160       -0.81   \n",
              "2          4       5           7.1            2.640       -0.88   \n",
              "3          5       3           5.7            0.385        0.04   \n",
              "4          6       4           8.0            0.330       -1.26   \n",
              "...      ...     ...           ...              ...         ...   \n",
              "12790  16120       0           5.0           -0.790        2.01   \n",
              "12791  16123       5           8.9            0.470        0.29   \n",
              "12792  16127       4           6.0            0.170       -1.10   \n",
              "12793  16128       3           7.7            0.320        0.12   \n",
              "12794  16129       4           5.2           -0.040       -0.81   \n",
              "\n",
              "       ResidualSugar  Chlorides  FreeSulfurDioxide  TotalSulfurDioxide  \\\n",
              "0           5.420000  -0.567000           3.084557           26.800000   \n",
              "1           2.610000  -0.425000           1.500000          -32.700000   \n",
              "2           1.480000   0.037000          21.400000           14.200000   \n",
              "3           1.880000  -0.425000           2.200000           11.500000   \n",
              "4           0.940000   0.054822         -16.700000           10.800000   \n",
              "...              ...        ...                ...                 ...   \n",
              "12790       0.500000   0.043000           1.700000           10.100000   \n",
              "12791       8.490000   0.259000           5.400000           12.071423   \n",
              "12792       3.700000   0.078000           2.500000           10.800000   \n",
              "12793       0.541873   0.029000           2.600000           27.400000   \n",
              "12794       5.270000   0.054822         -10.600000           24.200000   \n",
              "\n",
              "       Density    pH  Sulphates    Alcohol  LabelAppeal  AcidIndex     STARS  \n",
              "0      0.99280  3.33  -0.590000   9.900000            0          8  2.000000  \n",
              "1      1.02792  3.38   0.700000  10.489236           -1          7  3.000000  \n",
              "2      0.99518  3.12   0.480000  22.000000           -1          8  3.000000  \n",
              "3      0.99640  2.24   1.830000   6.200000           -1          6  1.000000  \n",
              "4      0.99457  3.12   1.770000  13.700000            0          9  2.000000  \n",
              "...        ...   ...        ...        ...          ...        ...       ...  \n",
              "12790  1.01077  3.39   0.570000   4.900000            1          5  2.041755  \n",
              "12791  0.99518  4.46  -1.200000  10.489236           -1          8  2.000000  \n",
              "12792  0.99076  3.25   0.527112  12.300000            0          6  2.000000  \n",
              "12793  0.99060  3.97   0.620000  11.000000           -1          6  2.000000  \n",
              "12794  0.99454  3.94  -0.120000   9.900000            0          7  2.000000  \n",
              "\n",
              "[12795 rows x 16 columns]"
            ],
            "text/html": [
              "\n",
              "  <div id=\"df-30ff5c86-699c-40a2-94d9-593f9efde852\">\n",
              "    <div class=\"colab-df-container\">\n",
              "      <div>\n",
              "<style scoped>\n",
              "    .dataframe tbody tr th:only-of-type {\n",
              "        vertical-align: middle;\n",
              "    }\n",
              "\n",
              "    .dataframe tbody tr th {\n",
              "        vertical-align: top;\n",
              "    }\n",
              "\n",
              "    .dataframe thead th {\n",
              "        text-align: right;\n",
              "    }\n",
              "</style>\n",
              "<table border=\"1\" class=\"dataframe\">\n",
              "  <thead>\n",
              "    <tr style=\"text-align: right;\">\n",
              "      <th></th>\n",
              "      <th>INDEX</th>\n",
              "      <th>TARGET</th>\n",
              "      <th>FixedAcidity</th>\n",
              "      <th>VolatileAcidity</th>\n",
              "      <th>CitricAcid</th>\n",
              "      <th>ResidualSugar</th>\n",
              "      <th>Chlorides</th>\n",
              "      <th>FreeSulfurDioxide</th>\n",
              "      <th>TotalSulfurDioxide</th>\n",
              "      <th>Density</th>\n",
              "      <th>pH</th>\n",
              "      <th>Sulphates</th>\n",
              "      <th>Alcohol</th>\n",
              "      <th>LabelAppeal</th>\n",
              "      <th>AcidIndex</th>\n",
              "      <th>STARS</th>\n",
              "    </tr>\n",
              "  </thead>\n",
              "  <tbody>\n",
              "    <tr>\n",
              "      <th>0</th>\n",
              "      <td>1</td>\n",
              "      <td>3</td>\n",
              "      <td>3.2</td>\n",
              "      <td>1.160</td>\n",
              "      <td>-0.98</td>\n",
              "      <td>5.420000</td>\n",
              "      <td>-0.567000</td>\n",
              "      <td>3.084557</td>\n",
              "      <td>26.800000</td>\n",
              "      <td>0.99280</td>\n",
              "      <td>3.33</td>\n",
              "      <td>-0.590000</td>\n",
              "      <td>9.900000</td>\n",
              "      <td>0</td>\n",
              "      <td>8</td>\n",
              "      <td>2.000000</td>\n",
              "    </tr>\n",
              "    <tr>\n",
              "      <th>1</th>\n",
              "      <td>2</td>\n",
              "      <td>3</td>\n",
              "      <td>4.5</td>\n",
              "      <td>0.160</td>\n",
              "      <td>-0.81</td>\n",
              "      <td>2.610000</td>\n",
              "      <td>-0.425000</td>\n",
              "      <td>1.500000</td>\n",
              "      <td>-32.700000</td>\n",
              "      <td>1.02792</td>\n",
              "      <td>3.38</td>\n",
              "      <td>0.700000</td>\n",
              "      <td>10.489236</td>\n",
              "      <td>-1</td>\n",
              "      <td>7</td>\n",
              "      <td>3.000000</td>\n",
              "    </tr>\n",
              "    <tr>\n",
              "      <th>2</th>\n",
              "      <td>4</td>\n",
              "      <td>5</td>\n",
              "      <td>7.1</td>\n",
              "      <td>2.640</td>\n",
              "      <td>-0.88</td>\n",
              "      <td>1.480000</td>\n",
              "      <td>0.037000</td>\n",
              "      <td>21.400000</td>\n",
              "      <td>14.200000</td>\n",
              "      <td>0.99518</td>\n",
              "      <td>3.12</td>\n",
              "      <td>0.480000</td>\n",
              "      <td>22.000000</td>\n",
              "      <td>-1</td>\n",
              "      <td>8</td>\n",
              "      <td>3.000000</td>\n",
              "    </tr>\n",
              "    <tr>\n",
              "      <th>3</th>\n",
              "      <td>5</td>\n",
              "      <td>3</td>\n",
              "      <td>5.7</td>\n",
              "      <td>0.385</td>\n",
              "      <td>0.04</td>\n",
              "      <td>1.880000</td>\n",
              "      <td>-0.425000</td>\n",
              "      <td>2.200000</td>\n",
              "      <td>11.500000</td>\n",
              "      <td>0.99640</td>\n",
              "      <td>2.24</td>\n",
              "      <td>1.830000</td>\n",
              "      <td>6.200000</td>\n",
              "      <td>-1</td>\n",
              "      <td>6</td>\n",
              "      <td>1.000000</td>\n",
              "    </tr>\n",
              "    <tr>\n",
              "      <th>4</th>\n",
              "      <td>6</td>\n",
              "      <td>4</td>\n",
              "      <td>8.0</td>\n",
              "      <td>0.330</td>\n",
              "      <td>-1.26</td>\n",
              "      <td>0.940000</td>\n",
              "      <td>0.054822</td>\n",
              "      <td>-16.700000</td>\n",
              "      <td>10.800000</td>\n",
              "      <td>0.99457</td>\n",
              "      <td>3.12</td>\n",
              "      <td>1.770000</td>\n",
              "      <td>13.700000</td>\n",
              "      <td>0</td>\n",
              "      <td>9</td>\n",
              "      <td>2.000000</td>\n",
              "    </tr>\n",
              "    <tr>\n",
              "      <th>...</th>\n",
              "      <td>...</td>\n",
              "      <td>...</td>\n",
              "      <td>...</td>\n",
              "      <td>...</td>\n",
              "      <td>...</td>\n",
              "      <td>...</td>\n",
              "      <td>...</td>\n",
              "      <td>...</td>\n",
              "      <td>...</td>\n",
              "      <td>...</td>\n",
              "      <td>...</td>\n",
              "      <td>...</td>\n",
              "      <td>...</td>\n",
              "      <td>...</td>\n",
              "      <td>...</td>\n",
              "      <td>...</td>\n",
              "    </tr>\n",
              "    <tr>\n",
              "      <th>12790</th>\n",
              "      <td>16120</td>\n",
              "      <td>0</td>\n",
              "      <td>5.0</td>\n",
              "      <td>-0.790</td>\n",
              "      <td>2.01</td>\n",
              "      <td>0.500000</td>\n",
              "      <td>0.043000</td>\n",
              "      <td>1.700000</td>\n",
              "      <td>10.100000</td>\n",
              "      <td>1.01077</td>\n",
              "      <td>3.39</td>\n",
              "      <td>0.570000</td>\n",
              "      <td>4.900000</td>\n",
              "      <td>1</td>\n",
              "      <td>5</td>\n",
              "      <td>2.041755</td>\n",
              "    </tr>\n",
              "    <tr>\n",
              "      <th>12791</th>\n",
              "      <td>16123</td>\n",
              "      <td>5</td>\n",
              "      <td>8.9</td>\n",
              "      <td>0.470</td>\n",
              "      <td>0.29</td>\n",
              "      <td>8.490000</td>\n",
              "      <td>0.259000</td>\n",
              "      <td>5.400000</td>\n",
              "      <td>12.071423</td>\n",
              "      <td>0.99518</td>\n",
              "      <td>4.46</td>\n",
              "      <td>-1.200000</td>\n",
              "      <td>10.489236</td>\n",
              "      <td>-1</td>\n",
              "      <td>8</td>\n",
              "      <td>2.000000</td>\n",
              "    </tr>\n",
              "    <tr>\n",
              "      <th>12792</th>\n",
              "      <td>16127</td>\n",
              "      <td>4</td>\n",
              "      <td>6.0</td>\n",
              "      <td>0.170</td>\n",
              "      <td>-1.10</td>\n",
              "      <td>3.700000</td>\n",
              "      <td>0.078000</td>\n",
              "      <td>2.500000</td>\n",
              "      <td>10.800000</td>\n",
              "      <td>0.99076</td>\n",
              "      <td>3.25</td>\n",
              "      <td>0.527112</td>\n",
              "      <td>12.300000</td>\n",
              "      <td>0</td>\n",
              "      <td>6</td>\n",
              "      <td>2.000000</td>\n",
              "    </tr>\n",
              "    <tr>\n",
              "      <th>12793</th>\n",
              "      <td>16128</td>\n",
              "      <td>3</td>\n",
              "      <td>7.7</td>\n",
              "      <td>0.320</td>\n",
              "      <td>0.12</td>\n",
              "      <td>0.541873</td>\n",
              "      <td>0.029000</td>\n",
              "      <td>2.600000</td>\n",
              "      <td>27.400000</td>\n",
              "      <td>0.99060</td>\n",
              "      <td>3.97</td>\n",
              "      <td>0.620000</td>\n",
              "      <td>11.000000</td>\n",
              "      <td>-1</td>\n",
              "      <td>6</td>\n",
              "      <td>2.000000</td>\n",
              "    </tr>\n",
              "    <tr>\n",
              "      <th>12794</th>\n",
              "      <td>16129</td>\n",
              "      <td>4</td>\n",
              "      <td>5.2</td>\n",
              "      <td>-0.040</td>\n",
              "      <td>-0.81</td>\n",
              "      <td>5.270000</td>\n",
              "      <td>0.054822</td>\n",
              "      <td>-10.600000</td>\n",
              "      <td>24.200000</td>\n",
              "      <td>0.99454</td>\n",
              "      <td>3.94</td>\n",
              "      <td>-0.120000</td>\n",
              "      <td>9.900000</td>\n",
              "      <td>0</td>\n",
              "      <td>7</td>\n",
              "      <td>2.000000</td>\n",
              "    </tr>\n",
              "  </tbody>\n",
              "</table>\n",
              "<p>12795 rows × 16 columns</p>\n",
              "</div>\n",
              "      <button class=\"colab-df-convert\" onclick=\"convertToInteractive('df-30ff5c86-699c-40a2-94d9-593f9efde852')\"\n",
              "              title=\"Convert this dataframe to an interactive table.\"\n",
              "              style=\"display:none;\">\n",
              "        \n",
              "  <svg xmlns=\"http://www.w3.org/2000/svg\" height=\"24px\"viewBox=\"0 0 24 24\"\n",
              "       width=\"24px\">\n",
              "    <path d=\"M0 0h24v24H0V0z\" fill=\"none\"/>\n",
              "    <path d=\"M18.56 5.44l.94 2.06.94-2.06 2.06-.94-2.06-.94-.94-2.06-.94 2.06-2.06.94zm-11 1L8.5 8.5l.94-2.06 2.06-.94-2.06-.94L8.5 2.5l-.94 2.06-2.06.94zm10 10l.94 2.06.94-2.06 2.06-.94-2.06-.94-.94-2.06-.94 2.06-2.06.94z\"/><path d=\"M17.41 7.96l-1.37-1.37c-.4-.4-.92-.59-1.43-.59-.52 0-1.04.2-1.43.59L10.3 9.45l-7.72 7.72c-.78.78-.78 2.05 0 2.83L4 21.41c.39.39.9.59 1.41.59.51 0 1.02-.2 1.41-.59l7.78-7.78 2.81-2.81c.8-.78.8-2.07 0-2.86zM5.41 20L4 18.59l7.72-7.72 1.47 1.35L5.41 20z\"/>\n",
              "  </svg>\n",
              "      </button>\n",
              "      \n",
              "  <style>\n",
              "    .colab-df-container {\n",
              "      display:flex;\n",
              "      flex-wrap:wrap;\n",
              "      gap: 12px;\n",
              "    }\n",
              "\n",
              "    .colab-df-convert {\n",
              "      background-color: #E8F0FE;\n",
              "      border: none;\n",
              "      border-radius: 50%;\n",
              "      cursor: pointer;\n",
              "      display: none;\n",
              "      fill: #1967D2;\n",
              "      height: 32px;\n",
              "      padding: 0 0 0 0;\n",
              "      width: 32px;\n",
              "    }\n",
              "\n",
              "    .colab-df-convert:hover {\n",
              "      background-color: #E2EBFA;\n",
              "      box-shadow: 0px 1px 2px rgba(60, 64, 67, 0.3), 0px 1px 3px 1px rgba(60, 64, 67, 0.15);\n",
              "      fill: #174EA6;\n",
              "    }\n",
              "\n",
              "    [theme=dark] .colab-df-convert {\n",
              "      background-color: #3B4455;\n",
              "      fill: #D2E3FC;\n",
              "    }\n",
              "\n",
              "    [theme=dark] .colab-df-convert:hover {\n",
              "      background-color: #434B5C;\n",
              "      box-shadow: 0px 1px 3px 1px rgba(0, 0, 0, 0.15);\n",
              "      filter: drop-shadow(0px 1px 2px rgba(0, 0, 0, 0.3));\n",
              "      fill: #FFFFFF;\n",
              "    }\n",
              "  </style>\n",
              "\n",
              "      <script>\n",
              "        const buttonEl =\n",
              "          document.querySelector('#df-30ff5c86-699c-40a2-94d9-593f9efde852 button.colab-df-convert');\n",
              "        buttonEl.style.display =\n",
              "          google.colab.kernel.accessAllowed ? 'block' : 'none';\n",
              "\n",
              "        async function convertToInteractive(key) {\n",
              "          const element = document.querySelector('#df-30ff5c86-699c-40a2-94d9-593f9efde852');\n",
              "          const dataTable =\n",
              "            await google.colab.kernel.invokeFunction('convertToInteractive',\n",
              "                                                     [key], {});\n",
              "          if (!dataTable) return;\n",
              "\n",
              "          const docLinkHtml = 'Like what you see? Visit the ' +\n",
              "            '<a target=\"_blank\" href=https://colab.research.google.com/notebooks/data_table.ipynb>data table notebook</a>'\n",
              "            + ' to learn more about interactive tables.';\n",
              "          element.innerHTML = '';\n",
              "          dataTable['output_type'] = 'display_data';\n",
              "          await google.colab.output.renderOutput(dataTable, element);\n",
              "          const docLink = document.createElement('div');\n",
              "          docLink.innerHTML = docLinkHtml;\n",
              "          element.appendChild(docLink);\n",
              "        }\n",
              "      </script>\n",
              "    </div>\n",
              "  </div>\n",
              "  "
            ]
          },
          "metadata": {},
          "execution_count": 483
        }
      ]
    },
    {
      "cell_type": "markdown",
      "source": [
        "## Re-Running EDA Analysis"
      ],
      "metadata": {
        "id": "kDDrIioesHYj"
      }
    },
    {
      "cell_type": "markdown",
      "source": [
        "Now that we have finished cleaning and organizing the data, we should take a look at our analysis again to see if anything has changed."
      ],
      "metadata": {
        "id": "zXVYvjZKseTL"
      }
    },
    {
      "cell_type": "markdown",
      "source": [
        "Lets start with the target values since we have removed all the NaN's. We will be able to see if the NaNs were influencing the data in any way"
      ],
      "metadata": {
        "id": "eYDRDs5ZsmIH"
      }
    },
    {
      "cell_type": "code",
      "source": [
        "%matplotlib inline\n",
        "\n",
        "taplt = df['TARGET'].value_counts().plot.bar(title = \"Target Scores and Num of Wines\")\n",
        "taplt;"
      ],
      "metadata": {
        "colab": {
          "base_uri": "https://localhost:8080/",
          "height": 278
        },
        "id": "y8a7kG7os_6d",
        "outputId": "40bd62eb-8d49-4b07-fcf1-0e8b250e812e"
      },
      "execution_count": 484,
      "outputs": [
        {
          "output_type": "display_data",
          "data": {
            "text/plain": [
              "<Figure size 432x288 with 1 Axes>"
            ],
            "image/png": "[encoded data removed]"
          },
          "metadata": {
            "needs_background": "light"
          }
        }
      ]
    },
    {
      "cell_type": "markdown",
      "source": [
        "As you can see not much has changed. However when looking at attributes that we know had a lot of missing values previously, we can see the differences clearly. For example, the star scores vs alchol levels changed quite a bit."
      ],
      "metadata": {
        "id": "VrlxXkU3tk4V"
      }
    },
    {
      "cell_type": "code",
      "source": [
        "sns.lineplot(data=df['STARS'], x=df['STARS'], y=df['Alcohol'])"
      ],
      "metadata": {
        "colab": {
          "base_uri": "https://localhost:8080/",
          "height": 296
        },
        "id": "RERBEgn0tvf_",
        "outputId": "c89cf26d-9470-4208-904d-8a6952b3018f"
      },
      "execution_count": 485,
      "outputs": [
        {
          "output_type": "execute_result",
          "data": {
            "text/plain": [
              "<matplotlib.axes._subplots.AxesSubplot at 0x7ff507380fd0>"
            ]
          },
          "metadata": {},
          "execution_count": 485
        },
        {
          "output_type": "display_data",
          "data": {
            "text/plain": [
              "<Figure size 432x288 with 1 Axes>"
            ],
            "image/png": "[encoded data removed]"
          },
          "metadata": {
            "needs_background": "light"
          }
        }
      ]
    },
    {
      "cell_type": "markdown",
      "source": [
        "In fact, lets take a look at the overall data for alcohol level now that it's been cleaned"
      ],
      "metadata": {
        "id": "rH6U27vbuIf-"
      }
    },
    {
      "cell_type": "code",
      "source": [
        "sns.distplot(df['Alcohol'])"
      ],
      "metadata": {
        "colab": {
          "base_uri": "https://localhost:8080/",
          "height": 351
        },
        "id": "dWhkx2eeuQag",
        "outputId": "6e95dcc7-f3e7-4f96-a89f-4ed2e43e5be7"
      },
      "execution_count": 486,
      "outputs": [
        {
          "output_type": "stream",
          "name": "stderr",
          "text": [
            "/usr/local/lib/python3.7/dist-packages/seaborn/distributions.py:2619: FutureWarning: `distplot` is a deprecated function and will be removed in a future version. Please adapt your code to use either `displot` (a figure-level function with similar flexibility) or `histplot` (an axes-level function for histograms).\n",
            "  warnings.warn(msg, FutureWarning)\n"
          ]
        },
        {
          "output_type": "execute_result",
          "data": {
            "text/plain": [
              "<matplotlib.axes._subplots.AxesSubplot at 0x7ff507476d10>"
            ]
          },
          "metadata": {},
          "execution_count": 486
        },
        {
          "output_type": "display_data",
          "data": {
            "text/plain": [
              "<Figure size 432x288 with 1 Axes>"
            ],
            "image/png": "[encoded data removed]"
          },
          "metadata": {
            "needs_background": "light"
          }
        }
      ]
    },
    {
      "cell_type": "markdown",
      "source": [
        "We can see a small, but not huge difference here. Showing that the few values that had to be re-scaled did not affect the overall data frame. This is what we were aiming for as replacing them with the 'mean' value usually maintains data integrity."
      ],
      "metadata": {
        "id": "jolbTmkXvdnE"
      }
    },
    {
      "cell_type": "markdown",
      "source": [
        "We should also take a look at the value we had to scale to see if their graphs are more readable."
      ],
      "metadata": {
        "id": "KGn5LY_twNJy"
      }
    },
    {
      "cell_type": "code",
      "source": [
        "sns.distplot(df['ResidualSugar'])"
      ],
      "metadata": {
        "colab": {
          "base_uri": "https://localhost:8080/",
          "height": 351
        },
        "id": "VIS0YVDjwU-p",
        "outputId": "a77f73cb-5205-4c40-ca6f-ea4925695f36"
      },
      "execution_count": 487,
      "outputs": [
        {
          "output_type": "stream",
          "name": "stderr",
          "text": [
            "/usr/local/lib/python3.7/dist-packages/seaborn/distributions.py:2619: FutureWarning: `distplot` is a deprecated function and will be removed in a future version. Please adapt your code to use either `displot` (a figure-level function with similar flexibility) or `histplot` (an axes-level function for histograms).\n",
            "  warnings.warn(msg, FutureWarning)\n"
          ]
        },
        {
          "output_type": "execute_result",
          "data": {
            "text/plain": [
              "<matplotlib.axes._subplots.AxesSubplot at 0x7ff507341e50>"
            ]
          },
          "metadata": {},
          "execution_count": 487
        },
        {
          "output_type": "display_data",
          "data": {
            "text/plain": [
              "<Figure size 432x288 with 1 Axes>"
            ],
            "image/png": "[encoded data removed]"
          },
          "metadata": {
            "needs_background": "light"
          }
        }
      ]
    },
    {
      "cell_type": "code",
      "source": [
        "plt.hist(df['FreeSulfurDioxide']);"
      ],
      "metadata": {
        "colab": {
          "base_uri": "https://localhost:8080/",
          "height": 265
        },
        "id": "tT9571Fcw0xt",
        "outputId": "5315daf0-1cae-4050-d01c-48d6c4cce003"
      },
      "execution_count": 488,
      "outputs": [
        {
          "output_type": "display_data",
          "data": {
            "text/plain": [
              "<Figure size 432x288 with 1 Axes>"
            ],
            "image/png": "[encoded data removed]"
          },
          "metadata": {
            "needs_background": "light"
          }
        }
      ]
    },
    {
      "cell_type": "markdown",
      "source": [
        "So you can see how the values here are on a small scale and can now be more easily organized"
      ],
      "metadata": {
        "id": "ZQwDHgogw8kP"
      }
    },
    {
      "cell_type": "markdown",
      "source": [
        "## Conclusion"
      ],
      "metadata": {
        "id": "1Jvh0OMcxpgp"
      }
    },
    {
      "cell_type": "markdown",
      "source": [
        "In conclusion we are now able to more adequately assess the data set after cleansing and scaling many aspects of it. By analyzing the graph patterns before and after, we are able to see how the small changes made can overall improve the data and help us get ready for the next steps. Cleansing data is an important step that must be taken to insure the data is not only correct, but able to withstand the various algorithms and restructers it will go through during the rest of our data analysis"
      ],
      "metadata": {
        "id": "OPgF875yxraO"
      }
    },
    {
      "cell_type": "markdown",
      "source": [
        "## Sources\n",
        "https://seaborn.pydata.org/generated/seaborn.displot.html\n",
        "https://datatofish.com/check-nan-pandas-dataframe/\n",
        "https://stackoverflow.com/questions/29299597/python-pandas-replace-values-by-their-opposite-sign\n",
        "https://seaborn.pydata.org/generated/seaborn.lineplot.html\n",
        "https://stackoverflow.com/questions/29530232/how-to-check-if-any-value-is-nan-in-a-pandas-dataframe"
      ],
      "metadata": {
        "id": "MfaXfaZc0e1Q"
      }
    }
  ]
}