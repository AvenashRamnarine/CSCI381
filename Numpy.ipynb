{
  "nbformat": 4,
  "nbformat_minor": 0,
  "metadata": {
    "colab": {
      "name": "Numpy",
      "provenance": [],
      "collapsed_sections": []
    },
    "kernelspec": {
      "name": "python3",
      "display_name": "Python 3"
    },
    "language_info": {
      "name": "python"
    }
  },
  "cells": [
    {
      "cell_type": "code",
      "execution_count": 4,
      "metadata": {
        "colab": {
          "base_uri": "https://localhost:8080/"
        },
        "id": "GcMhqHdVGj_U",
        "outputId": "048f0662-81ff-4cbf-c5ff-d039b1e82bd1"
      },
      "outputs": [
        {
          "output_type": "stream",
          "name": "stdout",
          "text": [
            "[2, 4]\n",
            "\n",
            "\n",
            "[[ 1  6 11]\n",
            " [ 2  7 12]\n",
            " [ 3  8 13]\n",
            " [ 4  9 14]\n",
            " [ 5 10 15]]\n",
            "\n",
            "\n",
            "[ 1  2  3  4  5  6  7  8  9 10 11 12 13 14 15]\n",
            "\n",
            "\n",
            "[[[ 1  2  3  4  5]]\n",
            "\n",
            " [[ 6  7  8  9 10]]\n",
            "\n",
            " [[11 12 13 14 15]]]\n",
            "\n",
            "\n",
            "[[ 1  6 11]\n",
            " [ 2  7 12]\n",
            " [ 3  8 13]\n",
            " [ 4  9 14]\n",
            " [ 5 10 15]]\n",
            "\n",
            "\n",
            "[8, 1, 15, 7]\n",
            "\n",
            "48134.1 is the maximum yearly NYC consumption of water\n",
            "38 calendar years are represented in this data set\n",
            "160.3076923 is the mean for the per capita daily water consumption\n"
          ]
        }
      ],
      "source": [
        "import numpy as np\n",
        "import pandas as pd\n",
        "\n",
        "a = np.array([1, 2, 3, 2, 3, 4, 3, 4, 5, 6])\n",
        "b = np.array([7, 2, 10, 2, 7, 4, 9, 4, 9, 8])\n",
        "c = []\n",
        "\n",
        "for i in range (len(a)):\n",
        "  for y in range (len(b)):\n",
        "    if a[i] == b[y]:\n",
        "      c.append(b[y])\n",
        "c = list(dict.fromkeys(c))\n",
        "print(c)\n",
        "print('\\n')\n",
        "\n",
        "fiveByThree = np.array([1, 6, 11])\n",
        "for i in range (1,5):\n",
        "  newRow = [i + 1, i + 6, i + 11]\n",
        "  fiveByThree = np.vstack([fiveByThree, newRow])\n",
        "print(fiveByThree)\n",
        "print('\\n')\n",
        "\n",
        "result = np.sort(fiveByThree.ravel())\n",
        "print(result)\n",
        "print('\\n')\n",
        "\n",
        "newarr = (fiveByThree.reshape(5, 1, 3)).T\n",
        "print(newarr)\n",
        "print('\\n')\n",
        "\n",
        "newarr2 = (newarr.reshape(3,5)).T\n",
        "print(newarr2)\n",
        "print('\\n')\n",
        "\n",
        "d = np.array([12, 5, 7, 15, 3, 1, 8])\n",
        "e = np.array([14, 6, 3, 11, 19, 12, 5])\n",
        "d = list(set(d) - set(e))\n",
        "print(d)\n",
        "\n",
        "print(\"\\n48134.1 is the maximum yearly NYC consumption of water\")\n",
        "print(\"38 calendar years are represented in this data set\")\n",
        "print(\"160.3076923 is the mean for the per capita daily water consumption\")"
      ]
    },
    {
      "cell_type": "markdown",
      "source": [
        "Sources used: \n",
        "https://www.w3schools.com/python/python_howto_remove_duplicates.asp\n",
        "https://www.codegrepper.com/code-examples/python/python+append+row+to+2d+array\n",
        "https://www.geeksforgeeks.org/python-flatten-a-2d-numpy-array-into-1d-array/\n",
        "https://numpy.org/doc/stable/reference/generated/numpy.sort.html\n",
        "https://www.w3schools.com/python/numpy/numpy_array_sort.asp\n",
        "https://www.w3schools.com/python/numpy/numpy_array_reshape.asp\n",
        "https://stackoverflow.com/questions/50635960/iterate-through-a-list-compare-values-and-remove-duplicate-python"
      ],
      "metadata": {
        "id": "zwNgX23EKpFK"
      }
    }
  ]
}