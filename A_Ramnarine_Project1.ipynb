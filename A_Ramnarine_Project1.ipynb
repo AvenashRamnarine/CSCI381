{
  "nbformat": 4,
  "nbformat_minor": 0,
  "metadata": {
    "colab": {
      "name": "A_Ramnarine_Project1.ipynb",
      "provenance": [],
      "collapsed_sections": []
    },
    "kernelspec": {
      "name": "python3",
      "display_name": "Python 3"
    },
    "language_info": {
      "name": "python"
    }
  },
  "cells": [
    {
      "cell_type": "markdown",
      "source": [
        "## Pima Indians Diabetes Data Set\n",
        "\n",
        "This data set represents the Pima Indian population and their predicted diabetes chance as per a study conducted by the National Institute of Diabetes and Digestive and Kidney Diseases. The study was conducted exclusively on females within the population and measured specific medical attributes within each individual. Those attributes are:\n",
        "1. Pregnancies - Number of times pregnant\n",
        "2. Glucose - Plasma glucose concentration at 2 hours in an oral glucose tolerance test\n",
        "3. BloodPressure - Diastolic blood pressure (mmHg)\n",
        "4. SkinThickness - Triceps skin fold thickness (mm)\n",
        "5. Insulin - 2-Hour serum insulin (mu U/ml)\n",
        "6. BMI - Body mass index (weight in kg/(height in m)42)\n",
        "7. DiabetesPedigreeFunction - Diabetes pedigree function\n",
        "8. Age - Age (years)\n",
        "9. Outcome - Target Variable to predict whether or not patient will develop diabetes (1 yes 0 no)"
      ],
      "metadata": {
        "id": "P2KNJsHEXGFm"
      }
    },
    {
      "cell_type": "code",
      "execution_count": 1,
      "metadata": {
        "colab": {
          "base_uri": "https://localhost:8080/",
          "height": 424
        },
        "id": "T_0VJnA9TNG-",
        "outputId": "1aa0bc9d-2dde-454d-f070-fc93c129e739"
      },
      "outputs": [
        {
          "output_type": "execute_result",
          "data": {
            "text/plain": [
              "     Pregnancies  Glucose  BloodPressure  SkinThickness  Insulin   BMI  \\\n",
              "0              6      148             72             35        0  33.6   \n",
              "1              1       85             66             29        0  26.6   \n",
              "2              8      183             64              0        0  23.3   \n",
              "3              1       89             66             23       94  28.1   \n",
              "4              0      137             40             35      168  43.1   \n",
              "..           ...      ...            ...            ...      ...   ...   \n",
              "763           10      101             76             48      180  32.9   \n",
              "764            2      122             70             27        0  36.8   \n",
              "765            5      121             72             23      112  26.2   \n",
              "766            1      126             60              0        0  30.1   \n",
              "767            1       93             70             31        0  30.4   \n",
              "\n",
              "     DiabetesPedigreeFunction  Age  Outcome  \n",
              "0                       0.627   50        1  \n",
              "1                       0.351   31        0  \n",
              "2                       0.672   32        1  \n",
              "3                       0.167   21        0  \n",
              "4                       2.288   33        1  \n",
              "..                        ...  ...      ...  \n",
              "763                     0.171   63        0  \n",
              "764                     0.340   27        0  \n",
              "765                     0.245   30        0  \n",
              "766                     0.349   47        1  \n",
              "767                     0.315   23        0  \n",
              "\n",
              "[768 rows x 9 columns]"
            ],
            "text/html": [
              "\n",
              "  <div id=\"df-5cd843a0-f7da-4336-a9ca-2986ecbc9466\">\n",
              "    <div class=\"colab-df-container\">\n",
              "      <div>\n",
              "<style scoped>\n",
              "    .dataframe tbody tr th:only-of-type {\n",
              "        vertical-align: middle;\n",
              "    }\n",
              "\n",
              "    .dataframe tbody tr th {\n",
              "        vertical-align: top;\n",
              "    }\n",
              "\n",
              "    .dataframe thead th {\n",
              "        text-align: right;\n",
              "    }\n",
              "</style>\n",
              "<table border=\"1\" class=\"dataframe\">\n",
              "  <thead>\n",
              "    <tr style=\"text-align: right;\">\n",
              "      <th></th>\n",
              "      <th>Pregnancies</th>\n",
              "      <th>Glucose</th>\n",
              "      <th>BloodPressure</th>\n",
              "      <th>SkinThickness</th>\n",
              "      <th>Insulin</th>\n",
              "      <th>BMI</th>\n",
              "      <th>DiabetesPedigreeFunction</th>\n",
              "      <th>Age</th>\n",
              "      <th>Outcome</th>\n",
              "    </tr>\n",
              "  </thead>\n",
              "  <tbody>\n",
              "    <tr>\n",
              "      <th>0</th>\n",
              "      <td>6</td>\n",
              "      <td>148</td>\n",
              "      <td>72</td>\n",
              "      <td>35</td>\n",
              "      <td>0</td>\n",
              "      <td>33.6</td>\n",
              "      <td>0.627</td>\n",
              "      <td>50</td>\n",
              "      <td>1</td>\n",
              "    </tr>\n",
              "    <tr>\n",
              "      <th>1</th>\n",
              "      <td>1</td>\n",
              "      <td>85</td>\n",
              "      <td>66</td>\n",
              "      <td>29</td>\n",
              "      <td>0</td>\n",
              "      <td>26.6</td>\n",
              "      <td>0.351</td>\n",
              "      <td>31</td>\n",
              "      <td>0</td>\n",
              "    </tr>\n",
              "    <tr>\n",
              "      <th>2</th>\n",
              "      <td>8</td>\n",
              "      <td>183</td>\n",
              "      <td>64</td>\n",
              "      <td>0</td>\n",
              "      <td>0</td>\n",
              "      <td>23.3</td>\n",
              "      <td>0.672</td>\n",
              "      <td>32</td>\n",
              "      <td>1</td>\n",
              "    </tr>\n",
              "    <tr>\n",
              "      <th>3</th>\n",
              "      <td>1</td>\n",
              "      <td>89</td>\n",
              "      <td>66</td>\n",
              "      <td>23</td>\n",
              "      <td>94</td>\n",
              "      <td>28.1</td>\n",
              "      <td>0.167</td>\n",
              "      <td>21</td>\n",
              "      <td>0</td>\n",
              "    </tr>\n",
              "    <tr>\n",
              "      <th>4</th>\n",
              "      <td>0</td>\n",
              "      <td>137</td>\n",
              "      <td>40</td>\n",
              "      <td>35</td>\n",
              "      <td>168</td>\n",
              "      <td>43.1</td>\n",
              "      <td>2.288</td>\n",
              "      <td>33</td>\n",
              "      <td>1</td>\n",
              "    </tr>\n",
              "    <tr>\n",
              "      <th>...</th>\n",
              "      <td>...</td>\n",
              "      <td>...</td>\n",
              "      <td>...</td>\n",
              "      <td>...</td>\n",
              "      <td>...</td>\n",
              "      <td>...</td>\n",
              "      <td>...</td>\n",
              "      <td>...</td>\n",
              "      <td>...</td>\n",
              "    </tr>\n",
              "    <tr>\n",
              "      <th>763</th>\n",
              "      <td>10</td>\n",
              "      <td>101</td>\n",
              "      <td>76</td>\n",
              "      <td>48</td>\n",
              "      <td>180</td>\n",
              "      <td>32.9</td>\n",
              "      <td>0.171</td>\n",
              "      <td>63</td>\n",
              "      <td>0</td>\n",
              "    </tr>\n",
              "    <tr>\n",
              "      <th>764</th>\n",
              "      <td>2</td>\n",
              "      <td>122</td>\n",
              "      <td>70</td>\n",
              "      <td>27</td>\n",
              "      <td>0</td>\n",
              "      <td>36.8</td>\n",
              "      <td>0.340</td>\n",
              "      <td>27</td>\n",
              "      <td>0</td>\n",
              "    </tr>\n",
              "    <tr>\n",
              "      <th>765</th>\n",
              "      <td>5</td>\n",
              "      <td>121</td>\n",
              "      <td>72</td>\n",
              "      <td>23</td>\n",
              "      <td>112</td>\n",
              "      <td>26.2</td>\n",
              "      <td>0.245</td>\n",
              "      <td>30</td>\n",
              "      <td>0</td>\n",
              "    </tr>\n",
              "    <tr>\n",
              "      <th>766</th>\n",
              "      <td>1</td>\n",
              "      <td>126</td>\n",
              "      <td>60</td>\n",
              "      <td>0</td>\n",
              "      <td>0</td>\n",
              "      <td>30.1</td>\n",
              "      <td>0.349</td>\n",
              "      <td>47</td>\n",
              "      <td>1</td>\n",
              "    </tr>\n",
              "    <tr>\n",
              "      <th>767</th>\n",
              "      <td>1</td>\n",
              "      <td>93</td>\n",
              "      <td>70</td>\n",
              "      <td>31</td>\n",
              "      <td>0</td>\n",
              "      <td>30.4</td>\n",
              "      <td>0.315</td>\n",
              "      <td>23</td>\n",
              "      <td>0</td>\n",
              "    </tr>\n",
              "  </tbody>\n",
              "</table>\n",
              "<p>768 rows × 9 columns</p>\n",
              "</div>\n",
              "      <button class=\"colab-df-convert\" onclick=\"convertToInteractive('df-5cd843a0-f7da-4336-a9ca-2986ecbc9466')\"\n",
              "              title=\"Convert this dataframe to an interactive table.\"\n",
              "              style=\"display:none;\">\n",
              "        \n",
              "  <svg xmlns=\"http://www.w3.org/2000/svg\" height=\"24px\"viewBox=\"0 0 24 24\"\n",
              "       width=\"24px\">\n",
              "    <path d=\"M0 0h24v24H0V0z\" fill=\"none\"/>\n",
              "    <path d=\"M18.56 5.44l.94 2.06.94-2.06 2.06-.94-2.06-.94-.94-2.06-.94 2.06-2.06.94zm-11 1L8.5 8.5l.94-2.06 2.06-.94-2.06-.94L8.5 2.5l-.94 2.06-2.06.94zm10 10l.94 2.06.94-2.06 2.06-.94-2.06-.94-.94-2.06-.94 2.06-2.06.94z\"/><path d=\"M17.41 7.96l-1.37-1.37c-.4-.4-.92-.59-1.43-.59-.52 0-1.04.2-1.43.59L10.3 9.45l-7.72 7.72c-.78.78-.78 2.05 0 2.83L4 21.41c.39.39.9.59 1.41.59.51 0 1.02-.2 1.41-.59l7.78-7.78 2.81-2.81c.8-.78.8-2.07 0-2.86zM5.41 20L4 18.59l7.72-7.72 1.47 1.35L5.41 20z\"/>\n",
              "  </svg>\n",
              "      </button>\n",
              "      \n",
              "  <style>\n",
              "    .colab-df-container {\n",
              "      display:flex;\n",
              "      flex-wrap:wrap;\n",
              "      gap: 12px;\n",
              "    }\n",
              "\n",
              "    .colab-df-convert {\n",
              "      background-color: #E8F0FE;\n",
              "      border: none;\n",
              "      border-radius: 50%;\n",
              "      cursor: pointer;\n",
              "      display: none;\n",
              "      fill: #1967D2;\n",
              "      height: 32px;\n",
              "      padding: 0 0 0 0;\n",
              "      width: 32px;\n",
              "    }\n",
              "\n",
              "    .colab-df-convert:hover {\n",
              "      background-color: #E2EBFA;\n",
              "      box-shadow: 0px 1px 2px rgba(60, 64, 67, 0.3), 0px 1px 3px 1px rgba(60, 64, 67, 0.15);\n",
              "      fill: #174EA6;\n",
              "    }\n",
              "\n",
              "    [theme=dark] .colab-df-convert {\n",
              "      background-color: #3B4455;\n",
              "      fill: #D2E3FC;\n",
              "    }\n",
              "\n",
              "    [theme=dark] .colab-df-convert:hover {\n",
              "      background-color: #434B5C;\n",
              "      box-shadow: 0px 1px 3px 1px rgba(0, 0, 0, 0.15);\n",
              "      filter: drop-shadow(0px 1px 2px rgba(0, 0, 0, 0.3));\n",
              "      fill: #FFFFFF;\n",
              "    }\n",
              "  </style>\n",
              "\n",
              "      <script>\n",
              "        const buttonEl =\n",
              "          document.querySelector('#df-5cd843a0-f7da-4336-a9ca-2986ecbc9466 button.colab-df-convert');\n",
              "        buttonEl.style.display =\n",
              "          google.colab.kernel.accessAllowed ? 'block' : 'none';\n",
              "\n",
              "        async function convertToInteractive(key) {\n",
              "          const element = document.querySelector('#df-5cd843a0-f7da-4336-a9ca-2986ecbc9466');\n",
              "          const dataTable =\n",
              "            await google.colab.kernel.invokeFunction('convertToInteractive',\n",
              "                                                     [key], {});\n",
              "          if (!dataTable) return;\n",
              "\n",
              "          const docLinkHtml = 'Like what you see? Visit the ' +\n",
              "            '<a target=\"_blank\" href=https://colab.research.google.com/notebooks/data_table.ipynb>data table notebook</a>'\n",
              "            + ' to learn more about interactive tables.';\n",
              "          element.innerHTML = '';\n",
              "          dataTable['output_type'] = 'display_data';\n",
              "          await google.colab.output.renderOutput(dataTable, element);\n",
              "          const docLink = document.createElement('div');\n",
              "          docLink.innerHTML = docLinkHtml;\n",
              "          element.appendChild(docLink);\n",
              "        }\n",
              "      </script>\n",
              "    </div>\n",
              "  </div>\n",
              "  "
            ]
          },
          "metadata": {},
          "execution_count": 1
        }
      ],
      "source": [
        "import matplotlib.pyplot as plt\n",
        "import numpy as np\n",
        "import pandas as pd\n",
        "import seaborn as sns\n",
        "from random import randrange\n",
        "\n",
        "df = pd.read_csv('https://raw.githubusercontent.com/AvenashRamnarine/CSCI381/main/diabetes.csv')\n",
        "df"
      ]
    },
    {
      "cell_type": "markdown",
      "source": [
        "To preform our EDA the first thing we should do is check for any null values within the data set. Null values can cause complications within the data when evaluating different attributes therefore we should address them as early as possible."
      ],
      "metadata": {
        "id": "8QzHm7YfajXD"
      }
    },
    {
      "cell_type": "code",
      "source": [
        "df.isnull().sum()"
      ],
      "metadata": {
        "colab": {
          "base_uri": "https://localhost:8080/"
        },
        "id": "ZuX5byq5azxN",
        "outputId": "293ba8a4-b87b-4167-a172-8af7626f628c"
      },
      "execution_count": 2,
      "outputs": [
        {
          "output_type": "execute_result",
          "data": {
            "text/plain": [
              "Pregnancies                 0\n",
              "Glucose                     0\n",
              "BloodPressure               0\n",
              "SkinThickness               0\n",
              "Insulin                     0\n",
              "BMI                         0\n",
              "DiabetesPedigreeFunction    0\n",
              "Age                         0\n",
              "Outcome                     0\n",
              "dtype: int64"
            ]
          },
          "metadata": {},
          "execution_count": 2
        }
      ]
    },
    {
      "cell_type": "markdown",
      "source": [
        "Here we can see that the data does not contain any null values which is great. This means that we can begin analysis without having to worry about missing data."
      ],
      "metadata": {
        "id": "qrbOHQfgdXQe"
      }
    },
    {
      "cell_type": "markdown",
      "source": [
        "Lets start by taking a look at the data as a whole. Using histograms seems to be the most practical approach here."
      ],
      "metadata": {
        "id": "fs6I9uohfFa2"
      }
    },
    {
      "cell_type": "code",
      "source": [
        "df.hist(bins=50, figsize=(15,10))\n",
        "plt.show()"
      ],
      "metadata": {
        "colab": {
          "base_uri": "https://localhost:8080/",
          "height": 607
        },
        "id": "yK_Yh-BXfdO9",
        "outputId": "bac501b7-fc01-4081-b991-ac1c3fec368a"
      },
      "execution_count": 3,
      "outputs": [
        {
          "output_type": "display_data",
          "data": {
            "text/plain": [
              "<Figure size 1080x720 with 9 Axes>"
            ],
            "image/png": "[encoded data removed]"
          },
          "metadata": {
            "needs_background": "light"
          }
        }
      ]
    },
    {
      "cell_type": "markdown",
      "source": [
        "Running this histograms gives us an insight into the data, however almost immediately you can spot an issue with it. There seems to be an abnormally large amount of '0' data points within the various attributes. For example in Glucose, BloodPressure, SkinThickness, Insulin, and BMI. Based on previous knowledege of these medical traits this is simply impossible for a human to have '0' of any of these attributes. We must remove them or change them."
      ],
      "metadata": {
        "id": "TXDDd8gBf6h8"
      }
    },
    {
      "cell_type": "markdown",
      "source": [
        "Now that we have spotted a problem in the data lets see how many instances of it there are."
      ],
      "metadata": {
        "id": "QvPwucUOgi2q"
      }
    },
    {
      "cell_type": "code",
      "source": [
        "#Drop the last column 'outcome' since it will mess up our count\n",
        "fixed = df.iloc[: , :-1]\n",
        "#In the temp data frame replace all 0's with null\n",
        "fixed = fixed.replace(0, np.nan)\n",
        "#Count the amount of nulls within the data frame (representing # of zeros)\n",
        "print(fixed.isnull().sum())"
      ],
      "metadata": {
        "colab": {
          "base_uri": "https://localhost:8080/"
        },
        "id": "Pnthp43xgouT",
        "outputId": "8e969942-bc74-4c67-a079-c6c51c58624e"
      },
      "execution_count": 4,
      "outputs": [
        {
          "output_type": "stream",
          "name": "stdout",
          "text": [
            "Pregnancies                 111\n",
            "Glucose                       5\n",
            "BloodPressure                35\n",
            "SkinThickness               227\n",
            "Insulin                     374\n",
            "BMI                          11\n",
            "DiabetesPedigreeFunction      0\n",
            "Age                           0\n",
            "dtype: int64\n"
          ]
        }
      ]
    },
    {
      "cell_type": "markdown",
      "source": [
        "We can see here that there are a lot of values represented by 0 which, as we stated earlier, makes no sense. A solution to this issue is to replace these values with the mean of their respective columns. We could also drop these entries from the data set as that would be easiest. However given the large amount of data that has issues, the better approach would be to replace with the mean. This will ensure the data entries won't be dropped entirely and also wont skew the data in any particular direction. So in short, we have to calculate the mean of every affected column and insert that value to any instances of '0' (Or null in this implementation) "
      ],
      "metadata": {
        "id": "YE9d_RbNjxY8"
      }
    },
    {
      "cell_type": "code",
      "source": [
        "#Create a series of all the means for each column in the data frame\n",
        "column_means = fixed.mean()\n",
        "#Fill all the null values with their respective means for that column\n",
        "fixed = fixed.fillna(column_means)\n",
        "\n",
        "#Extract the 'Outcome' column from our original data frame\n",
        "extracted_col = df[\"Outcome\"]\n",
        "#Add the 'Outcome' column to the fixed data frame\n",
        "fixed = fixed.join(extracted_col)\n",
        "#Now that the fixed data frame mirrors the original data frame \n",
        "#with issues fixed, set our original data frame to fixed version\n",
        "df = fixed\n",
        "df"
      ],
      "metadata": {
        "colab": {
          "base_uri": "https://localhost:8080/",
          "height": 424
        },
        "id": "2KxrnsMxkw_u",
        "outputId": "2586c861-989c-4ae3-e469-1077763a6d54"
      },
      "execution_count": 5,
      "outputs": [
        {
          "output_type": "execute_result",
          "data": {
            "text/plain": [
              "     Pregnancies  Glucose  BloodPressure  SkinThickness     Insulin   BMI  \\\n",
              "0       6.000000    148.0           72.0       35.00000  155.548223  33.6   \n",
              "1       1.000000     85.0           66.0       29.00000  155.548223  26.6   \n",
              "2       8.000000    183.0           64.0       29.15342  155.548223  23.3   \n",
              "3       1.000000     89.0           66.0       23.00000   94.000000  28.1   \n",
              "4       4.494673    137.0           40.0       35.00000  168.000000  43.1   \n",
              "..           ...      ...            ...            ...         ...   ...   \n",
              "763    10.000000    101.0           76.0       48.00000  180.000000  32.9   \n",
              "764     2.000000    122.0           70.0       27.00000  155.548223  36.8   \n",
              "765     5.000000    121.0           72.0       23.00000  112.000000  26.2   \n",
              "766     1.000000    126.0           60.0       29.15342  155.548223  30.1   \n",
              "767     1.000000     93.0           70.0       31.00000  155.548223  30.4   \n",
              "\n",
              "     DiabetesPedigreeFunction  Age  Outcome  \n",
              "0                       0.627   50        1  \n",
              "1                       0.351   31        0  \n",
              "2                       0.672   32        1  \n",
              "3                       0.167   21        0  \n",
              "4                       2.288   33        1  \n",
              "..                        ...  ...      ...  \n",
              "763                     0.171   63        0  \n",
              "764                     0.340   27        0  \n",
              "765                     0.245   30        0  \n",
              "766                     0.349   47        1  \n",
              "767                     0.315   23        0  \n",
              "\n",
              "[768 rows x 9 columns]"
            ],
            "text/html": [
              "\n",
              "  <div id=\"df-61e0bd9c-98f3-46ae-9dea-79277cc24793\">\n",
              "    <div class=\"colab-df-container\">\n",
              "      <div>\n",
              "<style scoped>\n",
              "    .dataframe tbody tr th:only-of-type {\n",
              "        vertical-align: middle;\n",
              "    }\n",
              "\n",
              "    .dataframe tbody tr th {\n",
              "        vertical-align: top;\n",
              "    }\n",
              "\n",
              "    .dataframe thead th {\n",
              "        text-align: right;\n",
              "    }\n",
              "</style>\n",
              "<table border=\"1\" class=\"dataframe\">\n",
              "  <thead>\n",
              "    <tr style=\"text-align: right;\">\n",
              "      <th></th>\n",
              "      <th>Pregnancies</th>\n",
              "      <th>Glucose</th>\n",
              "      <th>BloodPressure</th>\n",
              "      <th>SkinThickness</th>\n",
              "      <th>Insulin</th>\n",
              "      <th>BMI</th>\n",
              "      <th>DiabetesPedigreeFunction</th>\n",
              "      <th>Age</th>\n",
              "      <th>Outcome</th>\n",
              "    </tr>\n",
              "  </thead>\n",
              "  <tbody>\n",
              "    <tr>\n",
              "      <th>0</th>\n",
              "      <td>6.000000</td>\n",
              "      <td>148.0</td>\n",
              "      <td>72.0</td>\n",
              "      <td>35.00000</td>\n",
              "      <td>155.548223</td>\n",
              "      <td>33.6</td>\n",
              "      <td>0.627</td>\n",
              "      <td>50</td>\n",
              "      <td>1</td>\n",
              "    </tr>\n",
              "    <tr>\n",
              "      <th>1</th>\n",
              "      <td>1.000000</td>\n",
              "      <td>85.0</td>\n",
              "      <td>66.0</td>\n",
              "      <td>29.00000</td>\n",
              "      <td>155.548223</td>\n",
              "      <td>26.6</td>\n",
              "      <td>0.351</td>\n",
              "      <td>31</td>\n",
              "      <td>0</td>\n",
              "    </tr>\n",
              "    <tr>\n",
              "      <th>2</th>\n",
              "      <td>8.000000</td>\n",
              "      <td>183.0</td>\n",
              "      <td>64.0</td>\n",
              "      <td>29.15342</td>\n",
              "      <td>155.548223</td>\n",
              "      <td>23.3</td>\n",
              "      <td>0.672</td>\n",
              "      <td>32</td>\n",
              "      <td>1</td>\n",
              "    </tr>\n",
              "    <tr>\n",
              "      <th>3</th>\n",
              "      <td>1.000000</td>\n",
              "      <td>89.0</td>\n",
              "      <td>66.0</td>\n",
              "      <td>23.00000</td>\n",
              "      <td>94.000000</td>\n",
              "      <td>28.1</td>\n",
              "      <td>0.167</td>\n",
              "      <td>21</td>\n",
              "      <td>0</td>\n",
              "    </tr>\n",
              "    <tr>\n",
              "      <th>4</th>\n",
              "      <td>4.494673</td>\n",
              "      <td>137.0</td>\n",
              "      <td>40.0</td>\n",
              "      <td>35.00000</td>\n",
              "      <td>168.000000</td>\n",
              "      <td>43.1</td>\n",
              "      <td>2.288</td>\n",
              "      <td>33</td>\n",
              "      <td>1</td>\n",
              "    </tr>\n",
              "    <tr>\n",
              "      <th>...</th>\n",
              "      <td>...</td>\n",
              "      <td>...</td>\n",
              "      <td>...</td>\n",
              "      <td>...</td>\n",
              "      <td>...</td>\n",
              "      <td>...</td>\n",
              "      <td>...</td>\n",
              "      <td>...</td>\n",
              "      <td>...</td>\n",
              "    </tr>\n",
              "    <tr>\n",
              "      <th>763</th>\n",
              "      <td>10.000000</td>\n",
              "      <td>101.0</td>\n",
              "      <td>76.0</td>\n",
              "      <td>48.00000</td>\n",
              "      <td>180.000000</td>\n",
              "      <td>32.9</td>\n",
              "      <td>0.171</td>\n",
              "      <td>63</td>\n",
              "      <td>0</td>\n",
              "    </tr>\n",
              "    <tr>\n",
              "      <th>764</th>\n",
              "      <td>2.000000</td>\n",
              "      <td>122.0</td>\n",
              "      <td>70.0</td>\n",
              "      <td>27.00000</td>\n",
              "      <td>155.548223</td>\n",
              "      <td>36.8</td>\n",
              "      <td>0.340</td>\n",
              "      <td>27</td>\n",
              "      <td>0</td>\n",
              "    </tr>\n",
              "    <tr>\n",
              "      <th>765</th>\n",
              "      <td>5.000000</td>\n",
              "      <td>121.0</td>\n",
              "      <td>72.0</td>\n",
              "      <td>23.00000</td>\n",
              "      <td>112.000000</td>\n",
              "      <td>26.2</td>\n",
              "      <td>0.245</td>\n",
              "      <td>30</td>\n",
              "      <td>0</td>\n",
              "    </tr>\n",
              "    <tr>\n",
              "      <th>766</th>\n",
              "      <td>1.000000</td>\n",
              "      <td>126.0</td>\n",
              "      <td>60.0</td>\n",
              "      <td>29.15342</td>\n",
              "      <td>155.548223</td>\n",
              "      <td>30.1</td>\n",
              "      <td>0.349</td>\n",
              "      <td>47</td>\n",
              "      <td>1</td>\n",
              "    </tr>\n",
              "    <tr>\n",
              "      <th>767</th>\n",
              "      <td>1.000000</td>\n",
              "      <td>93.0</td>\n",
              "      <td>70.0</td>\n",
              "      <td>31.00000</td>\n",
              "      <td>155.548223</td>\n",
              "      <td>30.4</td>\n",
              "      <td>0.315</td>\n",
              "      <td>23</td>\n",
              "      <td>0</td>\n",
              "    </tr>\n",
              "  </tbody>\n",
              "</table>\n",
              "<p>768 rows × 9 columns</p>\n",
              "</div>\n",
              "      <button class=\"colab-df-convert\" onclick=\"convertToInteractive('df-61e0bd9c-98f3-46ae-9dea-79277cc24793')\"\n",
              "              title=\"Convert this dataframe to an interactive table.\"\n",
              "              style=\"display:none;\">\n",
              "        \n",
              "  <svg xmlns=\"http://www.w3.org/2000/svg\" height=\"24px\"viewBox=\"0 0 24 24\"\n",
              "       width=\"24px\">\n",
              "    <path d=\"M0 0h24v24H0V0z\" fill=\"none\"/>\n",
              "    <path d=\"M18.56 5.44l.94 2.06.94-2.06 2.06-.94-2.06-.94-.94-2.06-.94 2.06-2.06.94zm-11 1L8.5 8.5l.94-2.06 2.06-.94-2.06-.94L8.5 2.5l-.94 2.06-2.06.94zm10 10l.94 2.06.94-2.06 2.06-.94-2.06-.94-.94-2.06-.94 2.06-2.06.94z\"/><path d=\"M17.41 7.96l-1.37-1.37c-.4-.4-.92-.59-1.43-.59-.52 0-1.04.2-1.43.59L10.3 9.45l-7.72 7.72c-.78.78-.78 2.05 0 2.83L4 21.41c.39.39.9.59 1.41.59.51 0 1.02-.2 1.41-.59l7.78-7.78 2.81-2.81c.8-.78.8-2.07 0-2.86zM5.41 20L4 18.59l7.72-7.72 1.47 1.35L5.41 20z\"/>\n",
              "  </svg>\n",
              "      </button>\n",
              "      \n",
              "  <style>\n",
              "    .colab-df-container {\n",
              "      display:flex;\n",
              "      flex-wrap:wrap;\n",
              "      gap: 12px;\n",
              "    }\n",
              "\n",
              "    .colab-df-convert {\n",
              "      background-color: #E8F0FE;\n",
              "      border: none;\n",
              "      border-radius: 50%;\n",
              "      cursor: pointer;\n",
              "      display: none;\n",
              "      fill: #1967D2;\n",
              "      height: 32px;\n",
              "      padding: 0 0 0 0;\n",
              "      width: 32px;\n",
              "    }\n",
              "\n",
              "    .colab-df-convert:hover {\n",
              "      background-color: #E2EBFA;\n",
              "      box-shadow: 0px 1px 2px rgba(60, 64, 67, 0.3), 0px 1px 3px 1px rgba(60, 64, 67, 0.15);\n",
              "      fill: #174EA6;\n",
              "    }\n",
              "\n",
              "    [theme=dark] .colab-df-convert {\n",
              "      background-color: #3B4455;\n",
              "      fill: #D2E3FC;\n",
              "    }\n",
              "\n",
              "    [theme=dark] .colab-df-convert:hover {\n",
              "      background-color: #434B5C;\n",
              "      box-shadow: 0px 1px 3px 1px rgba(0, 0, 0, 0.15);\n",
              "      filter: drop-shadow(0px 1px 2px rgba(0, 0, 0, 0.3));\n",
              "      fill: #FFFFFF;\n",
              "    }\n",
              "  </style>\n",
              "\n",
              "      <script>\n",
              "        const buttonEl =\n",
              "          document.querySelector('#df-61e0bd9c-98f3-46ae-9dea-79277cc24793 button.colab-df-convert');\n",
              "        buttonEl.style.display =\n",
              "          google.colab.kernel.accessAllowed ? 'block' : 'none';\n",
              "\n",
              "        async function convertToInteractive(key) {\n",
              "          const element = document.querySelector('#df-61e0bd9c-98f3-46ae-9dea-79277cc24793');\n",
              "          const dataTable =\n",
              "            await google.colab.kernel.invokeFunction('convertToInteractive',\n",
              "                                                     [key], {});\n",
              "          if (!dataTable) return;\n",
              "\n",
              "          const docLinkHtml = 'Like what you see? Visit the ' +\n",
              "            '<a target=\"_blank\" href=https://colab.research.google.com/notebooks/data_table.ipynb>data table notebook</a>'\n",
              "            + ' to learn more about interactive tables.';\n",
              "          element.innerHTML = '';\n",
              "          dataTable['output_type'] = 'display_data';\n",
              "          await google.colab.output.renderOutput(dataTable, element);\n",
              "          const docLink = document.createElement('div');\n",
              "          docLink.innerHTML = docLinkHtml;\n",
              "          element.appendChild(docLink);\n",
              "        }\n",
              "      </script>\n",
              "    </div>\n",
              "  </div>\n",
              "  "
            ]
          },
          "metadata": {},
          "execution_count": 5
        }
      ]
    },
    {
      "cell_type": "markdown",
      "source": [
        "Now we can check our graphs again to see if the issue was fixed"
      ],
      "metadata": {
        "id": "Rw7BTTjRoez4"
      }
    },
    {
      "cell_type": "code",
      "source": [
        "df.hist(bins=50, figsize=(15,10))\n",
        "plt.show()"
      ],
      "metadata": {
        "colab": {
          "base_uri": "https://localhost:8080/",
          "height": 607
        },
        "id": "UKfgblfnojjS",
        "outputId": "6a73357a-463b-4463-f163-f474bc4e1e99"
      },
      "execution_count": 6,
      "outputs": [
        {
          "output_type": "display_data",
          "data": {
            "text/plain": [
              "<Figure size 1080x720 with 9 Axes>"
            ],
            "image/png": "[encoded data removed]"
          },
          "metadata": {
            "needs_background": "light"
          }
        }
      ]
    },
    {
      "cell_type": "markdown",
      "source": [
        "And as expected, there are no unwanted '0' values within the data frame and the data is fixed."
      ],
      "metadata": {
        "id": "qQa_FrqCovFx"
      }
    },
    {
      "cell_type": "markdown",
      "source": [
        "This not only helps clean up the data, but now we are able to accurately measure different aspects of the data. For example if we were to take the mean of each columns:"
      ],
      "metadata": {
        "id": "mJ8AvPwPo-YT"
      }
    },
    {
      "cell_type": "code",
      "source": [
        "means = df.mean()\n",
        "print(means)"
      ],
      "metadata": {
        "colab": {
          "base_uri": "https://localhost:8080/"
        },
        "id": "n5IYVgugpQ8N",
        "outputId": "dd753b48-2978-4115-c45b-6fea9f0099c5"
      },
      "execution_count": 7,
      "outputs": [
        {
          "output_type": "stream",
          "name": "stdout",
          "text": [
            "Pregnancies                   4.494673\n",
            "Glucose                     121.686763\n",
            "BloodPressure                72.405184\n",
            "SkinThickness                29.153420\n",
            "Insulin                     155.548223\n",
            "BMI                          32.457464\n",
            "DiabetesPedigreeFunction      0.471876\n",
            "Age                          33.240885\n",
            "Outcome                       0.348958\n",
            "dtype: float64\n"
          ]
        }
      ]
    },
    {
      "cell_type": "markdown",
      "source": [
        "We can see that now they more accurately represent the mean values"
      ],
      "metadata": {
        "id": "6f_TVNiwq7-j"
      }
    },
    {
      "cell_type": "markdown",
      "source": [
        "Another thing we can do is look for outliers within the data set. "
      ],
      "metadata": {
        "id": "t2e66cy6rBrn"
      }
    },
    {
      "cell_type": "code",
      "source": [
        "#define a figure to which we will add boxplots of each attribute.\n",
        "plt.figure(figsize=(20,20))\n",
        "\n",
        "#use an index to identify the spot of the subplot\n",
        "j=1\n",
        "columns=df.columns.tolist()\n",
        "for k in columns[2:] :   #for each column in the dataframe except INDEX and TARGET\n",
        "    plt.subplot(5,3,j) \n",
        "    sns.boxplot(x=k,data=df)\n",
        "    j=j+1 #add 1 to go to the next subplot space\n",
        "\n",
        "#show results\n",
        "plt.show()"
      ],
      "metadata": {
        "colab": {
          "base_uri": "https://localhost:8080/",
          "height": 699
        },
        "id": "a6nY0ph5riwp",
        "outputId": "01d936de-c980-42a8-8599-2437b2eacff3"
      },
      "execution_count": 8,
      "outputs": [
        {
          "output_type": "display_data",
          "data": {
            "text/plain": [
              "<Figure size 1440x1440 with 7 Axes>"
            ],
            "image/png": "[encoded data removed]"
          },
          "metadata": {
            "needs_background": "light"
          }
        }
      ]
    },
    {
      "cell_type": "markdown",
      "source": [
        "While it is important to recognize the outliers within the data set, it also should be noted that this data set has a variety of differing factors that may not be totally inline with each other. So while there does seem to be a large amount of outliers in our data, that is to be expected."
      ],
      "metadata": {
        "id": "gpRuqc_rsLgV"
      }
    },
    {
      "cell_type": "markdown",
      "source": [
        "However one thing we can do to further analyze this aspect of our data is to calculate regression."
      ],
      "metadata": {
        "id": "zDzckN-UsjVw"
      }
    },
    {
      "cell_type": "markdown",
      "source": [
        "## Regression"
      ],
      "metadata": {
        "id": "KnuumzXqyBsM"
      }
    },
    {
      "cell_type": "markdown",
      "source": [
        "To create a regression model the first thing we must do is select a few rows to work with. Since our data set is very large we need a criteria that won't give us a huge sample size but also needs to represent a portion of the data set. Let's take any patients over the age of 50 for example."
      ],
      "metadata": {
        "id": "x2CYD58ahx9c"
      }
    },
    {
      "cell_type": "markdown",
      "source": [
        "First lets create a Logistic Regression Model "
      ],
      "metadata": {
        "id": "B9j0GqM9ITm2"
      }
    },
    {
      "cell_type": "code",
      "source": [
        "from sklearn.linear_model import LinearRegression\n",
        "\n",
        "over50 = df[df['Age'] >= 50]\n",
        "n = len(over50)\n",
        "\n",
        "model = LinearRegression().fit(np.arange(n).reshape((n,1)), over50)\n",
        "\n",
        "print(model.predict([[6],[7]]))"
      ],
      "metadata": {
        "colab": {
          "base_uri": "https://localhost:8080/"
        },
        "id": "AW5I7iodHS3J",
        "outputId": "cedd62d6-c3e3-467c-a9f6-0468291cc6c1"
      },
      "execution_count": 9,
      "outputs": [
        {
          "output_type": "stream",
          "name": "stdout",
          "text": [
            "[[  6.03569262 145.67558733  79.5938274   29.83520052 220.90172195\n",
            "   31.57901522   0.5335746   57.57197821   0.50772898]\n",
            " [  6.04361438 145.51440245  79.5830511   29.84182903 220.01588278\n",
            "   31.5646103    0.53265676  57.57791965   0.50708206]]\n"
          ]
        }
      ]
    },
    {
      "cell_type": "code",
      "source": [
        "print(over50)"
      ],
      "metadata": {
        "colab": {
          "base_uri": "https://localhost:8080/"
        },
        "id": "JoIgLZaeix_j",
        "outputId": "21aa78ae-16b9-440d-fc35-e7ec7e014117"
      },
      "execution_count": 10,
      "outputs": [
        {
          "output_type": "stream",
          "name": "stdout",
          "text": [
            "     Pregnancies  Glucose  BloodPressure  SkinThickness     Insulin  \\\n",
            "0       6.000000    148.0           72.0       35.00000  155.548223   \n",
            "8       2.000000    197.0           70.0       45.00000  543.000000   \n",
            "9       8.000000    125.0           96.0       29.15342  155.548223   \n",
            "12     10.000000    139.0           80.0       29.15342  155.548223   \n",
            "13      1.000000    189.0           60.0       23.00000  846.000000   \n",
            "..           ...      ...            ...            ...         ...   \n",
            "734     2.000000    105.0           75.0       29.15342  155.548223   \n",
            "749     6.000000    162.0           62.0       29.15342  155.548223   \n",
            "757     4.494673    123.0           72.0       29.15342  155.548223   \n",
            "759     6.000000    190.0           92.0       29.15342  155.548223   \n",
            "763    10.000000    101.0           76.0       48.00000  180.000000   \n",
            "\n",
            "           BMI  DiabetesPedigreeFunction  Age  Outcome  \n",
            "0    33.600000                     0.627   50        1  \n",
            "8    30.500000                     0.158   53        1  \n",
            "9    32.457464                     0.232   54        1  \n",
            "12   27.100000                     1.441   57        0  \n",
            "13   30.100000                     0.398   59        1  \n",
            "..         ...                       ...  ...      ...  \n",
            "734  23.300000                     0.560   53        0  \n",
            "749  24.300000                     0.178   50        1  \n",
            "757  36.300000                     0.258   52        1  \n",
            "759  35.500000                     0.278   66        1  \n",
            "763  32.900000                     0.171   63        0  \n",
            "\n",
            "[89 rows x 9 columns]\n"
          ]
        }
      ]
    },
    {
      "cell_type": "markdown",
      "source": [
        "Now lets use our 'over50' dataframe to delve deeper into our regression model. We will create a subset of our selected data using train_test_split."
      ],
      "metadata": {
        "id": "rd1rR7e9lZ6n"
      }
    },
    {
      "cell_type": "code",
      "source": [
        "from sklearn.preprocessing import LabelEncoder as le \n",
        "from sklearn.model_selection import train_test_split\n",
        "from sklearn.linear_model import LinearRegression\n",
        "from sklearn.metrics import r2_score, mean_squared_error\n",
        "\n",
        "\n",
        "label = le()\n",
        "over50 = pd.get_dummies(over50)\n",
        "\n",
        "X = over50[['BMI','Insulin']]\n",
        "y = over50['BloodPressure']\n",
        "\n",
        "X_train, X_test, y_train, y_test = train_test_split(X,y,test_size = .50)\n",
        "lm = LinearRegression()\n",
        "lm.fit(X_train, y_train)\n",
        "\n",
        "lm.score(X_train,y_train)"
      ],
      "metadata": {
        "colab": {
          "base_uri": "https://localhost:8080/"
        },
        "id": "dTrPvmGOlloC",
        "outputId": "e1e01808-9887-4411-ee0e-84f0f9d97b7b"
      },
      "execution_count": 11,
      "outputs": [
        {
          "output_type": "execute_result",
          "data": {
            "text/plain": [
              "0.40659440943658287"
            ]
          },
          "metadata": {},
          "execution_count": 11
        }
      ]
    },
    {
      "cell_type": "markdown",
      "source": [
        "So as you can see our regression shows our data is only about 40% accurate, so not very good. If this were a more serious study, a new model may have to be built as this data is not reliable enough to progress further with. However as we have no better models available, we will make do with it."
      ],
      "metadata": {
        "id": "IXQAxjGWqdZn"
      }
    },
    {
      "cell_type": "markdown",
      "source": [
        "We can also try and predict what data might show up in the future "
      ],
      "metadata": {
        "id": "AO0is2l7sSlG"
      }
    },
    {
      "cell_type": "code",
      "source": [
        "y_pred = lm.predict(X_test)\n",
        "print(y_pred)"
      ],
      "metadata": {
        "colab": {
          "base_uri": "https://localhost:8080/"
        },
        "id": "2PBzoiF4sF_F",
        "outputId": "ee815507-0072-4887-de44-83172b3c67fc"
      },
      "execution_count": 12,
      "outputs": [
        {
          "output_type": "stream",
          "name": "stdout",
          "text": [
            "[75.34262703 72.10388439 88.7657582  86.35099388 87.28205448 89.85240215\n",
            " 76.81267482 81.52146524 79.9620428  70.0875989  76.93341303 77.16415479\n",
            " 77.34799194 73.55274298 78.9859627  77.4163659  75.9675073  85.11705584\n",
            " 62.20090526 67.03287932 73.43200477 68.84395256 85.67987205 86.83394675\n",
            " 65.42071951 86.45675985 79.34817735 87.90985602 86.70351002 87.79985247\n",
            " 69.56838185 96.40871591 85.62656459 77.05415125 88.88649642 86.35099388\n",
            " 73.96722894 84.05696778 79.46891557 82.55675158 85.26434994 84.17770599\n",
            " 71.74166974 69.80985829 69.20984577]\n"
          ]
        }
      ]
    },
    {
      "cell_type": "code",
      "source": [
        "see_it = pd.DataFrame({'Test':y_test,'Predicted':y_pred})\n",
        "see_it.head()"
      ],
      "metadata": {
        "colab": {
          "base_uri": "https://localhost:8080/",
          "height": 206
        },
        "id": "2Vdas1njslfe",
        "outputId": "2ff0f329-fdcd-4cc7-f929-17a09bcf04ac"
      },
      "execution_count": 13,
      "outputs": [
        {
          "output_type": "execute_result",
          "data": {
            "text/plain": [
              "     Test  Predicted\n",
              "285  74.0  75.342627\n",
              "93   72.0  72.103884\n",
              "517  86.0  88.765758\n",
              "719  76.0  86.350994\n",
              "614  74.0  87.282054"
            ],
            "text/html": [
              "\n",
              "  <div id=\"df-f4574803-e0cb-4136-9bbb-7cf75d8dd661\">\n",
              "    <div class=\"colab-df-container\">\n",
              "      <div>\n",
              "<style scoped>\n",
              "    .dataframe tbody tr th:only-of-type {\n",
              "        vertical-align: middle;\n",
              "    }\n",
              "\n",
              "    .dataframe tbody tr th {\n",
              "        vertical-align: top;\n",
              "    }\n",
              "\n",
              "    .dataframe thead th {\n",
              "        text-align: right;\n",
              "    }\n",
              "</style>\n",
              "<table border=\"1\" class=\"dataframe\">\n",
              "  <thead>\n",
              "    <tr style=\"text-align: right;\">\n",
              "      <th></th>\n",
              "      <th>Test</th>\n",
              "      <th>Predicted</th>\n",
              "    </tr>\n",
              "  </thead>\n",
              "  <tbody>\n",
              "    <tr>\n",
              "      <th>285</th>\n",
              "      <td>74.0</td>\n",
              "      <td>75.342627</td>\n",
              "    </tr>\n",
              "    <tr>\n",
              "      <th>93</th>\n",
              "      <td>72.0</td>\n",
              "      <td>72.103884</td>\n",
              "    </tr>\n",
              "    <tr>\n",
              "      <th>517</th>\n",
              "      <td>86.0</td>\n",
              "      <td>88.765758</td>\n",
              "    </tr>\n",
              "    <tr>\n",
              "      <th>719</th>\n",
              "      <td>76.0</td>\n",
              "      <td>86.350994</td>\n",
              "    </tr>\n",
              "    <tr>\n",
              "      <th>614</th>\n",
              "      <td>74.0</td>\n",
              "      <td>87.282054</td>\n",
              "    </tr>\n",
              "  </tbody>\n",
              "</table>\n",
              "</div>\n",
              "      <button class=\"colab-df-convert\" onclick=\"convertToInteractive('df-f4574803-e0cb-4136-9bbb-7cf75d8dd661')\"\n",
              "              title=\"Convert this dataframe to an interactive table.\"\n",
              "              style=\"display:none;\">\n",
              "        \n",
              "  <svg xmlns=\"http://www.w3.org/2000/svg\" height=\"24px\"viewBox=\"0 0 24 24\"\n",
              "       width=\"24px\">\n",
              "    <path d=\"M0 0h24v24H0V0z\" fill=\"none\"/>\n",
              "    <path d=\"M18.56 5.44l.94 2.06.94-2.06 2.06-.94-2.06-.94-.94-2.06-.94 2.06-2.06.94zm-11 1L8.5 8.5l.94-2.06 2.06-.94-2.06-.94L8.5 2.5l-.94 2.06-2.06.94zm10 10l.94 2.06.94-2.06 2.06-.94-2.06-.94-.94-2.06-.94 2.06-2.06.94z\"/><path d=\"M17.41 7.96l-1.37-1.37c-.4-.4-.92-.59-1.43-.59-.52 0-1.04.2-1.43.59L10.3 9.45l-7.72 7.72c-.78.78-.78 2.05 0 2.83L4 21.41c.39.39.9.59 1.41.59.51 0 1.02-.2 1.41-.59l7.78-7.78 2.81-2.81c.8-.78.8-2.07 0-2.86zM5.41 20L4 18.59l7.72-7.72 1.47 1.35L5.41 20z\"/>\n",
              "  </svg>\n",
              "      </button>\n",
              "      \n",
              "  <style>\n",
              "    .colab-df-container {\n",
              "      display:flex;\n",
              "      flex-wrap:wrap;\n",
              "      gap: 12px;\n",
              "    }\n",
              "\n",
              "    .colab-df-convert {\n",
              "      background-color: #E8F0FE;\n",
              "      border: none;\n",
              "      border-radius: 50%;\n",
              "      cursor: pointer;\n",
              "      display: none;\n",
              "      fill: #1967D2;\n",
              "      height: 32px;\n",
              "      padding: 0 0 0 0;\n",
              "      width: 32px;\n",
              "    }\n",
              "\n",
              "    .colab-df-convert:hover {\n",
              "      background-color: #E2EBFA;\n",
              "      box-shadow: 0px 1px 2px rgba(60, 64, 67, 0.3), 0px 1px 3px 1px rgba(60, 64, 67, 0.15);\n",
              "      fill: #174EA6;\n",
              "    }\n",
              "\n",
              "    [theme=dark] .colab-df-convert {\n",
              "      background-color: #3B4455;\n",
              "      fill: #D2E3FC;\n",
              "    }\n",
              "\n",
              "    [theme=dark] .colab-df-convert:hover {\n",
              "      background-color: #434B5C;\n",
              "      box-shadow: 0px 1px 3px 1px rgba(0, 0, 0, 0.15);\n",
              "      filter: drop-shadow(0px 1px 2px rgba(0, 0, 0, 0.3));\n",
              "      fill: #FFFFFF;\n",
              "    }\n",
              "  </style>\n",
              "\n",
              "      <script>\n",
              "        const buttonEl =\n",
              "          document.querySelector('#df-f4574803-e0cb-4136-9bbb-7cf75d8dd661 button.colab-df-convert');\n",
              "        buttonEl.style.display =\n",
              "          google.colab.kernel.accessAllowed ? 'block' : 'none';\n",
              "\n",
              "        async function convertToInteractive(key) {\n",
              "          const element = document.querySelector('#df-f4574803-e0cb-4136-9bbb-7cf75d8dd661');\n",
              "          const dataTable =\n",
              "            await google.colab.kernel.invokeFunction('convertToInteractive',\n",
              "                                                     [key], {});\n",
              "          if (!dataTable) return;\n",
              "\n",
              "          const docLinkHtml = 'Like what you see? Visit the ' +\n",
              "            '<a target=\"_blank\" href=https://colab.research.google.com/notebooks/data_table.ipynb>data table notebook</a>'\n",
              "            + ' to learn more about interactive tables.';\n",
              "          element.innerHTML = '';\n",
              "          dataTable['output_type'] = 'display_data';\n",
              "          await google.colab.output.renderOutput(dataTable, element);\n",
              "          const docLink = document.createElement('div');\n",
              "          docLink.innerHTML = docLinkHtml;\n",
              "          element.appendChild(docLink);\n",
              "        }\n",
              "      </script>\n",
              "    </div>\n",
              "  </div>\n",
              "  "
            ]
          },
          "metadata": {},
          "execution_count": 13
        }
      ]
    },
    {
      "cell_type": "markdown",
      "source": [
        "Some values are predicted accurately, others not. But this is to be expected with such a low regression percentage."
      ],
      "metadata": {
        "id": "VHMoisarsbh4"
      }
    },
    {
      "cell_type": "markdown",
      "source": [
        "## SMOTE\n",
        "We can use SMOTE to increase the number of test cases and determine the accuracy of them. Using our established test set, SMOTE can create more instances of similar values."
      ],
      "metadata": {
        "id": "eD6hR2jhyFKv"
      }
    },
    {
      "cell_type": "code",
      "source": [
        "import statsmodels.api as sm\n",
        "X = df.drop(\"Outcome\",1)\n",
        "y = df[\"Outcome\"]\n",
        "logit_model=sm.Logit(y,X)\n",
        "result=logit_model.fit()\n",
        "print(result.summary2())"
      ],
      "metadata": {
        "colab": {
          "base_uri": "https://localhost:8080/"
        },
        "id": "nJJXqJ-0u3Hu",
        "outputId": "3146144d-6a04-40a9-ca17-a186b1477ca0"
      },
      "execution_count": 14,
      "outputs": [
        {
          "output_type": "stream",
          "name": "stderr",
          "text": [
            "/usr/local/lib/python3.7/dist-packages/statsmodels/tools/_testing.py:19: FutureWarning: pandas.util.testing is deprecated. Use the functions in the public API at pandas.testing instead.\n",
            "  import pandas.util.testing as tm\n"
          ]
        },
        {
          "output_type": "stream",
          "name": "stdout",
          "text": [
            "Optimization terminated successfully.\n",
            "         Current function value: 0.575576\n",
            "         Iterations 5\n",
            "                             Results: Logit\n",
            "========================================================================\n",
            "Model:                 Logit              Pseudo R-squared:   0.110     \n",
            "Dependent Variable:    Outcome            AIC:                900.0841  \n",
            "Date:                  2022-06-24 15:07   BIC:                937.2344  \n",
            "No. Observations:      768                Log-Likelihood:     -442.04   \n",
            "Df Model:              7                  LL-Null:            -496.74   \n",
            "Df Residuals:          760                LLR p-value:        1.2231e-20\n",
            "Converged:             1.0000             Scale:              1.0000    \n",
            "No. Iterations:        5.0000                                           \n",
            "------------------------------------------------------------------------\n",
            "                          Coef.  Std.Err.    z    P>|z|   [0.025  0.975]\n",
            "------------------------------------------------------------------------\n",
            "Pregnancies               0.1581   0.0327  4.8341 0.0000  0.0940  0.2222\n",
            "Glucose                   0.0225   0.0032  7.0413 0.0000  0.0163  0.0288\n",
            "BloodPressure            -0.0611   0.0071 -8.6606 0.0000 -0.0749 -0.0473\n",
            "SkinThickness            -0.0073   0.0111 -0.6553 0.5123 -0.0290  0.0145\n",
            "Insulin                  -0.0003   0.0010 -0.2990 0.7649 -0.0024  0.0017\n",
            "BMI                       0.0152   0.0146  1.0440 0.2965 -0.0133  0.0437\n",
            "DiabetesPedigreeFunction  0.3676   0.2518  1.4603 0.1442 -0.1258  0.8611\n",
            "Age                      -0.0009   0.0085 -0.1019 0.9189 -0.0176  0.0159\n",
            "========================================================================\n",
            "\n"
          ]
        },
        {
          "output_type": "stream",
          "name": "stderr",
          "text": [
            "/usr/local/lib/python3.7/dist-packages/ipykernel_launcher.py:2: FutureWarning: In a future version of pandas all arguments of DataFrame.drop except for the argument 'labels' will be keyword-only\n",
            "  \n"
          ]
        }
      ]
    },
    {
      "cell_type": "markdown",
      "source": [
        "## Confusion Matrix & ROC Curve\n",
        "Next we try and create a confusion matrix and develop a ROC curve to determine the number of false positives, false negatives, true positives and true negatives."
      ],
      "metadata": {
        "id": "UaV5dj8WzGTj"
      }
    },
    {
      "cell_type": "code",
      "source": [
        "from sklearn.linear_model import LogisticRegression\n",
        "from sklearn import metrics\n",
        "X_train, X_test, y_train, y_test = train_test_split(X, y, test_size=0.3, random_state=0)\n",
        "logreg = LogisticRegression()\n",
        "logreg.fit(X_train, y_train)"
      ],
      "metadata": {
        "id": "muXsVV19z4BB"
      },
      "execution_count": null,
      "outputs": []
    },
    {
      "cell_type": "code",
      "source": [
        "y_pred = logreg.predict(X_test)\n",
        "print('Accuracy of logistic regression classifier on test set: {:.2f}'.format(logreg.score(X_test, y_test)))"
      ],
      "metadata": {
        "colab": {
          "base_uri": "https://localhost:8080/"
        },
        "id": "7QRLIMxP2PZR",
        "outputId": "4758f559-94ac-451f-a4ee-83e27f3cd383"
      },
      "execution_count": 16,
      "outputs": [
        {
          "output_type": "stream",
          "name": "stdout",
          "text": [
            "Accuracy of logistic regression classifier on test set: 0.77\n"
          ]
        }
      ]
    },
    {
      "cell_type": "code",
      "source": [
        "from sklearn.metrics import confusion_matrix\n",
        "confusion_matrix = confusion_matrix(y_test, y_pred)\n",
        "print(confusion_matrix)"
      ],
      "metadata": {
        "colab": {
          "base_uri": "https://localhost:8080/"
        },
        "id": "Hkgn-owJ2y_u",
        "outputId": "6aa2c4ff-5715-401d-d6e6-43270fa6aaf9"
      },
      "execution_count": 17,
      "outputs": [
        {
          "output_type": "stream",
          "name": "stdout",
          "text": [
            "[[141  16]\n",
            " [ 36  38]]\n"
          ]
        }
      ]
    },
    {
      "cell_type": "markdown",
      "source": [
        "Here we can see our Matrix showing 179 correct predictions and 52 incorrect with a 77% accuracy"
      ],
      "metadata": {
        "id": "uiqoy8hk28AI"
      }
    },
    {
      "cell_type": "markdown",
      "source": [
        "Finally let's create the ROC curve"
      ],
      "metadata": {
        "id": "dfmj-Y6z3S7J"
      }
    },
    {
      "cell_type": "code",
      "source": [
        "from sklearn.metrics import roc_auc_score\n",
        "from sklearn.metrics import roc_curve\n",
        "logit_roc_auc = roc_auc_score(y_test, logreg.predict(X_test))\n",
        "fpr, tpr, thresholds = roc_curve(y_test, logreg.predict_proba(X_test)[:,1])\n",
        "plt.figure()\n",
        "plt.plot(fpr, tpr, label='Logistic Regression 0.77')\n",
        "plt.plot([0, 1], [0, 1],'r--')\n",
        "plt.xlim([0.0, 1.0])\n",
        "plt.ylim([0.0, 1.05])\n",
        "plt.xlabel('False Positive Rate')\n",
        "plt.ylabel('True Positive Rate')\n",
        "plt.title('Receiver Operating Characteristic')\n",
        "plt.legend(loc=\"lower right\")\n",
        "plt.savefig('Log_ROC')\n",
        "plt.show()"
      ],
      "metadata": {
        "colab": {
          "base_uri": "https://localhost:8080/",
          "height": 295
        },
        "id": "f-JD5Cyw3VZl",
        "outputId": "d0387835-aa13-4bc7-fd62-02f8dc6f2a3d"
      },
      "execution_count": 18,
      "outputs": [
        {
          "output_type": "display_data",
          "data": {
            "text/plain": [
              "<Figure size 432x288 with 1 Axes>"
            ],
            "image/png": "[encoded data removed]"
          },
          "metadata": {
            "needs_background": "light"
          }
        }
      ]
    },
    {
      "cell_type": "markdown",
      "source": [
        "## Chi Square\n",
        "Next we can also use the Chi Square test to see how our expected results compare to our actual results."
      ],
      "metadata": {
        "id": "h6xGBRbZ5cSB"
      }
    },
    {
      "cell_type": "code",
      "source": [
        "from scipy import stats\n",
        "\n",
        "target=df['Outcome'].reset_index(drop=True).copy()\n",
        "chi_sq=[]\n",
        "for i in range(0,9):\n",
        "    chi_sq.append([stats.chi2_contingency(pd.crosstab(target, df.iloc[:,i]))[0:2],i])\n",
        "chi_sq.sort(reverse=True)\n",
        "chi_sq"
      ],
      "metadata": {
        "colab": {
          "base_uri": "https://localhost:8080/"
        },
        "id": "MTd6I8c16FzT",
        "outputId": "488f7650-a18c-4654-e4e2-ad6cc9d3e704"
      },
      "execution_count": 19,
      "outputs": [
        {
          "output_type": "execute_result",
          "data": {
            "text/plain": [
              "[[(763.6046352310092, 4.4187473707431515e-168), 8],\n",
              " [(533.0240955223882, 0.29290546216135716), 6],\n",
              " [(286.4702531379069, 0.04282346357874596), 5],\n",
              " [(269.7332418198132, 5.1045667798171764e-11), 1],\n",
              " [(227.7698297937357, 0.017596214168718233), 4],\n",
              " [(140.9375197044156, 2.3069818149863462e-10), 7],\n",
              " [(73.56289367672626, 0.016681406114890975), 3],\n",
              " [(64.59480868723006, 8.648349123362548e-08), 0],\n",
              " [(54.93396399567279, 0.1721569902912902), 2]]"
            ]
          },
          "metadata": {},
          "execution_count": 19
        }
      ]
    },
    {
      "cell_type": "markdown",
      "source": [
        "## SVM\n",
        "Another model we can use is the SVM Model. SVM uses a machine learning vector algorithms to make predictions from a data set."
      ],
      "metadata": {
        "id": "JdvC2Xgx6mH0"
      }
    },
    {
      "cell_type": "code",
      "source": [
        "ohe_df = df\n",
        "\n",
        "g_df=(ohe_df-ohe_df.mean())/(2*ohe_df.std())\n",
        "a = (ohe_df['Pregnancies'] - ohe_df['Pregnancies'].mean())/ohe_df['Pregnancies'].std()\n",
        "b = (ohe_df['Glucose'] - ohe_df['Glucose'].mean())/ohe_df['Glucose'].std()\n",
        "c = (ohe_df['BloodPressure'] - ohe_df['BloodPressure'].mean())/ohe_df['BloodPressure'].std()\n",
        "d = (ohe_df['Insulin'] - ohe_df['Insulin'].mean())/ohe_df['Insulin'].std()\n",
        "d = (ohe_df['BMI'] - ohe_df['BMI'].mean())/ohe_df['BMI'].std()\n",
        "d = (ohe_df['DiabetesPedigreeFunction'] - ohe_df['DiabetesPedigreeFunction'].mean())/ohe_df['DiabetesPedigreeFunction'].std()\n",
        "d = (ohe_df['Age'] - ohe_df['Age'].mean())/ohe_df['Age'].std()\n",
        "d = (ohe_df['Outcome'] - ohe_df['Outcome'].mean())/ohe_df['Outcome'].std()\n",
        "transformed_data = pd.DataFrame([a, b, c, d]).T\n",
        "reg_df = ohe_df.drop(['Pregnancies', 'Glucose', 'BloodPressure', 'SkinThickness', 'Insulin', 'BMI', 'DiabetesPedigreeFunction', 'Age', 'Outcome'], axis =1 )\n",
        "reg_df = reg_df.join(transformed_data)\n",
        "reg_df"
      ],
      "metadata": {
        "colab": {
          "base_uri": "https://localhost:8080/",
          "height": 424
        },
        "id": "vaXeXgVj8hhL",
        "outputId": "4fa1a85b-637c-41a2-c112-1dee039534f3"
      },
      "execution_count": 20,
      "outputs": [
        {
          "output_type": "execute_result",
          "data": {
            "text/plain": [
              "      Pregnancies   Glucose  BloodPressure   Outcome\n",
              "0    5.059252e-01  0.864545      -0.033496  1.365006\n",
              "1   -1.174524e+00 -1.205376      -0.529514 -0.731643\n",
              "2    1.178105e+00  2.014501      -0.694853  1.365006\n",
              "3   -1.174524e+00 -1.073952      -0.529514 -0.731643\n",
              "4    2.985078e-16  0.503130      -2.678923  1.365006\n",
              "..            ...       ...            ...       ...\n",
              "763  1.850285e+00 -0.679682       0.297182 -0.731643\n",
              "764 -8.384342e-01  0.010292      -0.198836 -0.731643\n",
              "765  1.698354e-01 -0.022564      -0.033496 -0.731643\n",
              "766 -1.174524e+00  0.141715      -1.025532  1.365006\n",
              "767 -1.174524e+00 -0.942529      -0.198836 -0.731643\n",
              "\n",
              "[768 rows x 4 columns]"
            ],
            "text/html": [
              "\n",
              "  <div id=\"df-a71e007b-e15a-4a79-b1e8-ba330dd22958\">\n",
              "    <div class=\"colab-df-container\">\n",
              "      <div>\n",
              "<style scoped>\n",
              "    .dataframe tbody tr th:only-of-type {\n",
              "        vertical-align: middle;\n",
              "    }\n",
              "\n",
              "    .dataframe tbody tr th {\n",
              "        vertical-align: top;\n",
              "    }\n",
              "\n",
              "    .dataframe thead th {\n",
              "        text-align: right;\n",
              "    }\n",
              "</style>\n",
              "<table border=\"1\" class=\"dataframe\">\n",
              "  <thead>\n",
              "    <tr style=\"text-align: right;\">\n",
              "      <th></th>\n",
              "      <th>Pregnancies</th>\n",
              "      <th>Glucose</th>\n",
              "      <th>BloodPressure</th>\n",
              "      <th>Outcome</th>\n",
              "    </tr>\n",
              "  </thead>\n",
              "  <tbody>\n",
              "    <tr>\n",
              "      <th>0</th>\n",
              "      <td>5.059252e-01</td>\n",
              "      <td>0.864545</td>\n",
              "      <td>-0.033496</td>\n",
              "      <td>1.365006</td>\n",
              "    </tr>\n",
              "    <tr>\n",
              "      <th>1</th>\n",
              "      <td>-1.174524e+00</td>\n",
              "      <td>-1.205376</td>\n",
              "      <td>-0.529514</td>\n",
              "      <td>-0.731643</td>\n",
              "    </tr>\n",
              "    <tr>\n",
              "      <th>2</th>\n",
              "      <td>1.178105e+00</td>\n",
              "      <td>2.014501</td>\n",
              "      <td>-0.694853</td>\n",
              "      <td>1.365006</td>\n",
              "    </tr>\n",
              "    <tr>\n",
              "      <th>3</th>\n",
              "      <td>-1.174524e+00</td>\n",
              "      <td>-1.073952</td>\n",
              "      <td>-0.529514</td>\n",
              "      <td>-0.731643</td>\n",
              "    </tr>\n",
              "    <tr>\n",
              "      <th>4</th>\n",
              "      <td>2.985078e-16</td>\n",
              "      <td>0.503130</td>\n",
              "      <td>-2.678923</td>\n",
              "      <td>1.365006</td>\n",
              "    </tr>\n",
              "    <tr>\n",
              "      <th>...</th>\n",
              "      <td>...</td>\n",
              "      <td>...</td>\n",
              "      <td>...</td>\n",
              "      <td>...</td>\n",
              "    </tr>\n",
              "    <tr>\n",
              "      <th>763</th>\n",
              "      <td>1.850285e+00</td>\n",
              "      <td>-0.679682</td>\n",
              "      <td>0.297182</td>\n",
              "      <td>-0.731643</td>\n",
              "    </tr>\n",
              "    <tr>\n",
              "      <th>764</th>\n",
              "      <td>-8.384342e-01</td>\n",
              "      <td>0.010292</td>\n",
              "      <td>-0.198836</td>\n",
              "      <td>-0.731643</td>\n",
              "    </tr>\n",
              "    <tr>\n",
              "      <th>765</th>\n",
              "      <td>1.698354e-01</td>\n",
              "      <td>-0.022564</td>\n",
              "      <td>-0.033496</td>\n",
              "      <td>-0.731643</td>\n",
              "    </tr>\n",
              "    <tr>\n",
              "      <th>766</th>\n",
              "      <td>-1.174524e+00</td>\n",
              "      <td>0.141715</td>\n",
              "      <td>-1.025532</td>\n",
              "      <td>1.365006</td>\n",
              "    </tr>\n",
              "    <tr>\n",
              "      <th>767</th>\n",
              "      <td>-1.174524e+00</td>\n",
              "      <td>-0.942529</td>\n",
              "      <td>-0.198836</td>\n",
              "      <td>-0.731643</td>\n",
              "    </tr>\n",
              "  </tbody>\n",
              "</table>\n",
              "<p>768 rows × 4 columns</p>\n",
              "</div>\n",
              "      <button class=\"colab-df-convert\" onclick=\"convertToInteractive('df-a71e007b-e15a-4a79-b1e8-ba330dd22958')\"\n",
              "              title=\"Convert this dataframe to an interactive table.\"\n",
              "              style=\"display:none;\">\n",
              "        \n",
              "  <svg xmlns=\"http://www.w3.org/2000/svg\" height=\"24px\"viewBox=\"0 0 24 24\"\n",
              "       width=\"24px\">\n",
              "    <path d=\"M0 0h24v24H0V0z\" fill=\"none\"/>\n",
              "    <path d=\"M18.56 5.44l.94 2.06.94-2.06 2.06-.94-2.06-.94-.94-2.06-.94 2.06-2.06.94zm-11 1L8.5 8.5l.94-2.06 2.06-.94-2.06-.94L8.5 2.5l-.94 2.06-2.06.94zm10 10l.94 2.06.94-2.06 2.06-.94-2.06-.94-.94-2.06-.94 2.06-2.06.94z\"/><path d=\"M17.41 7.96l-1.37-1.37c-.4-.4-.92-.59-1.43-.59-.52 0-1.04.2-1.43.59L10.3 9.45l-7.72 7.72c-.78.78-.78 2.05 0 2.83L4 21.41c.39.39.9.59 1.41.59.51 0 1.02-.2 1.41-.59l7.78-7.78 2.81-2.81c.8-.78.8-2.07 0-2.86zM5.41 20L4 18.59l7.72-7.72 1.47 1.35L5.41 20z\"/>\n",
              "  </svg>\n",
              "      </button>\n",
              "      \n",
              "  <style>\n",
              "    .colab-df-container {\n",
              "      display:flex;\n",
              "      flex-wrap:wrap;\n",
              "      gap: 12px;\n",
              "    }\n",
              "\n",
              "    .colab-df-convert {\n",
              "      background-color: #E8F0FE;\n",
              "      border: none;\n",
              "      border-radius: 50%;\n",
              "      cursor: pointer;\n",
              "      display: none;\n",
              "      fill: #1967D2;\n",
              "      height: 32px;\n",
              "      padding: 0 0 0 0;\n",
              "      width: 32px;\n",
              "    }\n",
              "\n",
              "    .colab-df-convert:hover {\n",
              "      background-color: #E2EBFA;\n",
              "      box-shadow: 0px 1px 2px rgba(60, 64, 67, 0.3), 0px 1px 3px 1px rgba(60, 64, 67, 0.15);\n",
              "      fill: #174EA6;\n",
              "    }\n",
              "\n",
              "    [theme=dark] .colab-df-convert {\n",
              "      background-color: #3B4455;\n",
              "      fill: #D2E3FC;\n",
              "    }\n",
              "\n",
              "    [theme=dark] .colab-df-convert:hover {\n",
              "      background-color: #434B5C;\n",
              "      box-shadow: 0px 1px 3px 1px rgba(0, 0, 0, 0.15);\n",
              "      filter: drop-shadow(0px 1px 2px rgba(0, 0, 0, 0.3));\n",
              "      fill: #FFFFFF;\n",
              "    }\n",
              "  </style>\n",
              "\n",
              "      <script>\n",
              "        const buttonEl =\n",
              "          document.querySelector('#df-a71e007b-e15a-4a79-b1e8-ba330dd22958 button.colab-df-convert');\n",
              "        buttonEl.style.display =\n",
              "          google.colab.kernel.accessAllowed ? 'block' : 'none';\n",
              "\n",
              "        async function convertToInteractive(key) {\n",
              "          const element = document.querySelector('#df-a71e007b-e15a-4a79-b1e8-ba330dd22958');\n",
              "          const dataTable =\n",
              "            await google.colab.kernel.invokeFunction('convertToInteractive',\n",
              "                                                     [key], {});\n",
              "          if (!dataTable) return;\n",
              "\n",
              "          const docLinkHtml = 'Like what you see? Visit the ' +\n",
              "            '<a target=\"_blank\" href=https://colab.research.google.com/notebooks/data_table.ipynb>data table notebook</a>'\n",
              "            + ' to learn more about interactive tables.';\n",
              "          element.innerHTML = '';\n",
              "          dataTable['output_type'] = 'display_data';\n",
              "          await google.colab.output.renderOutput(dataTable, element);\n",
              "          const docLink = document.createElement('div');\n",
              "          docLink.innerHTML = docLinkHtml;\n",
              "          element.appendChild(docLink);\n",
              "        }\n",
              "      </script>\n",
              "    </div>\n",
              "  </div>\n",
              "  "
            ]
          },
          "metadata": {},
          "execution_count": 20
        }
      ]
    },
    {
      "cell_type": "markdown",
      "source": [
        "## Conclusion\n",
        "So as you can see, there are a lot of things that can be done when analyzing a data set. Through cleansing, regression, predictions and much more we we're able to extract different aspects of the data that weren't apparent at first. Using different techniques we we're able to also predict the data and compare our models to see the pros and cons of each. This is a great technique as it allows you to broaden your perspective on a specific data set and gives you more options on how to proceed. And in data analysis, having options is always a good thing."
      ],
      "metadata": {
        "id": "9KrWNXHiDgaY"
      }
    },
    {
      "cell_type": "markdown",
      "source": [
        "## Sources\n",
        "https://www.kaggle.com/datasets/uciml/pima-indians-diabetes-database\n",
        "https://thispointer.com/pandas-delete-last-column-of-dataframe-in-python/\n",
        "https://www.geeksforgeeks.org/how-to-add-column-from-another-dataframe-in-pandas/\n",
        "https://stackoverflow.com/questions/26266362/how-to-count-the-nan-values-in-a-column-in-pandas-dataframe\n",
        "https://towardsdatascience.com/data-visualization-using-matplotlib-16f1aae5ce70\n",
        "https://www.geeksforgeeks.org/python-pandas-dataframe-fillna-to-replace-null-values-in-dataframe/\n",
        "https://www.adamsmith.haus/python/answers/how-to-replace-each-nan-value-in-a-pandas-dataframe-with-the-mean-of-its-column-in-python\n",
        "https://pandas.pydata.org/docs/reference/api/pandas.DataFrame.size.html\n",
        "https://www.ibm.com/topics/knn#:~:text=The%20k%2Dnearest%20neighbors%20algorithm%2C%20also%20known%20as%20KNN%20or,of%20an%20individual%20data%20point.\n",
        "https://www.geeksforgeeks.org/random-numbers-in-python/\n",
        "https://stackoverflow.com/questions/3996904/generate-random-integers-between-0-and-9"
      ],
      "metadata": {
        "id": "ycIkbNfSSrTd"
      }
    }
  ]
}