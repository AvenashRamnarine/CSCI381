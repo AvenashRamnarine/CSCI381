{
  "nbformat": 4,
  "nbformat_minor": 0,
  "metadata": {
    "colab": {
      "name": "Uploading and Processing Data and List Comprehension",
      "provenance": [],
      "collapsed_sections": []
    },
    "kernelspec": {
      "name": "python3",
      "display_name": "Python 3"
    },
    "language_info": {
      "name": "python"
    }
  },
  "cells": [
    {
      "cell_type": "code",
      "source": [
        "import pandas as pd\n",
        "\n",
        "#Creating Lists to hold data\n",
        "price = []\n",
        "maintenanceCost = []\n",
        "numberOfDoors = []\n",
        "numberOfPassengers = []\n",
        "luggageCapacity = []\n",
        "safteyRating = []\n",
        "classOfVehicle = []\n",
        "\n",
        "#Reading csv file from github and storing it into a dataframe\n",
        "df = pd.read_csv('https://raw.githubusercontent.com/AvenashRamnarine/CSCI381/main/cars-sample35.txt')\n",
        "#Naming columns in the dataframe so we can organize the data\n",
        "df.columns =['Price', 'Maintenance Cost', 'Number of Doors', 'Number of Passengers', 'Luggage Capacity', 'Saftey Rating', 'Class of Vehicle']\n",
        "\n",
        "#Using the column names to seperate the individual columns into their respective rows\n",
        "price = list(df['Price'])\n",
        "maintenanceCost = list(df['Maintenance Cost'])\n",
        "numberOfDoors = list(df['Number of Doors'])\n",
        "numberOfPassengers = list(df['Number of Passengers'])\n",
        "luggageCapacity = list(df['Luggage Capacity'])\n",
        "safteyRating = list(df['Saftey Rating'])\n",
        "classOfVehicle = list(df['Class of Vehicle'])\n",
        "\n",
        "#Finding the index of all prices that =med and putting it in a list\n",
        "medIndex = []\n",
        "for i in range (len(price)):\n",
        "  if price[i] == 'med':\n",
        "    medIndex.append(i)\n",
        "print(medIndex)\n",
        "\n",
        "#Finding the number of passengers for each car that has a price of med \n",
        "passNum = []\n",
        "for i in range (len(price)):\n",
        "  if price[i] == 'med':\n",
        "    passNum.append(numberOfPassengers[i])\n",
        "print(passNum)\n",
        "\n",
        "#Finding the index of each car that has a price of high and a maintenance cost of low\n",
        "highNotLow = []\n",
        "for i in range (len(price)):\n",
        "  if price[i] == 'high' and maintenanceCost[i] != 'low' :\n",
        "    highNotLow.append(i)\n",
        "print(highNotLow)\n",
        "\n",
        "#Finding index of price = med but with List Comprehension\n",
        "medIndexLC = [i for i in range (len(price)) if price[i] == 'med']\n",
        "print(medIndexLC)\n",
        "\n",
        "#Finding number of passengers but with List Comprehension\n",
        "passNumLC = [numberOfPassengers[i] for i in medIndex]\n",
        "print(passNumLC)\n",
        "\n",
        "#Finding price = high and maintenance cost = low but with List Comprehension \n",
        "highNotLowLC = [i for i in range (len(price)) if price[i] == 'high' and maintenanceCost[i] != 'low']\n",
        "print(highNotLowLC)\n",
        "\n",
        "#Creating a list of different elements\n",
        "nlist = [[1, 2, 3], ['A', 'B', 'C'], [4, 5], ['D', 'E']]\n",
        "#Iterating through each element of the list and create a new list using List Comprehenesion\n",
        "nlistLC = [nlist[i] for i in range (len(nlist))]\n",
        "print(nlistLC)"
      ],
      "metadata": {
        "id": "GfE9EfMvhzpk",
        "colab": {
          "base_uri": "https://localhost:8080/"
        },
        "outputId": "e16e4394-511d-465f-ba90-38ef53cec4a2"
      },
      "execution_count": 82,
      "outputs": [
        {
          "output_type": "stream",
          "name": "stdout",
          "text": [
            "[5, 15, 19, 22, 25, 28]\n",
            "['more', '2', '2', '2', '4', '2']\n",
            "[0, 1, 26, 30]\n",
            "[5, 15, 19, 22, 25, 28]\n",
            "['more', '2', '2', '2', '4', '2']\n",
            "[0, 1, 26, 30]\n",
            "[[1, 2, 3], ['A', 'B', 'C'], [4, 5], ['D', 'E']]\n"
          ]
        }
      ]
    }
  ]
}