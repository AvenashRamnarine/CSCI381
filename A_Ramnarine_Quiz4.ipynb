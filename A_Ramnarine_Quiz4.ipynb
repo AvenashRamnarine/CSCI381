{
  "nbformat": 4,
  "nbformat_minor": 0,
  "metadata": {
    "colab": {
      "name": "A_Ramnarine_Quiz4.ipynb",
      "provenance": []
    },
    "kernelspec": {
      "name": "python3",
      "display_name": "Python 3"
    },
    "language_info": {
      "name": "python"
    }
  },
  "cells": [
    {
      "cell_type": "markdown",
      "source": [
        "## Boston Housing Data\n",
        "This data set contains information regarding mortgage housing in Boston as per the the Federal Reserve Bank of Boston. Each entry has attributes seperated into columns. Each row represents a single household and the different attributes of their application"
      ],
      "metadata": {
        "id": "TdXtevBMDOoP"
      }
    },
    {
      "cell_type": "code",
      "execution_count": 427,
      "metadata": {
        "colab": {
          "base_uri": "https://localhost:8080/",
          "height": 424
        },
        "id": "6dBxQldSS1Dp",
        "outputId": "2323687a-5043-42f7-c3f5-9d9d29fee841"
      },
      "outputs": [
        {
          "output_type": "execute_result",
          "data": {
            "text/plain": [
              "           dir       hir       lvr       ccs       mcs pbcr dmi self single  \\\n",
              "0     0.221000  0.221000  0.800000  5.000000  2.000000   no  no   no     no   \n",
              "1     0.265000  0.265000  0.921875  2.000000  2.000000   no  no   no    yes   \n",
              "2     0.372000  0.248000  0.920398  1.000000  2.000000   no  no   no     no   \n",
              "3     0.320000  0.250000  0.860465  1.000000  2.000000   no  no   no     no   \n",
              "4     0.360000  0.350000  0.600000  1.000000  1.000000   no  no   no     no   \n",
              "...        ...       ...       ...       ...       ...  ...  ..  ...    ...   \n",
              "2376  0.300000  0.300000  0.777049  1.000000  2.000000   no  no   no    yes   \n",
              "2377  0.260000  0.200000  0.526761  2.000000  1.000000   no  no   no     no   \n",
              "2378  0.320000  0.260000  0.753846  6.000000  1.000000  yes  no   no    yes   \n",
              "2379  0.350000  0.260000  0.813559  2.000000  2.000000   no  no   no    yes   \n",
              "2380  0.330814  0.255346  0.700783  2.116387  1.721008  NaN  no  NaN    yes   \n",
              "\n",
              "          uria  comdominiom black deny  \n",
              "0     3.900000            0    no   no  \n",
              "1     3.200000            0    no   no  \n",
              "2     3.200000            0    no   no  \n",
              "3     4.300000            0    no   no  \n",
              "4     3.200000            0    no   no  \n",
              "...        ...          ...   ...  ...  \n",
              "2376  3.200000            1    no   no  \n",
              "2377  3.100000            0    no   no  \n",
              "2378  3.100000            1   yes  yes  \n",
              "2379  4.300000            1    no  yes  \n",
              "2380  3.774496            0    no   no  \n",
              "\n",
              "[2381 rows x 13 columns]"
            ],
            "text/html": [
              "\n",
              "  <div id=\"df-440d6783-b0df-424b-b30e-6f1e31bc4ef5\">\n",
              "    <div class=\"colab-df-container\">\n",
              "      <div>\n",
              "<style scoped>\n",
              "    .dataframe tbody tr th:only-of-type {\n",
              "        vertical-align: middle;\n",
              "    }\n",
              "\n",
              "    .dataframe tbody tr th {\n",
              "        vertical-align: top;\n",
              "    }\n",
              "\n",
              "    .dataframe thead th {\n",
              "        text-align: right;\n",
              "    }\n",
              "</style>\n",
              "<table border=\"1\" class=\"dataframe\">\n",
              "  <thead>\n",
              "    <tr style=\"text-align: right;\">\n",
              "      <th></th>\n",
              "      <th>dir</th>\n",
              "      <th>hir</th>\n",
              "      <th>lvr</th>\n",
              "      <th>ccs</th>\n",
              "      <th>mcs</th>\n",
              "      <th>pbcr</th>\n",
              "      <th>dmi</th>\n",
              "      <th>self</th>\n",
              "      <th>single</th>\n",
              "      <th>uria</th>\n",
              "      <th>comdominiom</th>\n",
              "      <th>black</th>\n",
              "      <th>deny</th>\n",
              "    </tr>\n",
              "  </thead>\n",
              "  <tbody>\n",
              "    <tr>\n",
              "      <th>0</th>\n",
              "      <td>0.221000</td>\n",
              "      <td>0.221000</td>\n",
              "      <td>0.800000</td>\n",
              "      <td>5.000000</td>\n",
              "      <td>2.000000</td>\n",
              "      <td>no</td>\n",
              "      <td>no</td>\n",
              "      <td>no</td>\n",
              "      <td>no</td>\n",
              "      <td>3.900000</td>\n",
              "      <td>0</td>\n",
              "      <td>no</td>\n",
              "      <td>no</td>\n",
              "    </tr>\n",
              "    <tr>\n",
              "      <th>1</th>\n",
              "      <td>0.265000</td>\n",
              "      <td>0.265000</td>\n",
              "      <td>0.921875</td>\n",
              "      <td>2.000000</td>\n",
              "      <td>2.000000</td>\n",
              "      <td>no</td>\n",
              "      <td>no</td>\n",
              "      <td>no</td>\n",
              "      <td>yes</td>\n",
              "      <td>3.200000</td>\n",
              "      <td>0</td>\n",
              "      <td>no</td>\n",
              "      <td>no</td>\n",
              "    </tr>\n",
              "    <tr>\n",
              "      <th>2</th>\n",
              "      <td>0.372000</td>\n",
              "      <td>0.248000</td>\n",
              "      <td>0.920398</td>\n",
              "      <td>1.000000</td>\n",
              "      <td>2.000000</td>\n",
              "      <td>no</td>\n",
              "      <td>no</td>\n",
              "      <td>no</td>\n",
              "      <td>no</td>\n",
              "      <td>3.200000</td>\n",
              "      <td>0</td>\n",
              "      <td>no</td>\n",
              "      <td>no</td>\n",
              "    </tr>\n",
              "    <tr>\n",
              "      <th>3</th>\n",
              "      <td>0.320000</td>\n",
              "      <td>0.250000</td>\n",
              "      <td>0.860465</td>\n",
              "      <td>1.000000</td>\n",
              "      <td>2.000000</td>\n",
              "      <td>no</td>\n",
              "      <td>no</td>\n",
              "      <td>no</td>\n",
              "      <td>no</td>\n",
              "      <td>4.300000</td>\n",
              "      <td>0</td>\n",
              "      <td>no</td>\n",
              "      <td>no</td>\n",
              "    </tr>\n",
              "    <tr>\n",
              "      <th>4</th>\n",
              "      <td>0.360000</td>\n",
              "      <td>0.350000</td>\n",
              "      <td>0.600000</td>\n",
              "      <td>1.000000</td>\n",
              "      <td>1.000000</td>\n",
              "      <td>no</td>\n",
              "      <td>no</td>\n",
              "      <td>no</td>\n",
              "      <td>no</td>\n",
              "      <td>3.200000</td>\n",
              "      <td>0</td>\n",
              "      <td>no</td>\n",
              "      <td>no</td>\n",
              "    </tr>\n",
              "    <tr>\n",
              "      <th>...</th>\n",
              "      <td>...</td>\n",
              "      <td>...</td>\n",
              "      <td>...</td>\n",
              "      <td>...</td>\n",
              "      <td>...</td>\n",
              "      <td>...</td>\n",
              "      <td>...</td>\n",
              "      <td>...</td>\n",
              "      <td>...</td>\n",
              "      <td>...</td>\n",
              "      <td>...</td>\n",
              "      <td>...</td>\n",
              "      <td>...</td>\n",
              "    </tr>\n",
              "    <tr>\n",
              "      <th>2376</th>\n",
              "      <td>0.300000</td>\n",
              "      <td>0.300000</td>\n",
              "      <td>0.777049</td>\n",
              "      <td>1.000000</td>\n",
              "      <td>2.000000</td>\n",
              "      <td>no</td>\n",
              "      <td>no</td>\n",
              "      <td>no</td>\n",
              "      <td>yes</td>\n",
              "      <td>3.200000</td>\n",
              "      <td>1</td>\n",
              "      <td>no</td>\n",
              "      <td>no</td>\n",
              "    </tr>\n",
              "    <tr>\n",
              "      <th>2377</th>\n",
              "      <td>0.260000</td>\n",
              "      <td>0.200000</td>\n",
              "      <td>0.526761</td>\n",
              "      <td>2.000000</td>\n",
              "      <td>1.000000</td>\n",
              "      <td>no</td>\n",
              "      <td>no</td>\n",
              "      <td>no</td>\n",
              "      <td>no</td>\n",
              "      <td>3.100000</td>\n",
              "      <td>0</td>\n",
              "      <td>no</td>\n",
              "      <td>no</td>\n",
              "    </tr>\n",
              "    <tr>\n",
              "      <th>2378</th>\n",
              "      <td>0.320000</td>\n",
              "      <td>0.260000</td>\n",
              "      <td>0.753846</td>\n",
              "      <td>6.000000</td>\n",
              "      <td>1.000000</td>\n",
              "      <td>yes</td>\n",
              "      <td>no</td>\n",
              "      <td>no</td>\n",
              "      <td>yes</td>\n",
              "      <td>3.100000</td>\n",
              "      <td>1</td>\n",
              "      <td>yes</td>\n",
              "      <td>yes</td>\n",
              "    </tr>\n",
              "    <tr>\n",
              "      <th>2379</th>\n",
              "      <td>0.350000</td>\n",
              "      <td>0.260000</td>\n",
              "      <td>0.813559</td>\n",
              "      <td>2.000000</td>\n",
              "      <td>2.000000</td>\n",
              "      <td>no</td>\n",
              "      <td>no</td>\n",
              "      <td>no</td>\n",
              "      <td>yes</td>\n",
              "      <td>4.300000</td>\n",
              "      <td>1</td>\n",
              "      <td>no</td>\n",
              "      <td>yes</td>\n",
              "    </tr>\n",
              "    <tr>\n",
              "      <th>2380</th>\n",
              "      <td>0.330814</td>\n",
              "      <td>0.255346</td>\n",
              "      <td>0.700783</td>\n",
              "      <td>2.116387</td>\n",
              "      <td>1.721008</td>\n",
              "      <td>NaN</td>\n",
              "      <td>no</td>\n",
              "      <td>NaN</td>\n",
              "      <td>yes</td>\n",
              "      <td>3.774496</td>\n",
              "      <td>0</td>\n",
              "      <td>no</td>\n",
              "      <td>no</td>\n",
              "    </tr>\n",
              "  </tbody>\n",
              "</table>\n",
              "<p>2381 rows × 13 columns</p>\n",
              "</div>\n",
              "      <button class=\"colab-df-convert\" onclick=\"convertToInteractive('df-440d6783-b0df-424b-b30e-6f1e31bc4ef5')\"\n",
              "              title=\"Convert this dataframe to an interactive table.\"\n",
              "              style=\"display:none;\">\n",
              "        \n",
              "  <svg xmlns=\"http://www.w3.org/2000/svg\" height=\"24px\"viewBox=\"0 0 24 24\"\n",
              "       width=\"24px\">\n",
              "    <path d=\"M0 0h24v24H0V0z\" fill=\"none\"/>\n",
              "    <path d=\"M18.56 5.44l.94 2.06.94-2.06 2.06-.94-2.06-.94-.94-2.06-.94 2.06-2.06.94zm-11 1L8.5 8.5l.94-2.06 2.06-.94-2.06-.94L8.5 2.5l-.94 2.06-2.06.94zm10 10l.94 2.06.94-2.06 2.06-.94-2.06-.94-.94-2.06-.94 2.06-2.06.94z\"/><path d=\"M17.41 7.96l-1.37-1.37c-.4-.4-.92-.59-1.43-.59-.52 0-1.04.2-1.43.59L10.3 9.45l-7.72 7.72c-.78.78-.78 2.05 0 2.83L4 21.41c.39.39.9.59 1.41.59.51 0 1.02-.2 1.41-.59l7.78-7.78 2.81-2.81c.8-.78.8-2.07 0-2.86zM5.41 20L4 18.59l7.72-7.72 1.47 1.35L5.41 20z\"/>\n",
              "  </svg>\n",
              "      </button>\n",
              "      \n",
              "  <style>\n",
              "    .colab-df-container {\n",
              "      display:flex;\n",
              "      flex-wrap:wrap;\n",
              "      gap: 12px;\n",
              "    }\n",
              "\n",
              "    .colab-df-convert {\n",
              "      background-color: #E8F0FE;\n",
              "      border: none;\n",
              "      border-radius: 50%;\n",
              "      cursor: pointer;\n",
              "      display: none;\n",
              "      fill: #1967D2;\n",
              "      height: 32px;\n",
              "      padding: 0 0 0 0;\n",
              "      width: 32px;\n",
              "    }\n",
              "\n",
              "    .colab-df-convert:hover {\n",
              "      background-color: #E2EBFA;\n",
              "      box-shadow: 0px 1px 2px rgba(60, 64, 67, 0.3), 0px 1px 3px 1px rgba(60, 64, 67, 0.15);\n",
              "      fill: #174EA6;\n",
              "    }\n",
              "\n",
              "    [theme=dark] .colab-df-convert {\n",
              "      background-color: #3B4455;\n",
              "      fill: #D2E3FC;\n",
              "    }\n",
              "\n",
              "    [theme=dark] .colab-df-convert:hover {\n",
              "      background-color: #434B5C;\n",
              "      box-shadow: 0px 1px 3px 1px rgba(0, 0, 0, 0.15);\n",
              "      filter: drop-shadow(0px 1px 2px rgba(0, 0, 0, 0.3));\n",
              "      fill: #FFFFFF;\n",
              "    }\n",
              "  </style>\n",
              "\n",
              "      <script>\n",
              "        const buttonEl =\n",
              "          document.querySelector('#df-440d6783-b0df-424b-b30e-6f1e31bc4ef5 button.colab-df-convert');\n",
              "        buttonEl.style.display =\n",
              "          google.colab.kernel.accessAllowed ? 'block' : 'none';\n",
              "\n",
              "        async function convertToInteractive(key) {\n",
              "          const element = document.querySelector('#df-440d6783-b0df-424b-b30e-6f1e31bc4ef5');\n",
              "          const dataTable =\n",
              "            await google.colab.kernel.invokeFunction('convertToInteractive',\n",
              "                                                     [key], {});\n",
              "          if (!dataTable) return;\n",
              "\n",
              "          const docLinkHtml = 'Like what you see? Visit the ' +\n",
              "            '<a target=\"_blank\" href=https://colab.research.google.com/notebooks/data_table.ipynb>data table notebook</a>'\n",
              "            + ' to learn more about interactive tables.';\n",
              "          element.innerHTML = '';\n",
              "          dataTable['output_type'] = 'display_data';\n",
              "          await google.colab.output.renderOutput(dataTable, element);\n",
              "          const docLink = document.createElement('div');\n",
              "          docLink.innerHTML = docLinkHtml;\n",
              "          element.appendChild(docLink);\n",
              "        }\n",
              "      </script>\n",
              "    </div>\n",
              "  </div>\n",
              "  "
            ]
          },
          "metadata": {},
          "execution_count": 427
        }
      ],
      "source": [
        "import matplotlib.pyplot as plt\n",
        "import numpy as np\n",
        "import pandas as pd\n",
        "import seaborn as sns\n",
        "\n",
        "df = pd.read_csv('https://raw.githubusercontent.com/AvenashRamnarine/CSCI381/main/HDMA%20Boston%20Housing%20Data.csv')\n",
        "#Drop first column because dataframe already gives us index values\n",
        "df = df.iloc[: , 1:]\n",
        "\n",
        "df"
      ]
    },
    {
      "cell_type": "markdown",
      "source": [
        "## EDA\n",
        "\n",
        "The data set contains 2,381 entries and lists the attributes for each. The attributes given are: \n",
        "1. dir - debt payments to total income ratio\n",
        "\n",
        "2. hir - housing expenses to income ratio\n",
        "\n",
        "3. lvr - ratio of size of loan to assessed value of property\n",
        "\n",
        "4. ccs - consumer credit score from 1 to 6 (a low value being a good score)\n",
        "\n",
        "5. mcs - mortgage credit score from 1 to 4 (a low value being a good score)\n",
        "\n",
        "6. pbcr - public bad credit record ?\n",
        "\n",
        "7. dmi - denied mortgage insurance ?\n",
        "\n",
        "8. self - self employed ?\n",
        "\n",
        "9. single - is the applicant single ?\n",
        "\n",
        "10. uria - 1989 Massachusetts unemployment rate in the applicant's industry\n",
        "\n",
        "11. condominium - is unit a condominium ? (was called comdominiom in version 0.2-9 and earlier versions of the package)\n",
        "\n",
        "12. black - is the applicant black ?\n",
        "\n",
        "13. deny - mortgage application denied ?"
      ],
      "metadata": {
        "id": "XuGjvI1mD-W8"
      }
    },
    {
      "cell_type": "markdown",
      "source": [
        "Looking specifically at certain attributes of the data set we can begin to analyze different aspects of it."
      ],
      "metadata": {
        "id": "-DG4ozBWE2L9"
      }
    },
    {
      "cell_type": "markdown",
      "source": [
        "For example, let's take a look at the debt payments to total income ratio using the dir attribute"
      ],
      "metadata": {
        "id": "OiE4rxr6E-LO"
      }
    },
    {
      "cell_type": "code",
      "source": [
        "fig, ax = plt.subplots()\n",
        "dp = sns.distplot(df['dir'], ax=ax)\n",
        "dp.set_ylabel(\"\", fontsize = 10)"
      ],
      "metadata": {
        "colab": {
          "base_uri": "https://localhost:8080/",
          "height": 351
        },
        "id": "pFWDS4UNFNq_",
        "outputId": "49ea6211-27b3-4a5e-9ab2-44898e5b2589"
      },
      "execution_count": 428,
      "outputs": [
        {
          "output_type": "stream",
          "name": "stderr",
          "text": [
            "/usr/local/lib/python3.7/dist-packages/seaborn/distributions.py:2619: FutureWarning: `distplot` is a deprecated function and will be removed in a future version. Please adapt your code to use either `displot` (a figure-level function with similar flexibility) or `histplot` (an axes-level function for histograms).\n",
            "  warnings.warn(msg, FutureWarning)\n"
          ]
        },
        {
          "output_type": "execute_result",
          "data": {
            "text/plain": [
              "Text(0, 0.5, '')"
            ]
          },
          "metadata": {},
          "execution_count": 428
        },
        {
          "output_type": "display_data",
          "data": {
            "text/plain": [
              "<Figure size 432x288 with 1 Axes>"
            ],
            "image/png": "[encoded data removed]"
          },
          "metadata": {
            "needs_background": "light"
          }
        }
      ]
    },
    {
      "cell_type": "markdown",
      "source": [
        "We can see here that the majoirty of individuals in this data set land between the 0.0-0.5 ratio range. And within this range we can see that most people seem to be around the 0.25 range. This tells us that for the people within our data set, the majority of them are using about 1/4 of their total income towards debt payments"
      ],
      "metadata": {
        "id": "Y4ZsWQ2lGR86"
      }
    },
    {
      "cell_type": "markdown",
      "source": [
        "While we're analyzing this data, lets also take a look at the housing expenses to income ratio using the hir attribute"
      ],
      "metadata": {
        "id": "s23uFFj7Hb6w"
      }
    },
    {
      "cell_type": "code",
      "source": [
        "fig, ax = plt.subplots()\n",
        "sns.distplot(df['hir'], ax=ax)"
      ],
      "metadata": {
        "colab": {
          "base_uri": "https://localhost:8080/",
          "height": 351
        },
        "id": "pSiMZaqHHzEn",
        "outputId": "ef8feda4-9dbf-4f80-b1ce-945ff33a9d2a"
      },
      "execution_count": 429,
      "outputs": [
        {
          "output_type": "stream",
          "name": "stderr",
          "text": [
            "/usr/local/lib/python3.7/dist-packages/seaborn/distributions.py:2619: FutureWarning: `distplot` is a deprecated function and will be removed in a future version. Please adapt your code to use either `displot` (a figure-level function with similar flexibility) or `histplot` (an axes-level function for histograms).\n",
            "  warnings.warn(msg, FutureWarning)\n"
          ]
        },
        {
          "output_type": "execute_result",
          "data": {
            "text/plain": [
              "<matplotlib.axes._subplots.AxesSubplot at 0x7f8e4c68a990>"
            ]
          },
          "metadata": {},
          "execution_count": 429
        },
        {
          "output_type": "display_data",
          "data": {
            "text/plain": [
              "<Figure size 432x288 with 1 Axes>"
            ],
            "image/png": "[encoded data removed]"
          },
          "metadata": {
            "needs_background": "light"
          }
        }
      ]
    },
    {
      "cell_type": "markdown",
      "source": [
        "We see here again that the majority seem to be spending about 0.25 or 1/4 of their income on housing expenses. Which, when put together with the debt to income ratio, makes sense."
      ],
      "metadata": {
        "id": "Z0jvW_y4H7Il"
      }
    },
    {
      "cell_type": "markdown",
      "source": [
        "Next we should take a look at some other aspects of this data set. For example consumer credit scores and mortgage credit scores"
      ],
      "metadata": {
        "id": "KV8awRTQINny"
      }
    },
    {
      "cell_type": "code",
      "source": [
        "sns.displot(df['ccs'])"
      ],
      "metadata": {
        "colab": {
          "base_uri": "https://localhost:8080/",
          "height": 386
        },
        "id": "xwfEzoVEJfyt",
        "outputId": "4011c929-4b1d-48cb-af9a-98a379727ea2"
      },
      "execution_count": 430,
      "outputs": [
        {
          "output_type": "execute_result",
          "data": {
            "text/plain": [
              "<seaborn.axisgrid.FacetGrid at 0x7f8e4c650b90>"
            ]
          },
          "metadata": {},
          "execution_count": 430
        },
        {
          "output_type": "display_data",
          "data": {
            "text/plain": [
              "<Figure size 360x360 with 1 Axes>"
            ],
            "image/png": "[encoded data removed]"
          },
          "metadata": {
            "needs_background": "light"
          }
        }
      ]
    },
    {
      "cell_type": "code",
      "source": [
        "sns.displot(df['mcs'])"
      ],
      "metadata": {
        "colab": {
          "base_uri": "https://localhost:8080/",
          "height": 386
        },
        "id": "lQ9taFvGLSHQ",
        "outputId": "a515515b-945a-49b1-ea81-5a8984205f9f"
      },
      "execution_count": 431,
      "outputs": [
        {
          "output_type": "execute_result",
          "data": {
            "text/plain": [
              "<seaborn.axisgrid.FacetGrid at 0x7f8e4c6e1890>"
            ]
          },
          "metadata": {},
          "execution_count": 431
        },
        {
          "output_type": "display_data",
          "data": {
            "text/plain": [
              "<Figure size 360x360 with 1 Axes>"
            ],
            "image/png": "[encoded data removed]"
          },
          "metadata": {
            "needs_background": "light"
          }
        }
      ]
    },
    {
      "cell_type": "markdown",
      "source": [
        "It's important to note that these values are scaled to a range where the lower the value, the better. The consumer credit score is scaled from 1-6 and the mortgage credit score is scaled from 1-4"
      ],
      "metadata": {
        "id": "QJAYOEspLaeo"
      }
    },
    {
      "cell_type": "markdown",
      "source": [
        "However still we can see in the data that most of the people in our data set are in pretty good standing when it comes to credit scores"
      ],
      "metadata": {
        "id": "5_cwr5obQP2t"
      }
    },
    {
      "cell_type": "markdown",
      "source": [
        "We can also try and look at relationships between 2 attribute. For example consumer credit score and housing expenses to income ratio."
      ],
      "metadata": {
        "id": "3nJ8xTR_VXUI"
      }
    },
    {
      "cell_type": "code",
      "source": [
        "sns.lineplot(data=df['ccs'], x=df['ccs'], y=df['hir'])"
      ],
      "metadata": {
        "colab": {
          "base_uri": "https://localhost:8080/",
          "height": 296
        },
        "id": "69-h9z_yQges",
        "outputId": "1d958e0f-4268-4085-f7b0-feb769d92240"
      },
      "execution_count": 432,
      "outputs": [
        {
          "output_type": "execute_result",
          "data": {
            "text/plain": [
              "<matplotlib.axes._subplots.AxesSubplot at 0x7f8e4c40d950>"
            ]
          },
          "metadata": {},
          "execution_count": 432
        },
        {
          "output_type": "display_data",
          "data": {
            "text/plain": [
              "<Figure size 432x288 with 1 Axes>"
            ],
            "image/png": "[encoded data removed]"
          },
          "metadata": {
            "needs_background": "light"
          }
        }
      ]
    },
    {
      "cell_type": "markdown",
      "source": [
        "This tells us that generally the more a person spends on their home expensese, the higher (and worse) their credit score is"
      ],
      "metadata": {
        "id": "TBuNZGOwWUhs"
      }
    },
    {
      "cell_type": "markdown",
      "source": [
        "Now that we've successfully made some analysis of the data, it's time we should look into cleaning and preparing the data."
      ],
      "metadata": {
        "id": "4J3N1cKDWmFm"
      }
    },
    {
      "cell_type": "markdown",
      "source": [
        "## Data cleansing and preperation\n",
        "The first thing we should do is scrape the data for any missing values."
      ],
      "metadata": {
        "id": "LfbKJnd6Wubu"
      }
    },
    {
      "cell_type": "code",
      "source": [
        "print(df['dir'].isnull().sum())\n",
        "print(df['hir'].isnull().sum())\n",
        "print(df['lvr'].isnull().sum())\n",
        "print(df['ccs'].isnull().sum())\n",
        "print(df['mcs'].isnull().sum())\n",
        "print(df['pbcr'].isnull().sum())\n",
        "print(df['dmi'].isnull().sum())\n",
        "print(df['self'].isnull().sum())\n",
        "print(df['single'].isnull().sum())\n",
        "print(df['uria'].isnull().sum())\n",
        "print(df['comdominiom'].isnull().sum())\n",
        "print(df['black'].isnull().sum())\n",
        "print(df['deny'].isnull().sum())\n"
      ],
      "metadata": {
        "colab": {
          "base_uri": "https://localhost:8080/"
        },
        "id": "ihuQS6mjXEeD",
        "outputId": "e7a2d518-cc2b-4d4a-fbb3-84b7992ba8b5"
      },
      "execution_count": 433,
      "outputs": [
        {
          "output_type": "stream",
          "name": "stdout",
          "text": [
            "0\n",
            "0\n",
            "0\n",
            "0\n",
            "0\n",
            "1\n",
            "0\n",
            "1\n",
            "0\n",
            "0\n",
            "0\n",
            "0\n",
            "0\n"
          ]
        }
      ]
    },
    {
      "cell_type": "markdown",
      "source": [
        "Here we can see that we have 2 NaN values in 'pbcr' and 'self' respectively. Since the majority of answers within this data set for 'pbcr' and 'self' are 'no', it would be a reasonable assumption to set these values to 'no' as well. As the alternative setting them to 'yes' would most likely cause unforseen changes in the data set. And of course that is exactly what we are trying to get rid of when cleaning the data. "
      ],
      "metadata": {
        "id": "iBkXPqhJX0bq"
      }
    },
    {
      "cell_type": "code",
      "source": [
        "df['pbcr'].fillna('no', inplace = True)\n",
        "df['self'].fillna('no', inplace = True)"
      ],
      "metadata": {
        "id": "bq3OvoCuY961"
      },
      "execution_count": 434,
      "outputs": []
    },
    {
      "cell_type": "markdown",
      "source": [
        "And just make sure we have successfuly cleansed the data, we will check again to make sure we filled all the null values."
      ],
      "metadata": {
        "id": "dk4ndFqOZO0j"
      }
    },
    {
      "cell_type": "code",
      "source": [
        "print(df['pbcr'].isnull().sum())\n",
        "print(df['self'].isnull().sum())"
      ],
      "metadata": {
        "colab": {
          "base_uri": "https://localhost:8080/"
        },
        "id": "v8sZTAo0ZP1j",
        "outputId": "a9f1dda7-0340-402a-a144-842e7cbc8301"
      },
      "execution_count": 435,
      "outputs": [
        {
          "output_type": "stream",
          "name": "stdout",
          "text": [
            "0\n",
            "0\n"
          ]
        }
      ]
    },
    {
      "cell_type": "code",
      "source": [
        "df"
      ],
      "metadata": {
        "colab": {
          "base_uri": "https://localhost:8080/",
          "height": 424
        },
        "id": "w-UeuFodaC3T",
        "outputId": "bab0dab8-8ab4-46b5-a0ad-0621f9bc5962"
      },
      "execution_count": 436,
      "outputs": [
        {
          "output_type": "execute_result",
          "data": {
            "text/plain": [
              "           dir       hir       lvr       ccs       mcs pbcr dmi self single  \\\n",
              "0     0.221000  0.221000  0.800000  5.000000  2.000000   no  no   no     no   \n",
              "1     0.265000  0.265000  0.921875  2.000000  2.000000   no  no   no    yes   \n",
              "2     0.372000  0.248000  0.920398  1.000000  2.000000   no  no   no     no   \n",
              "3     0.320000  0.250000  0.860465  1.000000  2.000000   no  no   no     no   \n",
              "4     0.360000  0.350000  0.600000  1.000000  1.000000   no  no   no     no   \n",
              "...        ...       ...       ...       ...       ...  ...  ..  ...    ...   \n",
              "2376  0.300000  0.300000  0.777049  1.000000  2.000000   no  no   no    yes   \n",
              "2377  0.260000  0.200000  0.526761  2.000000  1.000000   no  no   no     no   \n",
              "2378  0.320000  0.260000  0.753846  6.000000  1.000000  yes  no   no    yes   \n",
              "2379  0.350000  0.260000  0.813559  2.000000  2.000000   no  no   no    yes   \n",
              "2380  0.330814  0.255346  0.700783  2.116387  1.721008   no  no   no    yes   \n",
              "\n",
              "          uria  comdominiom black deny  \n",
              "0     3.900000            0    no   no  \n",
              "1     3.200000            0    no   no  \n",
              "2     3.200000            0    no   no  \n",
              "3     4.300000            0    no   no  \n",
              "4     3.200000            0    no   no  \n",
              "...        ...          ...   ...  ...  \n",
              "2376  3.200000            1    no   no  \n",
              "2377  3.100000            0    no   no  \n",
              "2378  3.100000            1   yes  yes  \n",
              "2379  4.300000            1    no  yes  \n",
              "2380  3.774496            0    no   no  \n",
              "\n",
              "[2381 rows x 13 columns]"
            ],
            "text/html": [
              "\n",
              "  <div id=\"df-78608a4b-512a-414f-a8e1-6b60b63498fb\">\n",
              "    <div class=\"colab-df-container\">\n",
              "      <div>\n",
              "<style scoped>\n",
              "    .dataframe tbody tr th:only-of-type {\n",
              "        vertical-align: middle;\n",
              "    }\n",
              "\n",
              "    .dataframe tbody tr th {\n",
              "        vertical-align: top;\n",
              "    }\n",
              "\n",
              "    .dataframe thead th {\n",
              "        text-align: right;\n",
              "    }\n",
              "</style>\n",
              "<table border=\"1\" class=\"dataframe\">\n",
              "  <thead>\n",
              "    <tr style=\"text-align: right;\">\n",
              "      <th></th>\n",
              "      <th>dir</th>\n",
              "      <th>hir</th>\n",
              "      <th>lvr</th>\n",
              "      <th>ccs</th>\n",
              "      <th>mcs</th>\n",
              "      <th>pbcr</th>\n",
              "      <th>dmi</th>\n",
              "      <th>self</th>\n",
              "      <th>single</th>\n",
              "      <th>uria</th>\n",
              "      <th>comdominiom</th>\n",
              "      <th>black</th>\n",
              "      <th>deny</th>\n",
              "    </tr>\n",
              "  </thead>\n",
              "  <tbody>\n",
              "    <tr>\n",
              "      <th>0</th>\n",
              "      <td>0.221000</td>\n",
              "      <td>0.221000</td>\n",
              "      <td>0.800000</td>\n",
              "      <td>5.000000</td>\n",
              "      <td>2.000000</td>\n",
              "      <td>no</td>\n",
              "      <td>no</td>\n",
              "      <td>no</td>\n",
              "      <td>no</td>\n",
              "      <td>3.900000</td>\n",
              "      <td>0</td>\n",
              "      <td>no</td>\n",
              "      <td>no</td>\n",
              "    </tr>\n",
              "    <tr>\n",
              "      <th>1</th>\n",
              "      <td>0.265000</td>\n",
              "      <td>0.265000</td>\n",
              "      <td>0.921875</td>\n",
              "      <td>2.000000</td>\n",
              "      <td>2.000000</td>\n",
              "      <td>no</td>\n",
              "      <td>no</td>\n",
              "      <td>no</td>\n",
              "      <td>yes</td>\n",
              "      <td>3.200000</td>\n",
              "      <td>0</td>\n",
              "      <td>no</td>\n",
              "      <td>no</td>\n",
              "    </tr>\n",
              "    <tr>\n",
              "      <th>2</th>\n",
              "      <td>0.372000</td>\n",
              "      <td>0.248000</td>\n",
              "      <td>0.920398</td>\n",
              "      <td>1.000000</td>\n",
              "      <td>2.000000</td>\n",
              "      <td>no</td>\n",
              "      <td>no</td>\n",
              "      <td>no</td>\n",
              "      <td>no</td>\n",
              "      <td>3.200000</td>\n",
              "      <td>0</td>\n",
              "      <td>no</td>\n",
              "      <td>no</td>\n",
              "    </tr>\n",
              "    <tr>\n",
              "      <th>3</th>\n",
              "      <td>0.320000</td>\n",
              "      <td>0.250000</td>\n",
              "      <td>0.860465</td>\n",
              "      <td>1.000000</td>\n",
              "      <td>2.000000</td>\n",
              "      <td>no</td>\n",
              "      <td>no</td>\n",
              "      <td>no</td>\n",
              "      <td>no</td>\n",
              "      <td>4.300000</td>\n",
              "      <td>0</td>\n",
              "      <td>no</td>\n",
              "      <td>no</td>\n",
              "    </tr>\n",
              "    <tr>\n",
              "      <th>4</th>\n",
              "      <td>0.360000</td>\n",
              "      <td>0.350000</td>\n",
              "      <td>0.600000</td>\n",
              "      <td>1.000000</td>\n",
              "      <td>1.000000</td>\n",
              "      <td>no</td>\n",
              "      <td>no</td>\n",
              "      <td>no</td>\n",
              "      <td>no</td>\n",
              "      <td>3.200000</td>\n",
              "      <td>0</td>\n",
              "      <td>no</td>\n",
              "      <td>no</td>\n",
              "    </tr>\n",
              "    <tr>\n",
              "      <th>...</th>\n",
              "      <td>...</td>\n",
              "      <td>...</td>\n",
              "      <td>...</td>\n",
              "      <td>...</td>\n",
              "      <td>...</td>\n",
              "      <td>...</td>\n",
              "      <td>...</td>\n",
              "      <td>...</td>\n",
              "      <td>...</td>\n",
              "      <td>...</td>\n",
              "      <td>...</td>\n",
              "      <td>...</td>\n",
              "      <td>...</td>\n",
              "    </tr>\n",
              "    <tr>\n",
              "      <th>2376</th>\n",
              "      <td>0.300000</td>\n",
              "      <td>0.300000</td>\n",
              "      <td>0.777049</td>\n",
              "      <td>1.000000</td>\n",
              "      <td>2.000000</td>\n",
              "      <td>no</td>\n",
              "      <td>no</td>\n",
              "      <td>no</td>\n",
              "      <td>yes</td>\n",
              "      <td>3.200000</td>\n",
              "      <td>1</td>\n",
              "      <td>no</td>\n",
              "      <td>no</td>\n",
              "    </tr>\n",
              "    <tr>\n",
              "      <th>2377</th>\n",
              "      <td>0.260000</td>\n",
              "      <td>0.200000</td>\n",
              "      <td>0.526761</td>\n",
              "      <td>2.000000</td>\n",
              "      <td>1.000000</td>\n",
              "      <td>no</td>\n",
              "      <td>no</td>\n",
              "      <td>no</td>\n",
              "      <td>no</td>\n",
              "      <td>3.100000</td>\n",
              "      <td>0</td>\n",
              "      <td>no</td>\n",
              "      <td>no</td>\n",
              "    </tr>\n",
              "    <tr>\n",
              "      <th>2378</th>\n",
              "      <td>0.320000</td>\n",
              "      <td>0.260000</td>\n",
              "      <td>0.753846</td>\n",
              "      <td>6.000000</td>\n",
              "      <td>1.000000</td>\n",
              "      <td>yes</td>\n",
              "      <td>no</td>\n",
              "      <td>no</td>\n",
              "      <td>yes</td>\n",
              "      <td>3.100000</td>\n",
              "      <td>1</td>\n",
              "      <td>yes</td>\n",
              "      <td>yes</td>\n",
              "    </tr>\n",
              "    <tr>\n",
              "      <th>2379</th>\n",
              "      <td>0.350000</td>\n",
              "      <td>0.260000</td>\n",
              "      <td>0.813559</td>\n",
              "      <td>2.000000</td>\n",
              "      <td>2.000000</td>\n",
              "      <td>no</td>\n",
              "      <td>no</td>\n",
              "      <td>no</td>\n",
              "      <td>yes</td>\n",
              "      <td>4.300000</td>\n",
              "      <td>1</td>\n",
              "      <td>no</td>\n",
              "      <td>yes</td>\n",
              "    </tr>\n",
              "    <tr>\n",
              "      <th>2380</th>\n",
              "      <td>0.330814</td>\n",
              "      <td>0.255346</td>\n",
              "      <td>0.700783</td>\n",
              "      <td>2.116387</td>\n",
              "      <td>1.721008</td>\n",
              "      <td>no</td>\n",
              "      <td>no</td>\n",
              "      <td>no</td>\n",
              "      <td>yes</td>\n",
              "      <td>3.774496</td>\n",
              "      <td>0</td>\n",
              "      <td>no</td>\n",
              "      <td>no</td>\n",
              "    </tr>\n",
              "  </tbody>\n",
              "</table>\n",
              "<p>2381 rows × 13 columns</p>\n",
              "</div>\n",
              "      <button class=\"colab-df-convert\" onclick=\"convertToInteractive('df-78608a4b-512a-414f-a8e1-6b60b63498fb')\"\n",
              "              title=\"Convert this dataframe to an interactive table.\"\n",
              "              style=\"display:none;\">\n",
              "        \n",
              "  <svg xmlns=\"http://www.w3.org/2000/svg\" height=\"24px\"viewBox=\"0 0 24 24\"\n",
              "       width=\"24px\">\n",
              "    <path d=\"M0 0h24v24H0V0z\" fill=\"none\"/>\n",
              "    <path d=\"M18.56 5.44l.94 2.06.94-2.06 2.06-.94-2.06-.94-.94-2.06-.94 2.06-2.06.94zm-11 1L8.5 8.5l.94-2.06 2.06-.94-2.06-.94L8.5 2.5l-.94 2.06-2.06.94zm10 10l.94 2.06.94-2.06 2.06-.94-2.06-.94-.94-2.06-.94 2.06-2.06.94z\"/><path d=\"M17.41 7.96l-1.37-1.37c-.4-.4-.92-.59-1.43-.59-.52 0-1.04.2-1.43.59L10.3 9.45l-7.72 7.72c-.78.78-.78 2.05 0 2.83L4 21.41c.39.39.9.59 1.41.59.51 0 1.02-.2 1.41-.59l7.78-7.78 2.81-2.81c.8-.78.8-2.07 0-2.86zM5.41 20L4 18.59l7.72-7.72 1.47 1.35L5.41 20z\"/>\n",
              "  </svg>\n",
              "      </button>\n",
              "      \n",
              "  <style>\n",
              "    .colab-df-container {\n",
              "      display:flex;\n",
              "      flex-wrap:wrap;\n",
              "      gap: 12px;\n",
              "    }\n",
              "\n",
              "    .colab-df-convert {\n",
              "      background-color: #E8F0FE;\n",
              "      border: none;\n",
              "      border-radius: 50%;\n",
              "      cursor: pointer;\n",
              "      display: none;\n",
              "      fill: #1967D2;\n",
              "      height: 32px;\n",
              "      padding: 0 0 0 0;\n",
              "      width: 32px;\n",
              "    }\n",
              "\n",
              "    .colab-df-convert:hover {\n",
              "      background-color: #E2EBFA;\n",
              "      box-shadow: 0px 1px 2px rgba(60, 64, 67, 0.3), 0px 1px 3px 1px rgba(60, 64, 67, 0.15);\n",
              "      fill: #174EA6;\n",
              "    }\n",
              "\n",
              "    [theme=dark] .colab-df-convert {\n",
              "      background-color: #3B4455;\n",
              "      fill: #D2E3FC;\n",
              "    }\n",
              "\n",
              "    [theme=dark] .colab-df-convert:hover {\n",
              "      background-color: #434B5C;\n",
              "      box-shadow: 0px 1px 3px 1px rgba(0, 0, 0, 0.15);\n",
              "      filter: drop-shadow(0px 1px 2px rgba(0, 0, 0, 0.3));\n",
              "      fill: #FFFFFF;\n",
              "    }\n",
              "  </style>\n",
              "\n",
              "      <script>\n",
              "        const buttonEl =\n",
              "          document.querySelector('#df-78608a4b-512a-414f-a8e1-6b60b63498fb button.colab-df-convert');\n",
              "        buttonEl.style.display =\n",
              "          google.colab.kernel.accessAllowed ? 'block' : 'none';\n",
              "\n",
              "        async function convertToInteractive(key) {\n",
              "          const element = document.querySelector('#df-78608a4b-512a-414f-a8e1-6b60b63498fb');\n",
              "          const dataTable =\n",
              "            await google.colab.kernel.invokeFunction('convertToInteractive',\n",
              "                                                     [key], {});\n",
              "          if (!dataTable) return;\n",
              "\n",
              "          const docLinkHtml = 'Like what you see? Visit the ' +\n",
              "            '<a target=\"_blank\" href=https://colab.research.google.com/notebooks/data_table.ipynb>data table notebook</a>'\n",
              "            + ' to learn more about interactive tables.';\n",
              "          element.innerHTML = '';\n",
              "          dataTable['output_type'] = 'display_data';\n",
              "          await google.colab.output.renderOutput(dataTable, element);\n",
              "          const docLink = document.createElement('div');\n",
              "          docLink.innerHTML = docLinkHtml;\n",
              "          element.appendChild(docLink);\n",
              "        }\n",
              "      </script>\n",
              "    </div>\n",
              "  </div>\n",
              "  "
            ]
          },
          "metadata": {},
          "execution_count": 436
        }
      ]
    },
    {
      "cell_type": "markdown",
      "source": [
        "## Scaling Data\n",
        "The next thing to do is to try and find values within the data that may need scaling. For example, we can see that the values of dir, hir, and lvr are all scaled from a 0.0-1.0 ratio. However looking at the other attributes such as ccs, mcs and uria, those ratios are in a whole number format (1.0 and up). So perhaps a reasonable assumption can be to increase those smaller ratios by a factor of * 10. This will ensure that they can be more adequately compared with the other attributes of the data set."
      ],
      "metadata": {
        "id": "DJiJ16ggZoH3"
      }
    },
    {
      "cell_type": "code",
      "source": [
        "df['dir'] = df['dir'] * 10\n",
        "df['hir'] = df['hir'] * 10\n",
        "df['lvr'] = df['lvr'] * 10\n",
        "df"
      ],
      "metadata": {
        "colab": {
          "base_uri": "https://localhost:8080/",
          "height": 424
        },
        "id": "OMhi1ZLUbAsD",
        "outputId": "9b6017b3-7c46-4da7-c374-0a425937770d"
      },
      "execution_count": 437,
      "outputs": [
        {
          "output_type": "execute_result",
          "data": {
            "text/plain": [
              "           dir       hir       lvr       ccs       mcs pbcr dmi self single  \\\n",
              "0     2.210000  2.210000  8.000000  5.000000  2.000000   no  no   no     no   \n",
              "1     2.650000  2.650000  9.218750  2.000000  2.000000   no  no   no    yes   \n",
              "2     3.720000  2.480000  9.203980  1.000000  2.000000   no  no   no     no   \n",
              "3     3.200000  2.500000  8.604651  1.000000  2.000000   no  no   no     no   \n",
              "4     3.600000  3.500000  6.000000  1.000000  1.000000   no  no   no     no   \n",
              "...        ...       ...       ...       ...       ...  ...  ..  ...    ...   \n",
              "2376  3.000000  3.000000  7.770492  1.000000  2.000000   no  no   no    yes   \n",
              "2377  2.600000  2.000000  5.267606  2.000000  1.000000   no  no   no     no   \n",
              "2378  3.200000  2.600000  7.538462  6.000000  1.000000  yes  no   no    yes   \n",
              "2379  3.500000  2.600000  8.135593  2.000000  2.000000   no  no   no    yes   \n",
              "2380  3.308136  2.553461  7.007829  2.116387  1.721008   no  no   no    yes   \n",
              "\n",
              "          uria  comdominiom black deny  \n",
              "0     3.900000            0    no   no  \n",
              "1     3.200000            0    no   no  \n",
              "2     3.200000            0    no   no  \n",
              "3     4.300000            0    no   no  \n",
              "4     3.200000            0    no   no  \n",
              "...        ...          ...   ...  ...  \n",
              "2376  3.200000            1    no   no  \n",
              "2377  3.100000            0    no   no  \n",
              "2378  3.100000            1   yes  yes  \n",
              "2379  4.300000            1    no  yes  \n",
              "2380  3.774496            0    no   no  \n",
              "\n",
              "[2381 rows x 13 columns]"
            ],
            "text/html": [
              "\n",
              "  <div id=\"df-47fd6d2b-34a2-482a-9873-df0a05f034fa\">\n",
              "    <div class=\"colab-df-container\">\n",
              "      <div>\n",
              "<style scoped>\n",
              "    .dataframe tbody tr th:only-of-type {\n",
              "        vertical-align: middle;\n",
              "    }\n",
              "\n",
              "    .dataframe tbody tr th {\n",
              "        vertical-align: top;\n",
              "    }\n",
              "\n",
              "    .dataframe thead th {\n",
              "        text-align: right;\n",
              "    }\n",
              "</style>\n",
              "<table border=\"1\" class=\"dataframe\">\n",
              "  <thead>\n",
              "    <tr style=\"text-align: right;\">\n",
              "      <th></th>\n",
              "      <th>dir</th>\n",
              "      <th>hir</th>\n",
              "      <th>lvr</th>\n",
              "      <th>ccs</th>\n",
              "      <th>mcs</th>\n",
              "      <th>pbcr</th>\n",
              "      <th>dmi</th>\n",
              "      <th>self</th>\n",
              "      <th>single</th>\n",
              "      <th>uria</th>\n",
              "      <th>comdominiom</th>\n",
              "      <th>black</th>\n",
              "      <th>deny</th>\n",
              "    </tr>\n",
              "  </thead>\n",
              "  <tbody>\n",
              "    <tr>\n",
              "      <th>0</th>\n",
              "      <td>2.210000</td>\n",
              "      <td>2.210000</td>\n",
              "      <td>8.000000</td>\n",
              "      <td>5.000000</td>\n",
              "      <td>2.000000</td>\n",
              "      <td>no</td>\n",
              "      <td>no</td>\n",
              "      <td>no</td>\n",
              "      <td>no</td>\n",
              "      <td>3.900000</td>\n",
              "      <td>0</td>\n",
              "      <td>no</td>\n",
              "      <td>no</td>\n",
              "    </tr>\n",
              "    <tr>\n",
              "      <th>1</th>\n",
              "      <td>2.650000</td>\n",
              "      <td>2.650000</td>\n",
              "      <td>9.218750</td>\n",
              "      <td>2.000000</td>\n",
              "      <td>2.000000</td>\n",
              "      <td>no</td>\n",
              "      <td>no</td>\n",
              "      <td>no</td>\n",
              "      <td>yes</td>\n",
              "      <td>3.200000</td>\n",
              "      <td>0</td>\n",
              "      <td>no</td>\n",
              "      <td>no</td>\n",
              "    </tr>\n",
              "    <tr>\n",
              "      <th>2</th>\n",
              "      <td>3.720000</td>\n",
              "      <td>2.480000</td>\n",
              "      <td>9.203980</td>\n",
              "      <td>1.000000</td>\n",
              "      <td>2.000000</td>\n",
              "      <td>no</td>\n",
              "      <td>no</td>\n",
              "      <td>no</td>\n",
              "      <td>no</td>\n",
              "      <td>3.200000</td>\n",
              "      <td>0</td>\n",
              "      <td>no</td>\n",
              "      <td>no</td>\n",
              "    </tr>\n",
              "    <tr>\n",
              "      <th>3</th>\n",
              "      <td>3.200000</td>\n",
              "      <td>2.500000</td>\n",
              "      <td>8.604651</td>\n",
              "      <td>1.000000</td>\n",
              "      <td>2.000000</td>\n",
              "      <td>no</td>\n",
              "      <td>no</td>\n",
              "      <td>no</td>\n",
              "      <td>no</td>\n",
              "      <td>4.300000</td>\n",
              "      <td>0</td>\n",
              "      <td>no</td>\n",
              "      <td>no</td>\n",
              "    </tr>\n",
              "    <tr>\n",
              "      <th>4</th>\n",
              "      <td>3.600000</td>\n",
              "      <td>3.500000</td>\n",
              "      <td>6.000000</td>\n",
              "      <td>1.000000</td>\n",
              "      <td>1.000000</td>\n",
              "      <td>no</td>\n",
              "      <td>no</td>\n",
              "      <td>no</td>\n",
              "      <td>no</td>\n",
              "      <td>3.200000</td>\n",
              "      <td>0</td>\n",
              "      <td>no</td>\n",
              "      <td>no</td>\n",
              "    </tr>\n",
              "    <tr>\n",
              "      <th>...</th>\n",
              "      <td>...</td>\n",
              "      <td>...</td>\n",
              "      <td>...</td>\n",
              "      <td>...</td>\n",
              "      <td>...</td>\n",
              "      <td>...</td>\n",
              "      <td>...</td>\n",
              "      <td>...</td>\n",
              "      <td>...</td>\n",
              "      <td>...</td>\n",
              "      <td>...</td>\n",
              "      <td>...</td>\n",
              "      <td>...</td>\n",
              "    </tr>\n",
              "    <tr>\n",
              "      <th>2376</th>\n",
              "      <td>3.000000</td>\n",
              "      <td>3.000000</td>\n",
              "      <td>7.770492</td>\n",
              "      <td>1.000000</td>\n",
              "      <td>2.000000</td>\n",
              "      <td>no</td>\n",
              "      <td>no</td>\n",
              "      <td>no</td>\n",
              "      <td>yes</td>\n",
              "      <td>3.200000</td>\n",
              "      <td>1</td>\n",
              "      <td>no</td>\n",
              "      <td>no</td>\n",
              "    </tr>\n",
              "    <tr>\n",
              "      <th>2377</th>\n",
              "      <td>2.600000</td>\n",
              "      <td>2.000000</td>\n",
              "      <td>5.267606</td>\n",
              "      <td>2.000000</td>\n",
              "      <td>1.000000</td>\n",
              "      <td>no</td>\n",
              "      <td>no</td>\n",
              "      <td>no</td>\n",
              "      <td>no</td>\n",
              "      <td>3.100000</td>\n",
              "      <td>0</td>\n",
              "      <td>no</td>\n",
              "      <td>no</td>\n",
              "    </tr>\n",
              "    <tr>\n",
              "      <th>2378</th>\n",
              "      <td>3.200000</td>\n",
              "      <td>2.600000</td>\n",
              "      <td>7.538462</td>\n",
              "      <td>6.000000</td>\n",
              "      <td>1.000000</td>\n",
              "      <td>yes</td>\n",
              "      <td>no</td>\n",
              "      <td>no</td>\n",
              "      <td>yes</td>\n",
              "      <td>3.100000</td>\n",
              "      <td>1</td>\n",
              "      <td>yes</td>\n",
              "      <td>yes</td>\n",
              "    </tr>\n",
              "    <tr>\n",
              "      <th>2379</th>\n",
              "      <td>3.500000</td>\n",
              "      <td>2.600000</td>\n",
              "      <td>8.135593</td>\n",
              "      <td>2.000000</td>\n",
              "      <td>2.000000</td>\n",
              "      <td>no</td>\n",
              "      <td>no</td>\n",
              "      <td>no</td>\n",
              "      <td>yes</td>\n",
              "      <td>4.300000</td>\n",
              "      <td>1</td>\n",
              "      <td>no</td>\n",
              "      <td>yes</td>\n",
              "    </tr>\n",
              "    <tr>\n",
              "      <th>2380</th>\n",
              "      <td>3.308136</td>\n",
              "      <td>2.553461</td>\n",
              "      <td>7.007829</td>\n",
              "      <td>2.116387</td>\n",
              "      <td>1.721008</td>\n",
              "      <td>no</td>\n",
              "      <td>no</td>\n",
              "      <td>no</td>\n",
              "      <td>yes</td>\n",
              "      <td>3.774496</td>\n",
              "      <td>0</td>\n",
              "      <td>no</td>\n",
              "      <td>no</td>\n",
              "    </tr>\n",
              "  </tbody>\n",
              "</table>\n",
              "<p>2381 rows × 13 columns</p>\n",
              "</div>\n",
              "      <button class=\"colab-df-convert\" onclick=\"convertToInteractive('df-47fd6d2b-34a2-482a-9873-df0a05f034fa')\"\n",
              "              title=\"Convert this dataframe to an interactive table.\"\n",
              "              style=\"display:none;\">\n",
              "        \n",
              "  <svg xmlns=\"http://www.w3.org/2000/svg\" height=\"24px\"viewBox=\"0 0 24 24\"\n",
              "       width=\"24px\">\n",
              "    <path d=\"M0 0h24v24H0V0z\" fill=\"none\"/>\n",
              "    <path d=\"M18.56 5.44l.94 2.06.94-2.06 2.06-.94-2.06-.94-.94-2.06-.94 2.06-2.06.94zm-11 1L8.5 8.5l.94-2.06 2.06-.94-2.06-.94L8.5 2.5l-.94 2.06-2.06.94zm10 10l.94 2.06.94-2.06 2.06-.94-2.06-.94-.94-2.06-.94 2.06-2.06.94z\"/><path d=\"M17.41 7.96l-1.37-1.37c-.4-.4-.92-.59-1.43-.59-.52 0-1.04.2-1.43.59L10.3 9.45l-7.72 7.72c-.78.78-.78 2.05 0 2.83L4 21.41c.39.39.9.59 1.41.59.51 0 1.02-.2 1.41-.59l7.78-7.78 2.81-2.81c.8-.78.8-2.07 0-2.86zM5.41 20L4 18.59l7.72-7.72 1.47 1.35L5.41 20z\"/>\n",
              "  </svg>\n",
              "      </button>\n",
              "      \n",
              "  <style>\n",
              "    .colab-df-container {\n",
              "      display:flex;\n",
              "      flex-wrap:wrap;\n",
              "      gap: 12px;\n",
              "    }\n",
              "\n",
              "    .colab-df-convert {\n",
              "      background-color: #E8F0FE;\n",
              "      border: none;\n",
              "      border-radius: 50%;\n",
              "      cursor: pointer;\n",
              "      display: none;\n",
              "      fill: #1967D2;\n",
              "      height: 32px;\n",
              "      padding: 0 0 0 0;\n",
              "      width: 32px;\n",
              "    }\n",
              "\n",
              "    .colab-df-convert:hover {\n",
              "      background-color: #E2EBFA;\n",
              "      box-shadow: 0px 1px 2px rgba(60, 64, 67, 0.3), 0px 1px 3px 1px rgba(60, 64, 67, 0.15);\n",
              "      fill: #174EA6;\n",
              "    }\n",
              "\n",
              "    [theme=dark] .colab-df-convert {\n",
              "      background-color: #3B4455;\n",
              "      fill: #D2E3FC;\n",
              "    }\n",
              "\n",
              "    [theme=dark] .colab-df-convert:hover {\n",
              "      background-color: #434B5C;\n",
              "      box-shadow: 0px 1px 3px 1px rgba(0, 0, 0, 0.15);\n",
              "      filter: drop-shadow(0px 1px 2px rgba(0, 0, 0, 0.3));\n",
              "      fill: #FFFFFF;\n",
              "    }\n",
              "  </style>\n",
              "\n",
              "      <script>\n",
              "        const buttonEl =\n",
              "          document.querySelector('#df-47fd6d2b-34a2-482a-9873-df0a05f034fa button.colab-df-convert');\n",
              "        buttonEl.style.display =\n",
              "          google.colab.kernel.accessAllowed ? 'block' : 'none';\n",
              "\n",
              "        async function convertToInteractive(key) {\n",
              "          const element = document.querySelector('#df-47fd6d2b-34a2-482a-9873-df0a05f034fa');\n",
              "          const dataTable =\n",
              "            await google.colab.kernel.invokeFunction('convertToInteractive',\n",
              "                                                     [key], {});\n",
              "          if (!dataTable) return;\n",
              "\n",
              "          const docLinkHtml = 'Like what you see? Visit the ' +\n",
              "            '<a target=\"_blank\" href=https://colab.research.google.com/notebooks/data_table.ipynb>data table notebook</a>'\n",
              "            + ' to learn more about interactive tables.';\n",
              "          element.innerHTML = '';\n",
              "          dataTable['output_type'] = 'display_data';\n",
              "          await google.colab.output.renderOutput(dataTable, element);\n",
              "          const docLink = document.createElement('div');\n",
              "          docLink.innerHTML = docLinkHtml;\n",
              "          element.appendChild(docLink);\n",
              "        }\n",
              "      </script>\n",
              "    </div>\n",
              "  </div>\n",
              "  "
            ]
          },
          "metadata": {},
          "execution_count": 437
        }
      ]
    },
    {
      "cell_type": "markdown",
      "source": [
        "Now we see that all number values are on the same scale and thus can be more easily compared."
      ],
      "metadata": {
        "id": "GXj_0mxdbVKB"
      }
    },
    {
      "cell_type": "markdown",
      "source": [
        "## Linear Regression"
      ],
      "metadata": {
        "id": "s1kIYpeAc4CF"
      }
    },
    {
      "cell_type": "markdown",
      "source": [
        "Now that we finished that we can calculate the linear regression for each of our variables. However one thing to note is that some of the attributes that are not numerical (pbcr, dmi, self etc.) have to be dropped in order to compute the correct regression."
      ],
      "metadata": {
        "id": "79aL8NXTebvK"
      }
    },
    {
      "cell_type": "code",
      "source": [
        "from sklearn.linear_model import LinearRegression\n",
        "\n",
        "y = df['dir'].copy()\n",
        "x = df.drop(['dir','pbcr','dmi','self', 'single', 'comdominiom', 'black', 'deny'], axis=1)\n",
        "\n",
        "lin_reg = LinearRegression().fit(x,y)\n",
        "r_sq = lin_reg.score(x,y)\n",
        "\n",
        "print(r_sq)"
      ],
      "metadata": {
        "colab": {
          "base_uri": "https://localhost:8080/"
        },
        "id": "9C34ATD-c64P",
        "outputId": "98888ebb-8861-494e-efb2-e481497fe5be"
      },
      "execution_count": 438,
      "outputs": [
        {
          "output_type": "stream",
          "name": "stdout",
          "text": [
            "0.6193655535826516\n"
          ]
        }
      ]
    },
    {
      "cell_type": "markdown",
      "source": [
        "We can see here that for dir, the model explains about 61% of the data correctly."
      ],
      "metadata": {
        "id": "fsSl4Ovee0tq"
      }
    },
    {
      "cell_type": "markdown",
      "source": [
        "Now we can repeat this calculation for every other numerical attribute to get their regression."
      ],
      "metadata": {
        "id": "AiAj2-kkfBu4"
      }
    },
    {
      "cell_type": "code",
      "source": [
        "y = df['hir'].copy()\n",
        "x = df.drop(['hir','pbcr','dmi','self', 'single', 'comdominiom', 'black', 'deny'], axis=1)\n",
        "\n",
        "lin_reg = LinearRegression().fit(x,y)\n",
        "r_sq = lin_reg.score(x,y)\n",
        "\n",
        "print(r_sq)"
      ],
      "metadata": {
        "colab": {
          "base_uri": "https://localhost:8080/"
        },
        "id": "jlhNgkrlfI_H",
        "outputId": "cd0da10d-dfcf-4462-d062-b2ede0f6c3f7"
      },
      "execution_count": 439,
      "outputs": [
        {
          "output_type": "stream",
          "name": "stdout",
          "text": [
            "0.6180433157560443\n"
          ]
        }
      ]
    },
    {
      "cell_type": "code",
      "source": [
        "y = df['lvr'].copy()\n",
        "x = df.drop(['lvr','pbcr','dmi','self', 'single', 'comdominiom', 'black', 'deny'], axis=1)\n",
        "\n",
        "lin_reg = LinearRegression().fit(x,y)\n",
        "r_sq = lin_reg.score(x,y) * 10\n",
        "\n",
        "print(r_sq)"
      ],
      "metadata": {
        "colab": {
          "base_uri": "https://localhost:8080/"
        },
        "id": "ICJLf9BEfVIe",
        "outputId": "395740a4-fca2-4edc-a630-1e6b2404b872"
      },
      "execution_count": 440,
      "outputs": [
        {
          "output_type": "stream",
          "name": "stdout",
          "text": [
            "0.6270660233918335\n"
          ]
        }
      ]
    },
    {
      "cell_type": "code",
      "source": [
        "y = df['ccs'].copy()\n",
        "x = df.drop(['ccs','pbcr','dmi','self', 'single', 'comdominiom', 'black', 'deny'], axis=1)\n",
        "\n",
        "lin_reg = LinearRegression().fit(x,y)\n",
        "r_sq = lin_reg.score(x,y) * 10\n",
        "\n",
        "print(r_sq)"
      ],
      "metadata": {
        "colab": {
          "base_uri": "https://localhost:8080/"
        },
        "id": "fKwUilCefdby",
        "outputId": "c21f01c7-607f-41f9-cd75-3d46a40e51ae"
      },
      "execution_count": 441,
      "outputs": [
        {
          "output_type": "stream",
          "name": "stdout",
          "text": [
            "0.4064248105184953\n"
          ]
        }
      ]
    },
    {
      "cell_type": "code",
      "source": [
        "y = df['uria'].copy()\n",
        "x = df.drop(['uria','pbcr','dmi','self', 'single', 'comdominiom', 'black', 'deny'], axis=1)\n",
        "\n",
        "lin_reg = LinearRegression().fit(x,y)\n",
        "r_sq = lin_reg.score(x,y) * 100\n",
        "\n",
        "print(r_sq)"
      ],
      "metadata": {
        "colab": {
          "base_uri": "https://localhost:8080/"
        },
        "id": "h8CRNXxifj70",
        "outputId": "444a4104-390a-4746-f4ee-35b6e0548e8c"
      },
      "execution_count": 442,
      "outputs": [
        {
          "output_type": "stream",
          "name": "stdout",
          "text": [
            "0.5922248220875392\n"
          ]
        }
      ]
    },
    {
      "cell_type": "code",
      "source": [
        "y = df['mcs'].copy()\n",
        "x = df.drop(['mcs','pbcr','dmi','self', 'single', 'comdominiom', 'black', 'deny'], axis=1)\n",
        "\n",
        "lin_reg = LinearRegression().fit(x,y)\n",
        "r_sq = lin_reg.score(x,y) * 10\n",
        "\n",
        "print(r_sq)"
      ],
      "metadata": {
        "colab": {
          "base_uri": "https://localhost:8080/"
        },
        "id": "uA-V2tVYfg2p",
        "outputId": "d81d5182-7fa0-4c24-8560-28d14643e0e5"
      },
      "execution_count": 443,
      "outputs": [
        {
          "output_type": "stream",
          "name": "stdout",
          "text": [
            "0.6683414198830284\n"
          ]
        }
      ]
    },
    {
      "cell_type": "markdown",
      "source": [
        "## Re-Running EDA Analysis\n",
        "Now that we have finished all our data preperation, feature  engineering, and data regression analysis, we can re run our EDA to see what changes occured"
      ],
      "metadata": {
        "id": "lB6x5VjrgJ-H"
      }
    },
    {
      "cell_type": "markdown",
      "source": [
        "For example let's run our ccs vs hir comparison this time with the new scaled values"
      ],
      "metadata": {
        "id": "OaoJ6lWGgjJo"
      }
    },
    {
      "cell_type": "code",
      "source": [
        "sns.lineplot(data=df['ccs'], x=df['ccs'], y=df['hir'])"
      ],
      "metadata": {
        "colab": {
          "base_uri": "https://localhost:8080/",
          "height": 296
        },
        "id": "1cI_l5Ffgazn",
        "outputId": "da0820b5-281e-4ccb-9506-92556fbba8a3"
      },
      "execution_count": 444,
      "outputs": [
        {
          "output_type": "execute_result",
          "data": {
            "text/plain": [
              "<matplotlib.axes._subplots.AxesSubplot at 0x7f8e4c38d490>"
            ]
          },
          "metadata": {},
          "execution_count": 444
        },
        {
          "output_type": "display_data",
          "data": {
            "text/plain": [
              "<Figure size 432x288 with 1 Axes>"
            ],
            "image/png": "[encoded data removed]"
          },
          "metadata": {
            "needs_background": "light"
          }
        }
      ]
    },
    {
      "cell_type": "markdown",
      "source": [
        "You can see here that while the graph is similar, the value numbers are more aligned and make it easier to compare"
      ],
      "metadata": {
        "id": "B1WtAY-RgrOA"
      }
    },
    {
      "cell_type": "markdown",
      "source": [
        "Likewise we can observe this in other relations such as comparing hir and dir to spot outliers"
      ],
      "metadata": {
        "id": "RyF4dpEZgzXi"
      }
    },
    {
      "cell_type": "code",
      "source": [
        "plt.scatter(df['hir'], df['dir'])"
      ],
      "metadata": {
        "colab": {
          "base_uri": "https://localhost:8080/",
          "height": 282
        },
        "id": "8QKH3LG-g8m5",
        "outputId": "3d6d3e87-cb51-452a-dfe7-2c808aef8fb2"
      },
      "execution_count": 445,
      "outputs": [
        {
          "output_type": "execute_result",
          "data": {
            "text/plain": [
              "<matplotlib.collections.PathCollection at 0x7f8e4c31ed10>"
            ]
          },
          "metadata": {},
          "execution_count": 445
        },
        {
          "output_type": "display_data",
          "data": {
            "text/plain": [
              "<Figure size 432x288 with 1 Axes>"
            ],
            "image/png": "[encoded data removed]"
          },
          "metadata": {
            "needs_background": "light"
          }
        }
      ]
    },
    {
      "cell_type": "markdown",
      "source": [
        "Or simply re-checking the values of things such as URIA and ccs"
      ],
      "metadata": {
        "id": "bzUGXJq0hot_"
      }
    },
    {
      "cell_type": "code",
      "source": [
        "sns.displot(df['ccs'])"
      ],
      "metadata": {
        "colab": {
          "base_uri": "https://localhost:8080/",
          "height": 386
        },
        "id": "Uz6zgtfhjC3N",
        "outputId": "5cced4f3-0093-4c80-d1e6-0b6920782343"
      },
      "execution_count": 446,
      "outputs": [
        {
          "output_type": "execute_result",
          "data": {
            "text/plain": [
              "<seaborn.axisgrid.FacetGrid at 0x7f8e4c2ca1d0>"
            ]
          },
          "metadata": {},
          "execution_count": 446
        },
        {
          "output_type": "display_data",
          "data": {
            "text/plain": [
              "<Figure size 360x360 with 1 Axes>"
            ],
            "image/png": "[encoded data removed]"
          },
          "metadata": {
            "needs_background": "light"
          }
        }
      ]
    },
    {
      "cell_type": "code",
      "source": [
        "plt.hist(df['uria']);"
      ],
      "metadata": {
        "colab": {
          "base_uri": "https://localhost:8080/",
          "height": 268
        },
        "id": "H5azuOLrhlZt",
        "outputId": "48f675dc-4630-4b70-e412-5a397d3be0d9"
      },
      "execution_count": 447,
      "outputs": [
        {
          "output_type": "display_data",
          "data": {
            "text/plain": [
              "<Figure size 432x288 with 1 Axes>"
            ],
            "image/png": "[encoded data removed]"
          },
          "metadata": {
            "needs_background": "light"
          }
        }
      ]
    },
    {
      "cell_type": "markdown",
      "source": [
        "All of this is to show that through our data scaling, preperation and regression we can clean up our data to overall be more organized "
      ],
      "metadata": {
        "id": "iDJ11RLNhweI"
      }
    },
    {
      "cell_type": "markdown",
      "source": [
        "## Conclusion\n",
        "In conclusion you can see how analyzing the linear regression of your data can give you insight as to how accurate your data models are. Knowing this is a huge advantage when it comes to data analysis as the more accurate the data is, the more accurate the conclusions you draw from it are. And as data scientists, we must always present the most accurate data analysis as possible."
      ],
      "metadata": {
        "id": "TFPhVxINh-23"
      }
    },
    {
      "cell_type": "markdown",
      "source": [
        "## Sources\n",
        "\n",
        "https://stackoverflow.com/questions/52160719/is-it-possible-to-do-a-zoom-inset-using-seaborn\n",
        "https://thispointer.com/pandas-delete-first-column-of-dataframe-in-python/\n",
        "https://stackoverflow.com/questions/40389018/dropping-multiple-columns-from-a-data-frame-using-python\n",
        "https://stackoverflow.com/questions/31632637/label-axes-on-seaborn-barplot"
      ],
      "metadata": {
        "id": "U-U6b2DojiBF"
      }
    }
  ]
}