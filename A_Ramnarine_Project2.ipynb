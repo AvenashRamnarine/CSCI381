{
  "nbformat": 4,
  "nbformat_minor": 0,
  "metadata": {
    "colab": {
      "name": "A_Ramnarine_Project2.ipynb",
      "provenance": []
    },
    "kernelspec": {
      "name": "python3",
      "display_name": "Python 3"
    },
    "language_info": {
      "name": "python"
    }
  },
  "cells": [
    {
      "cell_type": "markdown",
      "source": [
        "## Smartphone Market Data \n",
        "This data set represents the market data for smartphones in India. India was specifically chosen for this survey since it contains a large population with a rapidly growing smartphone industry. The data was gathered in 2020 and compiled into this set where it contains 1513 entries of various smartphones and their attributes. The attributes given are as follows:\n",
        "\n",
        "* Product name: While we’ll be calling it “product name”, some people may commonly refer to it as the title of the product. An example would be the Micromax Canvas Elanza A93 (Black Silver, 4 GB)\n",
        "\n",
        "* Product url: Product URL is the URL to the page which contains the product information. \n",
        "\n",
        "* Brand: Brand is the name of the brand, for example Samsung. Under the brand Samsung, they sell 243 models. Some of them are variants of the same model but for the sake of analysis we consider them as two distinct models and they have different UPC’s.\n",
        "\n",
        "* Sale price: Sale price is the price at which the product is available on Flipkart for sale. It is the price after the discounts.\n",
        "\n",
        "* MRP: MRP is the maximum retail price of the product.\n",
        "\n",
        "* Discount percentage: Discount percentage is the discount offered by the brand for that particular product.\n",
        "\n",
        "* Ram: The Ram Capacity of the smartphone\n",
        "\n",
        "* Number of ratings: The total number of star ratings given to that particular product.\n",
        "\n",
        "* Number of reviews: The total number of reviews given to the product by the user.\n",
        "\n",
        "* UPC:  UPC or universal product code is the unique identification for a model.\n",
        "\n",
        "* Star rating: Star rating is the average star rating of the product.\n",
        "\n",
        "The full data set information as well as the survey can be found here at: https://www.blog.datahut.co/post/indian-smartphone-market-analysis-insights"
      ],
      "metadata": {
        "id": "nrVCTnDkz5bv"
      }
    },
    {
      "cell_type": "code",
      "execution_count": 1848,
      "metadata": {
        "colab": {
          "base_uri": "https://localhost:8080/",
          "height": 424
        },
        "id": "vio_osfxPwZm",
        "outputId": "be12d863-73a1-4d7d-8543-13d7cfe7d925"
      },
      "outputs": [
        {
          "output_type": "execute_result",
          "data": {
            "text/plain": [
              "                                 Product Name  \\\n",
              "0                    XOLO T1000 (Black, 4 GB)   \n",
              "1             GIONEE Pioneer P3 (White, 4 GB)   \n",
              "2           KARBONN Titanium S4 (Black, 4 GB)   \n",
              "3           KARBONN Titanium S4 (White, 4 GB)   \n",
              "4           Micromax Bolt A71 (Black, 165 MB)   \n",
              "...                                       ...   \n",
              "1508            Kekai Prime (Sea Blue, 32 GB)   \n",
              "1509                 GIONEE S11 (Gold, 64 GB)   \n",
              "1510           Kekai Prime (Sea White, 32 GB)   \n",
              "1511  Telefono S1 (Interstellar Black, 32 GB)   \n",
              "1512          Telefono S1 (Space Blue, 32 GB)   \n",
              "\n",
              "                                            Product URL     Brand  Sale Price  \\\n",
              "0     https://www.flipkart.com/xolo-t1000-black-4-gb...      XOLO       14153   \n",
              "1     https://www.flipkart.com/gionee-pioneer-p3-whi...    GIONEE        6500   \n",
              "2     https://www.flipkart.com/karbonn-titanium-s4-b...   KARBONN       13298   \n",
              "3     https://www.flipkart.com/karbonn-titanium-s4-w...   KARBONN       14990   \n",
              "4     https://www.flipkart.com/micromax-bolt-a71-bla...  Micromax        6499   \n",
              "...                                                 ...       ...         ...   \n",
              "1508  https://www.flipkart.com/kekai-prime-sea-blue-...     Kekai        5499   \n",
              "1509  https://www.flipkart.com/gionee-s11-gold-64-gb...    GIONEE        8990   \n",
              "1510  https://www.flipkart.com/kekai-prime-sea-white...     Kekai        5499   \n",
              "1511  https://www.flipkart.com/telefono-s1-interstel...  Telefono        5990   \n",
              "1512  https://www.flipkart.com/telefono-s1-space-blu...  Telefono        5990   \n",
              "\n",
              "        Mrp  Discount Percentage  Number Of Ratings  Number Of Reviews  \\\n",
              "0     14153                    0                333                130   \n",
              "1      6500                    0                437                 78   \n",
              "2     13298                    0                 28                  7   \n",
              "3     14990                    0                 28                  7   \n",
              "4      7499                   13                 61                  8   \n",
              "...     ...                  ...                ...                ...   \n",
              "1508   5499                    0                  0                  0   \n",
              "1509   8990                    0                  0                  0   \n",
              "1510   5499                    0                  0                  0   \n",
              "1511   5990                    0                  0                  0   \n",
              "1512   5990                    0                  0                  0   \n",
              "\n",
              "                   Upc  Star Rating     Ram  \n",
              "0     MOBDMKDAKQGCYZ6D          3.8    1 GB  \n",
              "1     MOBDRKHTA3UXHAVD          3.6  512 MB  \n",
              "2     MOBDRYWHA3ZU9BRT          3.3    1 GB  \n",
              "3     MOBDRYWHFVVQHQVZ          3.3    1 GB  \n",
              "4     MOBDSMAJ5UUJUDDE          3.1  512 MB  \n",
              "...                ...          ...     ...  \n",
              "1508  MOBGYYUWTY8DJUES          0.0    2 GB  \n",
              "1509  MOBGYYUX6EBEHJCF          0.0    4 GB  \n",
              "1510  MOBGYYUXQZBZ4DAY          0.0    2 GB  \n",
              "1511  MOBGYZ8ZYCKJFEWV          0.0    3 GB  \n",
              "1512  MOBGYZ94RVSAXKSW          0.0    3 GB  \n",
              "\n",
              "[1513 rows x 11 columns]"
            ],
            "text/html": [
              "\n",
              "  <div id=\"df-5c34fe40-bb3d-49e9-b10a-104616ebe5cd\">\n",
              "    <div class=\"colab-df-container\">\n",
              "      <div>\n",
              "<style scoped>\n",
              "    .dataframe tbody tr th:only-of-type {\n",
              "        vertical-align: middle;\n",
              "    }\n",
              "\n",
              "    .dataframe tbody tr th {\n",
              "        vertical-align: top;\n",
              "    }\n",
              "\n",
              "    .dataframe thead th {\n",
              "        text-align: right;\n",
              "    }\n",
              "</style>\n",
              "<table border=\"1\" class=\"dataframe\">\n",
              "  <thead>\n",
              "    <tr style=\"text-align: right;\">\n",
              "      <th></th>\n",
              "      <th>Product Name</th>\n",
              "      <th>Product URL</th>\n",
              "      <th>Brand</th>\n",
              "      <th>Sale Price</th>\n",
              "      <th>Mrp</th>\n",
              "      <th>Discount Percentage</th>\n",
              "      <th>Number Of Ratings</th>\n",
              "      <th>Number Of Reviews</th>\n",
              "      <th>Upc</th>\n",
              "      <th>Star Rating</th>\n",
              "      <th>Ram</th>\n",
              "    </tr>\n",
              "  </thead>\n",
              "  <tbody>\n",
              "    <tr>\n",
              "      <th>0</th>\n",
              "      <td>XOLO T1000 (Black, 4 GB)</td>\n",
              "      <td>https://www.flipkart.com/xolo-t1000-black-4-gb...</td>\n",
              "      <td>XOLO</td>\n",
              "      <td>14153</td>\n",
              "      <td>14153</td>\n",
              "      <td>0</td>\n",
              "      <td>333</td>\n",
              "      <td>130</td>\n",
              "      <td>MOBDMKDAKQGCYZ6D</td>\n",
              "      <td>3.8</td>\n",
              "      <td>1 GB</td>\n",
              "    </tr>\n",
              "    <tr>\n",
              "      <th>1</th>\n",
              "      <td>GIONEE Pioneer P3 (White, 4 GB)</td>\n",
              "      <td>https://www.flipkart.com/gionee-pioneer-p3-whi...</td>\n",
              "      <td>GIONEE</td>\n",
              "      <td>6500</td>\n",
              "      <td>6500</td>\n",
              "      <td>0</td>\n",
              "      <td>437</td>\n",
              "      <td>78</td>\n",
              "      <td>MOBDRKHTA3UXHAVD</td>\n",
              "      <td>3.6</td>\n",
              "      <td>512 MB</td>\n",
              "    </tr>\n",
              "    <tr>\n",
              "      <th>2</th>\n",
              "      <td>KARBONN Titanium S4 (Black, 4 GB)</td>\n",
              "      <td>https://www.flipkart.com/karbonn-titanium-s4-b...</td>\n",
              "      <td>KARBONN</td>\n",
              "      <td>13298</td>\n",
              "      <td>13298</td>\n",
              "      <td>0</td>\n",
              "      <td>28</td>\n",
              "      <td>7</td>\n",
              "      <td>MOBDRYWHA3ZU9BRT</td>\n",
              "      <td>3.3</td>\n",
              "      <td>1 GB</td>\n",
              "    </tr>\n",
              "    <tr>\n",
              "      <th>3</th>\n",
              "      <td>KARBONN Titanium S4 (White, 4 GB)</td>\n",
              "      <td>https://www.flipkart.com/karbonn-titanium-s4-w...</td>\n",
              "      <td>KARBONN</td>\n",
              "      <td>14990</td>\n",
              "      <td>14990</td>\n",
              "      <td>0</td>\n",
              "      <td>28</td>\n",
              "      <td>7</td>\n",
              "      <td>MOBDRYWHFVVQHQVZ</td>\n",
              "      <td>3.3</td>\n",
              "      <td>1 GB</td>\n",
              "    </tr>\n",
              "    <tr>\n",
              "      <th>4</th>\n",
              "      <td>Micromax Bolt A71 (Black, 165 MB)</td>\n",
              "      <td>https://www.flipkart.com/micromax-bolt-a71-bla...</td>\n",
              "      <td>Micromax</td>\n",
              "      <td>6499</td>\n",
              "      <td>7499</td>\n",
              "      <td>13</td>\n",
              "      <td>61</td>\n",
              "      <td>8</td>\n",
              "      <td>MOBDSMAJ5UUJUDDE</td>\n",
              "      <td>3.1</td>\n",
              "      <td>512 MB</td>\n",
              "    </tr>\n",
              "    <tr>\n",
              "      <th>...</th>\n",
              "      <td>...</td>\n",
              "      <td>...</td>\n",
              "      <td>...</td>\n",
              "      <td>...</td>\n",
              "      <td>...</td>\n",
              "      <td>...</td>\n",
              "      <td>...</td>\n",
              "      <td>...</td>\n",
              "      <td>...</td>\n",
              "      <td>...</td>\n",
              "      <td>...</td>\n",
              "    </tr>\n",
              "    <tr>\n",
              "      <th>1508</th>\n",
              "      <td>Kekai Prime (Sea Blue, 32 GB)</td>\n",
              "      <td>https://www.flipkart.com/kekai-prime-sea-blue-...</td>\n",
              "      <td>Kekai</td>\n",
              "      <td>5499</td>\n",
              "      <td>5499</td>\n",
              "      <td>0</td>\n",
              "      <td>0</td>\n",
              "      <td>0</td>\n",
              "      <td>MOBGYYUWTY8DJUES</td>\n",
              "      <td>0.0</td>\n",
              "      <td>2 GB</td>\n",
              "    </tr>\n",
              "    <tr>\n",
              "      <th>1509</th>\n",
              "      <td>GIONEE S11 (Gold, 64 GB)</td>\n",
              "      <td>https://www.flipkart.com/gionee-s11-gold-64-gb...</td>\n",
              "      <td>GIONEE</td>\n",
              "      <td>8990</td>\n",
              "      <td>8990</td>\n",
              "      <td>0</td>\n",
              "      <td>0</td>\n",
              "      <td>0</td>\n",
              "      <td>MOBGYYUX6EBEHJCF</td>\n",
              "      <td>0.0</td>\n",
              "      <td>4 GB</td>\n",
              "    </tr>\n",
              "    <tr>\n",
              "      <th>1510</th>\n",
              "      <td>Kekai Prime (Sea White, 32 GB)</td>\n",
              "      <td>https://www.flipkart.com/kekai-prime-sea-white...</td>\n",
              "      <td>Kekai</td>\n",
              "      <td>5499</td>\n",
              "      <td>5499</td>\n",
              "      <td>0</td>\n",
              "      <td>0</td>\n",
              "      <td>0</td>\n",
              "      <td>MOBGYYUXQZBZ4DAY</td>\n",
              "      <td>0.0</td>\n",
              "      <td>2 GB</td>\n",
              "    </tr>\n",
              "    <tr>\n",
              "      <th>1511</th>\n",
              "      <td>Telefono S1 (Interstellar Black, 32 GB)</td>\n",
              "      <td>https://www.flipkart.com/telefono-s1-interstel...</td>\n",
              "      <td>Telefono</td>\n",
              "      <td>5990</td>\n",
              "      <td>5990</td>\n",
              "      <td>0</td>\n",
              "      <td>0</td>\n",
              "      <td>0</td>\n",
              "      <td>MOBGYZ8ZYCKJFEWV</td>\n",
              "      <td>0.0</td>\n",
              "      <td>3 GB</td>\n",
              "    </tr>\n",
              "    <tr>\n",
              "      <th>1512</th>\n",
              "      <td>Telefono S1 (Space Blue, 32 GB)</td>\n",
              "      <td>https://www.flipkart.com/telefono-s1-space-blu...</td>\n",
              "      <td>Telefono</td>\n",
              "      <td>5990</td>\n",
              "      <td>5990</td>\n",
              "      <td>0</td>\n",
              "      <td>0</td>\n",
              "      <td>0</td>\n",
              "      <td>MOBGYZ94RVSAXKSW</td>\n",
              "      <td>0.0</td>\n",
              "      <td>3 GB</td>\n",
              "    </tr>\n",
              "  </tbody>\n",
              "</table>\n",
              "<p>1513 rows × 11 columns</p>\n",
              "</div>\n",
              "      <button class=\"colab-df-convert\" onclick=\"convertToInteractive('df-5c34fe40-bb3d-49e9-b10a-104616ebe5cd')\"\n",
              "              title=\"Convert this dataframe to an interactive table.\"\n",
              "              style=\"display:none;\">\n",
              "        \n",
              "  <svg xmlns=\"http://www.w3.org/2000/svg\" height=\"24px\"viewBox=\"0 0 24 24\"\n",
              "       width=\"24px\">\n",
              "    <path d=\"M0 0h24v24H0V0z\" fill=\"none\"/>\n",
              "    <path d=\"M18.56 5.44l.94 2.06.94-2.06 2.06-.94-2.06-.94-.94-2.06-.94 2.06-2.06.94zm-11 1L8.5 8.5l.94-2.06 2.06-.94-2.06-.94L8.5 2.5l-.94 2.06-2.06.94zm10 10l.94 2.06.94-2.06 2.06-.94-2.06-.94-.94-2.06-.94 2.06-2.06.94z\"/><path d=\"M17.41 7.96l-1.37-1.37c-.4-.4-.92-.59-1.43-.59-.52 0-1.04.2-1.43.59L10.3 9.45l-7.72 7.72c-.78.78-.78 2.05 0 2.83L4 21.41c.39.39.9.59 1.41.59.51 0 1.02-.2 1.41-.59l7.78-7.78 2.81-2.81c.8-.78.8-2.07 0-2.86zM5.41 20L4 18.59l7.72-7.72 1.47 1.35L5.41 20z\"/>\n",
              "  </svg>\n",
              "      </button>\n",
              "      \n",
              "  <style>\n",
              "    .colab-df-container {\n",
              "      display:flex;\n",
              "      flex-wrap:wrap;\n",
              "      gap: 12px;\n",
              "    }\n",
              "\n",
              "    .colab-df-convert {\n",
              "      background-color: #E8F0FE;\n",
              "      border: none;\n",
              "      border-radius: 50%;\n",
              "      cursor: pointer;\n",
              "      display: none;\n",
              "      fill: #1967D2;\n",
              "      height: 32px;\n",
              "      padding: 0 0 0 0;\n",
              "      width: 32px;\n",
              "    }\n",
              "\n",
              "    .colab-df-convert:hover {\n",
              "      background-color: #E2EBFA;\n",
              "      box-shadow: 0px 1px 2px rgba(60, 64, 67, 0.3), 0px 1px 3px 1px rgba(60, 64, 67, 0.15);\n",
              "      fill: #174EA6;\n",
              "    }\n",
              "\n",
              "    [theme=dark] .colab-df-convert {\n",
              "      background-color: #3B4455;\n",
              "      fill: #D2E3FC;\n",
              "    }\n",
              "\n",
              "    [theme=dark] .colab-df-convert:hover {\n",
              "      background-color: #434B5C;\n",
              "      box-shadow: 0px 1px 3px 1px rgba(0, 0, 0, 0.15);\n",
              "      filter: drop-shadow(0px 1px 2px rgba(0, 0, 0, 0.3));\n",
              "      fill: #FFFFFF;\n",
              "    }\n",
              "  </style>\n",
              "\n",
              "      <script>\n",
              "        const buttonEl =\n",
              "          document.querySelector('#df-5c34fe40-bb3d-49e9-b10a-104616ebe5cd button.colab-df-convert');\n",
              "        buttonEl.style.display =\n",
              "          google.colab.kernel.accessAllowed ? 'block' : 'none';\n",
              "\n",
              "        async function convertToInteractive(key) {\n",
              "          const element = document.querySelector('#df-5c34fe40-bb3d-49e9-b10a-104616ebe5cd');\n",
              "          const dataTable =\n",
              "            await google.colab.kernel.invokeFunction('convertToInteractive',\n",
              "                                                     [key], {});\n",
              "          if (!dataTable) return;\n",
              "\n",
              "          const docLinkHtml = 'Like what you see? Visit the ' +\n",
              "            '<a target=\"_blank\" href=https://colab.research.google.com/notebooks/data_table.ipynb>data table notebook</a>'\n",
              "            + ' to learn more about interactive tables.';\n",
              "          element.innerHTML = '';\n",
              "          dataTable['output_type'] = 'display_data';\n",
              "          await google.colab.output.renderOutput(dataTable, element);\n",
              "          const docLink = document.createElement('div');\n",
              "          docLink.innerHTML = docLinkHtml;\n",
              "          element.appendChild(docLink);\n",
              "        }\n",
              "      </script>\n",
              "    </div>\n",
              "  </div>\n",
              "  "
            ]
          },
          "metadata": {},
          "execution_count": 1848
        }
      ],
      "source": [
        "import matplotlib.pyplot as plt\n",
        "import numpy as np\n",
        "import pandas as pd\n",
        "import seaborn as sns\n",
        "from random import randrange\n",
        "\n",
        "df = pd.read_csv('https://raw.githubusercontent.com/AvenashRamnarine/CSCI381/main/smartphone_category%20(1).csv')\n",
        "df"
      ]
    },
    {
      "cell_type": "markdown",
      "source": [
        "Taking a look at this data set the first thing that stands out is the amount of information contained within it. While this is usually a good thing, looking at this data set you can see that some of information given is very redundant and not of value to our analysis. For example, the product URL column can be helpful in some situations, however for our purposes we should probably go ahead and drop it, since it may cause alterations in our data."
      ],
      "metadata": {
        "id": "0iU_zyku2vXl"
      }
    },
    {
      "cell_type": "code",
      "source": [
        "df.drop(['Product URL'], axis = 1, inplace = True)\n",
        "df.head()"
      ],
      "metadata": {
        "colab": {
          "base_uri": "https://localhost:8080/",
          "height": 206
        },
        "id": "uu8hp04H3WaG",
        "outputId": "91dd6118-f7e0-488d-c3fd-88c23fbae164"
      },
      "execution_count": 1849,
      "outputs": [
        {
          "output_type": "execute_result",
          "data": {
            "text/plain": [
              "                        Product Name     Brand  Sale Price    Mrp  \\\n",
              "0           XOLO T1000 (Black, 4 GB)      XOLO       14153  14153   \n",
              "1    GIONEE Pioneer P3 (White, 4 GB)    GIONEE        6500   6500   \n",
              "2  KARBONN Titanium S4 (Black, 4 GB)   KARBONN       13298  13298   \n",
              "3  KARBONN Titanium S4 (White, 4 GB)   KARBONN       14990  14990   \n",
              "4  Micromax Bolt A71 (Black, 165 MB)  Micromax        6499   7499   \n",
              "\n",
              "   Discount Percentage  Number Of Ratings  Number Of Reviews  \\\n",
              "0                    0                333                130   \n",
              "1                    0                437                 78   \n",
              "2                    0                 28                  7   \n",
              "3                    0                 28                  7   \n",
              "4                   13                 61                  8   \n",
              "\n",
              "                Upc  Star Rating     Ram  \n",
              "0  MOBDMKDAKQGCYZ6D          3.8    1 GB  \n",
              "1  MOBDRKHTA3UXHAVD          3.6  512 MB  \n",
              "2  MOBDRYWHA3ZU9BRT          3.3    1 GB  \n",
              "3  MOBDRYWHFVVQHQVZ          3.3    1 GB  \n",
              "4  MOBDSMAJ5UUJUDDE          3.1  512 MB  "
            ],
            "text/html": [
              "\n",
              "  <div id=\"df-5a1aa21e-d20a-40e2-a1d4-5cf215892f15\">\n",
              "    <div class=\"colab-df-container\">\n",
              "      <div>\n",
              "<style scoped>\n",
              "    .dataframe tbody tr th:only-of-type {\n",
              "        vertical-align: middle;\n",
              "    }\n",
              "\n",
              "    .dataframe tbody tr th {\n",
              "        vertical-align: top;\n",
              "    }\n",
              "\n",
              "    .dataframe thead th {\n",
              "        text-align: right;\n",
              "    }\n",
              "</style>\n",
              "<table border=\"1\" class=\"dataframe\">\n",
              "  <thead>\n",
              "    <tr style=\"text-align: right;\">\n",
              "      <th></th>\n",
              "      <th>Product Name</th>\n",
              "      <th>Brand</th>\n",
              "      <th>Sale Price</th>\n",
              "      <th>Mrp</th>\n",
              "      <th>Discount Percentage</th>\n",
              "      <th>Number Of Ratings</th>\n",
              "      <th>Number Of Reviews</th>\n",
              "      <th>Upc</th>\n",
              "      <th>Star Rating</th>\n",
              "      <th>Ram</th>\n",
              "    </tr>\n",
              "  </thead>\n",
              "  <tbody>\n",
              "    <tr>\n",
              "      <th>0</th>\n",
              "      <td>XOLO T1000 (Black, 4 GB)</td>\n",
              "      <td>XOLO</td>\n",
              "      <td>14153</td>\n",
              "      <td>14153</td>\n",
              "      <td>0</td>\n",
              "      <td>333</td>\n",
              "      <td>130</td>\n",
              "      <td>MOBDMKDAKQGCYZ6D</td>\n",
              "      <td>3.8</td>\n",
              "      <td>1 GB</td>\n",
              "    </tr>\n",
              "    <tr>\n",
              "      <th>1</th>\n",
              "      <td>GIONEE Pioneer P3 (White, 4 GB)</td>\n",
              "      <td>GIONEE</td>\n",
              "      <td>6500</td>\n",
              "      <td>6500</td>\n",
              "      <td>0</td>\n",
              "      <td>437</td>\n",
              "      <td>78</td>\n",
              "      <td>MOBDRKHTA3UXHAVD</td>\n",
              "      <td>3.6</td>\n",
              "      <td>512 MB</td>\n",
              "    </tr>\n",
              "    <tr>\n",
              "      <th>2</th>\n",
              "      <td>KARBONN Titanium S4 (Black, 4 GB)</td>\n",
              "      <td>KARBONN</td>\n",
              "      <td>13298</td>\n",
              "      <td>13298</td>\n",
              "      <td>0</td>\n",
              "      <td>28</td>\n",
              "      <td>7</td>\n",
              "      <td>MOBDRYWHA3ZU9BRT</td>\n",
              "      <td>3.3</td>\n",
              "      <td>1 GB</td>\n",
              "    </tr>\n",
              "    <tr>\n",
              "      <th>3</th>\n",
              "      <td>KARBONN Titanium S4 (White, 4 GB)</td>\n",
              "      <td>KARBONN</td>\n",
              "      <td>14990</td>\n",
              "      <td>14990</td>\n",
              "      <td>0</td>\n",
              "      <td>28</td>\n",
              "      <td>7</td>\n",
              "      <td>MOBDRYWHFVVQHQVZ</td>\n",
              "      <td>3.3</td>\n",
              "      <td>1 GB</td>\n",
              "    </tr>\n",
              "    <tr>\n",
              "      <th>4</th>\n",
              "      <td>Micromax Bolt A71 (Black, 165 MB)</td>\n",
              "      <td>Micromax</td>\n",
              "      <td>6499</td>\n",
              "      <td>7499</td>\n",
              "      <td>13</td>\n",
              "      <td>61</td>\n",
              "      <td>8</td>\n",
              "      <td>MOBDSMAJ5UUJUDDE</td>\n",
              "      <td>3.1</td>\n",
              "      <td>512 MB</td>\n",
              "    </tr>\n",
              "  </tbody>\n",
              "</table>\n",
              "</div>\n",
              "      <button class=\"colab-df-convert\" onclick=\"convertToInteractive('df-5a1aa21e-d20a-40e2-a1d4-5cf215892f15')\"\n",
              "              title=\"Convert this dataframe to an interactive table.\"\n",
              "              style=\"display:none;\">\n",
              "        \n",
              "  <svg xmlns=\"http://www.w3.org/2000/svg\" height=\"24px\"viewBox=\"0 0 24 24\"\n",
              "       width=\"24px\">\n",
              "    <path d=\"M0 0h24v24H0V0z\" fill=\"none\"/>\n",
              "    <path d=\"M18.56 5.44l.94 2.06.94-2.06 2.06-.94-2.06-.94-.94-2.06-.94 2.06-2.06.94zm-11 1L8.5 8.5l.94-2.06 2.06-.94-2.06-.94L8.5 2.5l-.94 2.06-2.06.94zm10 10l.94 2.06.94-2.06 2.06-.94-2.06-.94-.94-2.06-.94 2.06-2.06.94z\"/><path d=\"M17.41 7.96l-1.37-1.37c-.4-.4-.92-.59-1.43-.59-.52 0-1.04.2-1.43.59L10.3 9.45l-7.72 7.72c-.78.78-.78 2.05 0 2.83L4 21.41c.39.39.9.59 1.41.59.51 0 1.02-.2 1.41-.59l7.78-7.78 2.81-2.81c.8-.78.8-2.07 0-2.86zM5.41 20L4 18.59l7.72-7.72 1.47 1.35L5.41 20z\"/>\n",
              "  </svg>\n",
              "      </button>\n",
              "      \n",
              "  <style>\n",
              "    .colab-df-container {\n",
              "      display:flex;\n",
              "      flex-wrap:wrap;\n",
              "      gap: 12px;\n",
              "    }\n",
              "\n",
              "    .colab-df-convert {\n",
              "      background-color: #E8F0FE;\n",
              "      border: none;\n",
              "      border-radius: 50%;\n",
              "      cursor: pointer;\n",
              "      display: none;\n",
              "      fill: #1967D2;\n",
              "      height: 32px;\n",
              "      padding: 0 0 0 0;\n",
              "      width: 32px;\n",
              "    }\n",
              "\n",
              "    .colab-df-convert:hover {\n",
              "      background-color: #E2EBFA;\n",
              "      box-shadow: 0px 1px 2px rgba(60, 64, 67, 0.3), 0px 1px 3px 1px rgba(60, 64, 67, 0.15);\n",
              "      fill: #174EA6;\n",
              "    }\n",
              "\n",
              "    [theme=dark] .colab-df-convert {\n",
              "      background-color: #3B4455;\n",
              "      fill: #D2E3FC;\n",
              "    }\n",
              "\n",
              "    [theme=dark] .colab-df-convert:hover {\n",
              "      background-color: #434B5C;\n",
              "      box-shadow: 0px 1px 3px 1px rgba(0, 0, 0, 0.15);\n",
              "      filter: drop-shadow(0px 1px 2px rgba(0, 0, 0, 0.3));\n",
              "      fill: #FFFFFF;\n",
              "    }\n",
              "  </style>\n",
              "\n",
              "      <script>\n",
              "        const buttonEl =\n",
              "          document.querySelector('#df-5a1aa21e-d20a-40e2-a1d4-5cf215892f15 button.colab-df-convert');\n",
              "        buttonEl.style.display =\n",
              "          google.colab.kernel.accessAllowed ? 'block' : 'none';\n",
              "\n",
              "        async function convertToInteractive(key) {\n",
              "          const element = document.querySelector('#df-5a1aa21e-d20a-40e2-a1d4-5cf215892f15');\n",
              "          const dataTable =\n",
              "            await google.colab.kernel.invokeFunction('convertToInteractive',\n",
              "                                                     [key], {});\n",
              "          if (!dataTable) return;\n",
              "\n",
              "          const docLinkHtml = 'Like what you see? Visit the ' +\n",
              "            '<a target=\"_blank\" href=https://colab.research.google.com/notebooks/data_table.ipynb>data table notebook</a>'\n",
              "            + ' to learn more about interactive tables.';\n",
              "          element.innerHTML = '';\n",
              "          dataTable['output_type'] = 'display_data';\n",
              "          await google.colab.output.renderOutput(dataTable, element);\n",
              "          const docLink = document.createElement('div');\n",
              "          docLink.innerHTML = docLinkHtml;\n",
              "          element.appendChild(docLink);\n",
              "        }\n",
              "      </script>\n",
              "    </div>\n",
              "  </div>\n",
              "  "
            ]
          },
          "metadata": {},
          "execution_count": 1849
        }
      ]
    },
    {
      "cell_type": "markdown",
      "source": [
        "The next things we can also look to drop can be the Mrp (Max Retail Price) and Discount Percentage columns. You can see that the sale price and Mrp are generally the same so there's no reason to have 2 columns with the same data. Likewise the discount percentage isn't helpful to us since we are trying to analyze the data and not looking to purchase a smartphone. Also most of the values in discount percantage are '0' anyway so it won't change much whether it's there or not. So we drop those 2 columns."
      ],
      "metadata": {
        "id": "SznlBz3U4SKi"
      }
    },
    {
      "cell_type": "code",
      "source": [
        "df.drop(['Mrp'], axis = 1, inplace = True)\n",
        "df.drop(['Discount Percentage'], axis = 1, inplace = True)\n",
        "df"
      ],
      "metadata": {
        "colab": {
          "base_uri": "https://localhost:8080/",
          "height": 424
        },
        "id": "U-1yhd5N5Fac",
        "outputId": "fa6e0e42-9fa2-458c-91cb-06a6c58e6748"
      },
      "execution_count": 1850,
      "outputs": [
        {
          "output_type": "execute_result",
          "data": {
            "text/plain": [
              "                                 Product Name     Brand  Sale Price  \\\n",
              "0                    XOLO T1000 (Black, 4 GB)      XOLO       14153   \n",
              "1             GIONEE Pioneer P3 (White, 4 GB)    GIONEE        6500   \n",
              "2           KARBONN Titanium S4 (Black, 4 GB)   KARBONN       13298   \n",
              "3           KARBONN Titanium S4 (White, 4 GB)   KARBONN       14990   \n",
              "4           Micromax Bolt A71 (Black, 165 MB)  Micromax        6499   \n",
              "...                                       ...       ...         ...   \n",
              "1508            Kekai Prime (Sea Blue, 32 GB)     Kekai        5499   \n",
              "1509                 GIONEE S11 (Gold, 64 GB)    GIONEE        8990   \n",
              "1510           Kekai Prime (Sea White, 32 GB)     Kekai        5499   \n",
              "1511  Telefono S1 (Interstellar Black, 32 GB)  Telefono        5990   \n",
              "1512          Telefono S1 (Space Blue, 32 GB)  Telefono        5990   \n",
              "\n",
              "      Number Of Ratings  Number Of Reviews               Upc  Star Rating  \\\n",
              "0                   333                130  MOBDMKDAKQGCYZ6D          3.8   \n",
              "1                   437                 78  MOBDRKHTA3UXHAVD          3.6   \n",
              "2                    28                  7  MOBDRYWHA3ZU9BRT          3.3   \n",
              "3                    28                  7  MOBDRYWHFVVQHQVZ          3.3   \n",
              "4                    61                  8  MOBDSMAJ5UUJUDDE          3.1   \n",
              "...                 ...                ...               ...          ...   \n",
              "1508                  0                  0  MOBGYYUWTY8DJUES          0.0   \n",
              "1509                  0                  0  MOBGYYUX6EBEHJCF          0.0   \n",
              "1510                  0                  0  MOBGYYUXQZBZ4DAY          0.0   \n",
              "1511                  0                  0  MOBGYZ8ZYCKJFEWV          0.0   \n",
              "1512                  0                  0  MOBGYZ94RVSAXKSW          0.0   \n",
              "\n",
              "         Ram  \n",
              "0       1 GB  \n",
              "1     512 MB  \n",
              "2       1 GB  \n",
              "3       1 GB  \n",
              "4     512 MB  \n",
              "...      ...  \n",
              "1508    2 GB  \n",
              "1509    4 GB  \n",
              "1510    2 GB  \n",
              "1511    3 GB  \n",
              "1512    3 GB  \n",
              "\n",
              "[1513 rows x 8 columns]"
            ],
            "text/html": [
              "\n",
              "  <div id=\"df-2ef0fe65-a2a3-4a31-b60c-94a42c0f00da\">\n",
              "    <div class=\"colab-df-container\">\n",
              "      <div>\n",
              "<style scoped>\n",
              "    .dataframe tbody tr th:only-of-type {\n",
              "        vertical-align: middle;\n",
              "    }\n",
              "\n",
              "    .dataframe tbody tr th {\n",
              "        vertical-align: top;\n",
              "    }\n",
              "\n",
              "    .dataframe thead th {\n",
              "        text-align: right;\n",
              "    }\n",
              "</style>\n",
              "<table border=\"1\" class=\"dataframe\">\n",
              "  <thead>\n",
              "    <tr style=\"text-align: right;\">\n",
              "      <th></th>\n",
              "      <th>Product Name</th>\n",
              "      <th>Brand</th>\n",
              "      <th>Sale Price</th>\n",
              "      <th>Number Of Ratings</th>\n",
              "      <th>Number Of Reviews</th>\n",
              "      <th>Upc</th>\n",
              "      <th>Star Rating</th>\n",
              "      <th>Ram</th>\n",
              "    </tr>\n",
              "  </thead>\n",
              "  <tbody>\n",
              "    <tr>\n",
              "      <th>0</th>\n",
              "      <td>XOLO T1000 (Black, 4 GB)</td>\n",
              "      <td>XOLO</td>\n",
              "      <td>14153</td>\n",
              "      <td>333</td>\n",
              "      <td>130</td>\n",
              "      <td>MOBDMKDAKQGCYZ6D</td>\n",
              "      <td>3.8</td>\n",
              "      <td>1 GB</td>\n",
              "    </tr>\n",
              "    <tr>\n",
              "      <th>1</th>\n",
              "      <td>GIONEE Pioneer P3 (White, 4 GB)</td>\n",
              "      <td>GIONEE</td>\n",
              "      <td>6500</td>\n",
              "      <td>437</td>\n",
              "      <td>78</td>\n",
              "      <td>MOBDRKHTA3UXHAVD</td>\n",
              "      <td>3.6</td>\n",
              "      <td>512 MB</td>\n",
              "    </tr>\n",
              "    <tr>\n",
              "      <th>2</th>\n",
              "      <td>KARBONN Titanium S4 (Black, 4 GB)</td>\n",
              "      <td>KARBONN</td>\n",
              "      <td>13298</td>\n",
              "      <td>28</td>\n",
              "      <td>7</td>\n",
              "      <td>MOBDRYWHA3ZU9BRT</td>\n",
              "      <td>3.3</td>\n",
              "      <td>1 GB</td>\n",
              "    </tr>\n",
              "    <tr>\n",
              "      <th>3</th>\n",
              "      <td>KARBONN Titanium S4 (White, 4 GB)</td>\n",
              "      <td>KARBONN</td>\n",
              "      <td>14990</td>\n",
              "      <td>28</td>\n",
              "      <td>7</td>\n",
              "      <td>MOBDRYWHFVVQHQVZ</td>\n",
              "      <td>3.3</td>\n",
              "      <td>1 GB</td>\n",
              "    </tr>\n",
              "    <tr>\n",
              "      <th>4</th>\n",
              "      <td>Micromax Bolt A71 (Black, 165 MB)</td>\n",
              "      <td>Micromax</td>\n",
              "      <td>6499</td>\n",
              "      <td>61</td>\n",
              "      <td>8</td>\n",
              "      <td>MOBDSMAJ5UUJUDDE</td>\n",
              "      <td>3.1</td>\n",
              "      <td>512 MB</td>\n",
              "    </tr>\n",
              "    <tr>\n",
              "      <th>...</th>\n",
              "      <td>...</td>\n",
              "      <td>...</td>\n",
              "      <td>...</td>\n",
              "      <td>...</td>\n",
              "      <td>...</td>\n",
              "      <td>...</td>\n",
              "      <td>...</td>\n",
              "      <td>...</td>\n",
              "    </tr>\n",
              "    <tr>\n",
              "      <th>1508</th>\n",
              "      <td>Kekai Prime (Sea Blue, 32 GB)</td>\n",
              "      <td>Kekai</td>\n",
              "      <td>5499</td>\n",
              "      <td>0</td>\n",
              "      <td>0</td>\n",
              "      <td>MOBGYYUWTY8DJUES</td>\n",
              "      <td>0.0</td>\n",
              "      <td>2 GB</td>\n",
              "    </tr>\n",
              "    <tr>\n",
              "      <th>1509</th>\n",
              "      <td>GIONEE S11 (Gold, 64 GB)</td>\n",
              "      <td>GIONEE</td>\n",
              "      <td>8990</td>\n",
              "      <td>0</td>\n",
              "      <td>0</td>\n",
              "      <td>MOBGYYUX6EBEHJCF</td>\n",
              "      <td>0.0</td>\n",
              "      <td>4 GB</td>\n",
              "    </tr>\n",
              "    <tr>\n",
              "      <th>1510</th>\n",
              "      <td>Kekai Prime (Sea White, 32 GB)</td>\n",
              "      <td>Kekai</td>\n",
              "      <td>5499</td>\n",
              "      <td>0</td>\n",
              "      <td>0</td>\n",
              "      <td>MOBGYYUXQZBZ4DAY</td>\n",
              "      <td>0.0</td>\n",
              "      <td>2 GB</td>\n",
              "    </tr>\n",
              "    <tr>\n",
              "      <th>1511</th>\n",
              "      <td>Telefono S1 (Interstellar Black, 32 GB)</td>\n",
              "      <td>Telefono</td>\n",
              "      <td>5990</td>\n",
              "      <td>0</td>\n",
              "      <td>0</td>\n",
              "      <td>MOBGYZ8ZYCKJFEWV</td>\n",
              "      <td>0.0</td>\n",
              "      <td>3 GB</td>\n",
              "    </tr>\n",
              "    <tr>\n",
              "      <th>1512</th>\n",
              "      <td>Telefono S1 (Space Blue, 32 GB)</td>\n",
              "      <td>Telefono</td>\n",
              "      <td>5990</td>\n",
              "      <td>0</td>\n",
              "      <td>0</td>\n",
              "      <td>MOBGYZ94RVSAXKSW</td>\n",
              "      <td>0.0</td>\n",
              "      <td>3 GB</td>\n",
              "    </tr>\n",
              "  </tbody>\n",
              "</table>\n",
              "<p>1513 rows × 8 columns</p>\n",
              "</div>\n",
              "      <button class=\"colab-df-convert\" onclick=\"convertToInteractive('df-2ef0fe65-a2a3-4a31-b60c-94a42c0f00da')\"\n",
              "              title=\"Convert this dataframe to an interactive table.\"\n",
              "              style=\"display:none;\">\n",
              "        \n",
              "  <svg xmlns=\"http://www.w3.org/2000/svg\" height=\"24px\"viewBox=\"0 0 24 24\"\n",
              "       width=\"24px\">\n",
              "    <path d=\"M0 0h24v24H0V0z\" fill=\"none\"/>\n",
              "    <path d=\"M18.56 5.44l.94 2.06.94-2.06 2.06-.94-2.06-.94-.94-2.06-.94 2.06-2.06.94zm-11 1L8.5 8.5l.94-2.06 2.06-.94-2.06-.94L8.5 2.5l-.94 2.06-2.06.94zm10 10l.94 2.06.94-2.06 2.06-.94-2.06-.94-.94-2.06-.94 2.06-2.06.94z\"/><path d=\"M17.41 7.96l-1.37-1.37c-.4-.4-.92-.59-1.43-.59-.52 0-1.04.2-1.43.59L10.3 9.45l-7.72 7.72c-.78.78-.78 2.05 0 2.83L4 21.41c.39.39.9.59 1.41.59.51 0 1.02-.2 1.41-.59l7.78-7.78 2.81-2.81c.8-.78.8-2.07 0-2.86zM5.41 20L4 18.59l7.72-7.72 1.47 1.35L5.41 20z\"/>\n",
              "  </svg>\n",
              "      </button>\n",
              "      \n",
              "  <style>\n",
              "    .colab-df-container {\n",
              "      display:flex;\n",
              "      flex-wrap:wrap;\n",
              "      gap: 12px;\n",
              "    }\n",
              "\n",
              "    .colab-df-convert {\n",
              "      background-color: #E8F0FE;\n",
              "      border: none;\n",
              "      border-radius: 50%;\n",
              "      cursor: pointer;\n",
              "      display: none;\n",
              "      fill: #1967D2;\n",
              "      height: 32px;\n",
              "      padding: 0 0 0 0;\n",
              "      width: 32px;\n",
              "    }\n",
              "\n",
              "    .colab-df-convert:hover {\n",
              "      background-color: #E2EBFA;\n",
              "      box-shadow: 0px 1px 2px rgba(60, 64, 67, 0.3), 0px 1px 3px 1px rgba(60, 64, 67, 0.15);\n",
              "      fill: #174EA6;\n",
              "    }\n",
              "\n",
              "    [theme=dark] .colab-df-convert {\n",
              "      background-color: #3B4455;\n",
              "      fill: #D2E3FC;\n",
              "    }\n",
              "\n",
              "    [theme=dark] .colab-df-convert:hover {\n",
              "      background-color: #434B5C;\n",
              "      box-shadow: 0px 1px 3px 1px rgba(0, 0, 0, 0.15);\n",
              "      filter: drop-shadow(0px 1px 2px rgba(0, 0, 0, 0.3));\n",
              "      fill: #FFFFFF;\n",
              "    }\n",
              "  </style>\n",
              "\n",
              "      <script>\n",
              "        const buttonEl =\n",
              "          document.querySelector('#df-2ef0fe65-a2a3-4a31-b60c-94a42c0f00da button.colab-df-convert');\n",
              "        buttonEl.style.display =\n",
              "          google.colab.kernel.accessAllowed ? 'block' : 'none';\n",
              "\n",
              "        async function convertToInteractive(key) {\n",
              "          const element = document.querySelector('#df-2ef0fe65-a2a3-4a31-b60c-94a42c0f00da');\n",
              "          const dataTable =\n",
              "            await google.colab.kernel.invokeFunction('convertToInteractive',\n",
              "                                                     [key], {});\n",
              "          if (!dataTable) return;\n",
              "\n",
              "          const docLinkHtml = 'Like what you see? Visit the ' +\n",
              "            '<a target=\"_blank\" href=https://colab.research.google.com/notebooks/data_table.ipynb>data table notebook</a>'\n",
              "            + ' to learn more about interactive tables.';\n",
              "          element.innerHTML = '';\n",
              "          dataTable['output_type'] = 'display_data';\n",
              "          await google.colab.output.renderOutput(dataTable, element);\n",
              "          const docLink = document.createElement('div');\n",
              "          docLink.innerHTML = docLinkHtml;\n",
              "          element.appendChild(docLink);\n",
              "        }\n",
              "      </script>\n",
              "    </div>\n",
              "  </div>\n",
              "  "
            ]
          },
          "metadata": {},
          "execution_count": 1850
        }
      ]
    },
    {
      "cell_type": "markdown",
      "source": [
        "Next up would be to check for any missing or null values within the data set. As we know, null values can have unforseen consequences when trying to compute different aspects of our data set, so they should be dealt with accordingly. "
      ],
      "metadata": {
        "id": "G-UP5m9E57Ef"
      }
    },
    {
      "cell_type": "code",
      "source": [
        "df.isnull().sum()"
      ],
      "metadata": {
        "colab": {
          "base_uri": "https://localhost:8080/"
        },
        "id": "FBs8hpPg6nz-",
        "outputId": "fc1f407f-9822-4ba1-b7ea-33ef51097da2"
      },
      "execution_count": 1851,
      "outputs": [
        {
          "output_type": "execute_result",
          "data": {
            "text/plain": [
              "Product Name         0\n",
              "Brand                0\n",
              "Sale Price           0\n",
              "Number Of Ratings    0\n",
              "Number Of Reviews    0\n",
              "Upc                  0\n",
              "Star Rating          0\n",
              "Ram                  0\n",
              "dtype: int64"
            ]
          },
          "metadata": {},
          "execution_count": 1851
        }
      ]
    },
    {
      "cell_type": "markdown",
      "source": [
        "As you can see we don't have any null values within the data set so that is great. This means we can move on to the next part and begin to further analyze our data."
      ],
      "metadata": {
        "id": "yB2XVvZJ8QXq"
      }
    },
    {
      "cell_type": "code",
      "source": [
        "df.hist(bins=50, figsize=(15,10))\n",
        "plt.show()"
      ],
      "metadata": {
        "colab": {
          "base_uri": "https://localhost:8080/",
          "height": 608
        },
        "id": "7RqeX7SR8hXl",
        "outputId": "3cfa74b2-10f2-418b-84ba-8b821a3fbf4c"
      },
      "execution_count": 1852,
      "outputs": [
        {
          "output_type": "display_data",
          "data": {
            "text/plain": [
              "<Figure size 1080x720 with 4 Axes>"
            ],
            "image/png": "[encoded data removed]"
          },
          "metadata": {
            "needs_background": "light"
          }
        }
      ]
    },
    {
      "cell_type": "markdown",
      "source": [
        "Using histograms we are able to see the graphical representation of the data here. However one thing that is noticeable right away is that the sale price of the smartphones seem to be in a different currency. This makes sense as the survey was conducted in India so naturally they would use their local currency of rupees. Since we're here in the United States however, it seems appropriate to convert the data into our currency for easy of use. So I found the current conversion rate for Indian rupees online which is 0.013 and multiplied that by the values withing the sale price column."
      ],
      "metadata": {
        "id": "cNgA_Jff9Gr_"
      }
    },
    {
      "cell_type": "code",
      "source": [
        "df['Sale Price'] = df['Sale Price'] * 0.013\n",
        "df"
      ],
      "metadata": {
        "colab": {
          "base_uri": "https://localhost:8080/",
          "height": 424
        },
        "id": "aM9CJ1tb9u_g",
        "outputId": "3a9bbad7-d58a-4f9d-e843-73cc9fb2cd98"
      },
      "execution_count": 1853,
      "outputs": [
        {
          "output_type": "execute_result",
          "data": {
            "text/plain": [
              "                                 Product Name     Brand  Sale Price  \\\n",
              "0                    XOLO T1000 (Black, 4 GB)      XOLO     183.989   \n",
              "1             GIONEE Pioneer P3 (White, 4 GB)    GIONEE      84.500   \n",
              "2           KARBONN Titanium S4 (Black, 4 GB)   KARBONN     172.874   \n",
              "3           KARBONN Titanium S4 (White, 4 GB)   KARBONN     194.870   \n",
              "4           Micromax Bolt A71 (Black, 165 MB)  Micromax      84.487   \n",
              "...                                       ...       ...         ...   \n",
              "1508            Kekai Prime (Sea Blue, 32 GB)     Kekai      71.487   \n",
              "1509                 GIONEE S11 (Gold, 64 GB)    GIONEE     116.870   \n",
              "1510           Kekai Prime (Sea White, 32 GB)     Kekai      71.487   \n",
              "1511  Telefono S1 (Interstellar Black, 32 GB)  Telefono      77.870   \n",
              "1512          Telefono S1 (Space Blue, 32 GB)  Telefono      77.870   \n",
              "\n",
              "      Number Of Ratings  Number Of Reviews               Upc  Star Rating  \\\n",
              "0                   333                130  MOBDMKDAKQGCYZ6D          3.8   \n",
              "1                   437                 78  MOBDRKHTA3UXHAVD          3.6   \n",
              "2                    28                  7  MOBDRYWHA3ZU9BRT          3.3   \n",
              "3                    28                  7  MOBDRYWHFVVQHQVZ          3.3   \n",
              "4                    61                  8  MOBDSMAJ5UUJUDDE          3.1   \n",
              "...                 ...                ...               ...          ...   \n",
              "1508                  0                  0  MOBGYYUWTY8DJUES          0.0   \n",
              "1509                  0                  0  MOBGYYUX6EBEHJCF          0.0   \n",
              "1510                  0                  0  MOBGYYUXQZBZ4DAY          0.0   \n",
              "1511                  0                  0  MOBGYZ8ZYCKJFEWV          0.0   \n",
              "1512                  0                  0  MOBGYZ94RVSAXKSW          0.0   \n",
              "\n",
              "         Ram  \n",
              "0       1 GB  \n",
              "1     512 MB  \n",
              "2       1 GB  \n",
              "3       1 GB  \n",
              "4     512 MB  \n",
              "...      ...  \n",
              "1508    2 GB  \n",
              "1509    4 GB  \n",
              "1510    2 GB  \n",
              "1511    3 GB  \n",
              "1512    3 GB  \n",
              "\n",
              "[1513 rows x 8 columns]"
            ],
            "text/html": [
              "\n",
              "  <div id=\"df-c933bbdc-5a0f-4750-bfac-dcee0fbc54e4\">\n",
              "    <div class=\"colab-df-container\">\n",
              "      <div>\n",
              "<style scoped>\n",
              "    .dataframe tbody tr th:only-of-type {\n",
              "        vertical-align: middle;\n",
              "    }\n",
              "\n",
              "    .dataframe tbody tr th {\n",
              "        vertical-align: top;\n",
              "    }\n",
              "\n",
              "    .dataframe thead th {\n",
              "        text-align: right;\n",
              "    }\n",
              "</style>\n",
              "<table border=\"1\" class=\"dataframe\">\n",
              "  <thead>\n",
              "    <tr style=\"text-align: right;\">\n",
              "      <th></th>\n",
              "      <th>Product Name</th>\n",
              "      <th>Brand</th>\n",
              "      <th>Sale Price</th>\n",
              "      <th>Number Of Ratings</th>\n",
              "      <th>Number Of Reviews</th>\n",
              "      <th>Upc</th>\n",
              "      <th>Star Rating</th>\n",
              "      <th>Ram</th>\n",
              "    </tr>\n",
              "  </thead>\n",
              "  <tbody>\n",
              "    <tr>\n",
              "      <th>0</th>\n",
              "      <td>XOLO T1000 (Black, 4 GB)</td>\n",
              "      <td>XOLO</td>\n",
              "      <td>183.989</td>\n",
              "      <td>333</td>\n",
              "      <td>130</td>\n",
              "      <td>MOBDMKDAKQGCYZ6D</td>\n",
              "      <td>3.8</td>\n",
              "      <td>1 GB</td>\n",
              "    </tr>\n",
              "    <tr>\n",
              "      <th>1</th>\n",
              "      <td>GIONEE Pioneer P3 (White, 4 GB)</td>\n",
              "      <td>GIONEE</td>\n",
              "      <td>84.500</td>\n",
              "      <td>437</td>\n",
              "      <td>78</td>\n",
              "      <td>MOBDRKHTA3UXHAVD</td>\n",
              "      <td>3.6</td>\n",
              "      <td>512 MB</td>\n",
              "    </tr>\n",
              "    <tr>\n",
              "      <th>2</th>\n",
              "      <td>KARBONN Titanium S4 (Black, 4 GB)</td>\n",
              "      <td>KARBONN</td>\n",
              "      <td>172.874</td>\n",
              "      <td>28</td>\n",
              "      <td>7</td>\n",
              "      <td>MOBDRYWHA3ZU9BRT</td>\n",
              "      <td>3.3</td>\n",
              "      <td>1 GB</td>\n",
              "    </tr>\n",
              "    <tr>\n",
              "      <th>3</th>\n",
              "      <td>KARBONN Titanium S4 (White, 4 GB)</td>\n",
              "      <td>KARBONN</td>\n",
              "      <td>194.870</td>\n",
              "      <td>28</td>\n",
              "      <td>7</td>\n",
              "      <td>MOBDRYWHFVVQHQVZ</td>\n",
              "      <td>3.3</td>\n",
              "      <td>1 GB</td>\n",
              "    </tr>\n",
              "    <tr>\n",
              "      <th>4</th>\n",
              "      <td>Micromax Bolt A71 (Black, 165 MB)</td>\n",
              "      <td>Micromax</td>\n",
              "      <td>84.487</td>\n",
              "      <td>61</td>\n",
              "      <td>8</td>\n",
              "      <td>MOBDSMAJ5UUJUDDE</td>\n",
              "      <td>3.1</td>\n",
              "      <td>512 MB</td>\n",
              "    </tr>\n",
              "    <tr>\n",
              "      <th>...</th>\n",
              "      <td>...</td>\n",
              "      <td>...</td>\n",
              "      <td>...</td>\n",
              "      <td>...</td>\n",
              "      <td>...</td>\n",
              "      <td>...</td>\n",
              "      <td>...</td>\n",
              "      <td>...</td>\n",
              "    </tr>\n",
              "    <tr>\n",
              "      <th>1508</th>\n",
              "      <td>Kekai Prime (Sea Blue, 32 GB)</td>\n",
              "      <td>Kekai</td>\n",
              "      <td>71.487</td>\n",
              "      <td>0</td>\n",
              "      <td>0</td>\n",
              "      <td>MOBGYYUWTY8DJUES</td>\n",
              "      <td>0.0</td>\n",
              "      <td>2 GB</td>\n",
              "    </tr>\n",
              "    <tr>\n",
              "      <th>1509</th>\n",
              "      <td>GIONEE S11 (Gold, 64 GB)</td>\n",
              "      <td>GIONEE</td>\n",
              "      <td>116.870</td>\n",
              "      <td>0</td>\n",
              "      <td>0</td>\n",
              "      <td>MOBGYYUX6EBEHJCF</td>\n",
              "      <td>0.0</td>\n",
              "      <td>4 GB</td>\n",
              "    </tr>\n",
              "    <tr>\n",
              "      <th>1510</th>\n",
              "      <td>Kekai Prime (Sea White, 32 GB)</td>\n",
              "      <td>Kekai</td>\n",
              "      <td>71.487</td>\n",
              "      <td>0</td>\n",
              "      <td>0</td>\n",
              "      <td>MOBGYYUXQZBZ4DAY</td>\n",
              "      <td>0.0</td>\n",
              "      <td>2 GB</td>\n",
              "    </tr>\n",
              "    <tr>\n",
              "      <th>1511</th>\n",
              "      <td>Telefono S1 (Interstellar Black, 32 GB)</td>\n",
              "      <td>Telefono</td>\n",
              "      <td>77.870</td>\n",
              "      <td>0</td>\n",
              "      <td>0</td>\n",
              "      <td>MOBGYZ8ZYCKJFEWV</td>\n",
              "      <td>0.0</td>\n",
              "      <td>3 GB</td>\n",
              "    </tr>\n",
              "    <tr>\n",
              "      <th>1512</th>\n",
              "      <td>Telefono S1 (Space Blue, 32 GB)</td>\n",
              "      <td>Telefono</td>\n",
              "      <td>77.870</td>\n",
              "      <td>0</td>\n",
              "      <td>0</td>\n",
              "      <td>MOBGYZ94RVSAXKSW</td>\n",
              "      <td>0.0</td>\n",
              "      <td>3 GB</td>\n",
              "    </tr>\n",
              "  </tbody>\n",
              "</table>\n",
              "<p>1513 rows × 8 columns</p>\n",
              "</div>\n",
              "      <button class=\"colab-df-convert\" onclick=\"convertToInteractive('df-c933bbdc-5a0f-4750-bfac-dcee0fbc54e4')\"\n",
              "              title=\"Convert this dataframe to an interactive table.\"\n",
              "              style=\"display:none;\">\n",
              "        \n",
              "  <svg xmlns=\"http://www.w3.org/2000/svg\" height=\"24px\"viewBox=\"0 0 24 24\"\n",
              "       width=\"24px\">\n",
              "    <path d=\"M0 0h24v24H0V0z\" fill=\"none\"/>\n",
              "    <path d=\"M18.56 5.44l.94 2.06.94-2.06 2.06-.94-2.06-.94-.94-2.06-.94 2.06-2.06.94zm-11 1L8.5 8.5l.94-2.06 2.06-.94-2.06-.94L8.5 2.5l-.94 2.06-2.06.94zm10 10l.94 2.06.94-2.06 2.06-.94-2.06-.94-.94-2.06-.94 2.06-2.06.94z\"/><path d=\"M17.41 7.96l-1.37-1.37c-.4-.4-.92-.59-1.43-.59-.52 0-1.04.2-1.43.59L10.3 9.45l-7.72 7.72c-.78.78-.78 2.05 0 2.83L4 21.41c.39.39.9.59 1.41.59.51 0 1.02-.2 1.41-.59l7.78-7.78 2.81-2.81c.8-.78.8-2.07 0-2.86zM5.41 20L4 18.59l7.72-7.72 1.47 1.35L5.41 20z\"/>\n",
              "  </svg>\n",
              "      </button>\n",
              "      \n",
              "  <style>\n",
              "    .colab-df-container {\n",
              "      display:flex;\n",
              "      flex-wrap:wrap;\n",
              "      gap: 12px;\n",
              "    }\n",
              "\n",
              "    .colab-df-convert {\n",
              "      background-color: #E8F0FE;\n",
              "      border: none;\n",
              "      border-radius: 50%;\n",
              "      cursor: pointer;\n",
              "      display: none;\n",
              "      fill: #1967D2;\n",
              "      height: 32px;\n",
              "      padding: 0 0 0 0;\n",
              "      width: 32px;\n",
              "    }\n",
              "\n",
              "    .colab-df-convert:hover {\n",
              "      background-color: #E2EBFA;\n",
              "      box-shadow: 0px 1px 2px rgba(60, 64, 67, 0.3), 0px 1px 3px 1px rgba(60, 64, 67, 0.15);\n",
              "      fill: #174EA6;\n",
              "    }\n",
              "\n",
              "    [theme=dark] .colab-df-convert {\n",
              "      background-color: #3B4455;\n",
              "      fill: #D2E3FC;\n",
              "    }\n",
              "\n",
              "    [theme=dark] .colab-df-convert:hover {\n",
              "      background-color: #434B5C;\n",
              "      box-shadow: 0px 1px 3px 1px rgba(0, 0, 0, 0.15);\n",
              "      filter: drop-shadow(0px 1px 2px rgba(0, 0, 0, 0.3));\n",
              "      fill: #FFFFFF;\n",
              "    }\n",
              "  </style>\n",
              "\n",
              "      <script>\n",
              "        const buttonEl =\n",
              "          document.querySelector('#df-c933bbdc-5a0f-4750-bfac-dcee0fbc54e4 button.colab-df-convert');\n",
              "        buttonEl.style.display =\n",
              "          google.colab.kernel.accessAllowed ? 'block' : 'none';\n",
              "\n",
              "        async function convertToInteractive(key) {\n",
              "          const element = document.querySelector('#df-c933bbdc-5a0f-4750-bfac-dcee0fbc54e4');\n",
              "          const dataTable =\n",
              "            await google.colab.kernel.invokeFunction('convertToInteractive',\n",
              "                                                     [key], {});\n",
              "          if (!dataTable) return;\n",
              "\n",
              "          const docLinkHtml = 'Like what you see? Visit the ' +\n",
              "            '<a target=\"_blank\" href=https://colab.research.google.com/notebooks/data_table.ipynb>data table notebook</a>'\n",
              "            + ' to learn more about interactive tables.';\n",
              "          element.innerHTML = '';\n",
              "          dataTable['output_type'] = 'display_data';\n",
              "          await google.colab.output.renderOutput(dataTable, element);\n",
              "          const docLink = document.createElement('div');\n",
              "          docLink.innerHTML = docLinkHtml;\n",
              "          element.appendChild(docLink);\n",
              "        }\n",
              "      </script>\n",
              "    </div>\n",
              "  </div>\n",
              "  "
            ]
          },
          "metadata": {},
          "execution_count": 1853
        }
      ]
    },
    {
      "cell_type": "markdown",
      "source": [
        "I also noticed that there seems to be a large amount of '0' values for the Number of Ratings, Star Rating, and Number of Reviews columns. So I decided to first count how many instances of this there are."
      ],
      "metadata": {
        "id": "gqILhH19Ahkp"
      }
    },
    {
      "cell_type": "code",
      "source": [
        "#Create a temporary data frame\n",
        "fixed = df\n",
        "#In the temp data frame replace all 0's with null\n",
        "fixed = fixed.replace(0, np.nan)\n",
        "#Count the amount of nulls within the data frame (representing # of zeros)\n",
        "print(fixed.isnull().sum())"
      ],
      "metadata": {
        "colab": {
          "base_uri": "https://localhost:8080/"
        },
        "id": "e2JKdF6N_byA",
        "outputId": "ce8268c9-081a-41d9-ba7d-ed6f0cb1ed74"
      },
      "execution_count": 1854,
      "outputs": [
        {
          "output_type": "stream",
          "name": "stdout",
          "text": [
            "Product Name           0\n",
            "Brand                  0\n",
            "Sale Price             0\n",
            "Number Of Ratings     86\n",
            "Number Of Reviews    119\n",
            "Upc                    0\n",
            "Star Rating           86\n",
            "Ram                    0\n",
            "dtype: int64\n"
          ]
        }
      ]
    },
    {
      "cell_type": "markdown",
      "source": [
        "Since there seems to very little instances of 0 values, I decided it would be easiest to simply drop these values from the data set. As in doing so it wouldn't cause any problems an also preserve the overwhelming majority of the data."
      ],
      "metadata": {
        "id": "DmOck4kDA47Q"
      }
    },
    {
      "cell_type": "code",
      "source": [
        "fixed = fixed.dropna()\n",
        "df = fixed\n",
        "df"
      ],
      "metadata": {
        "colab": {
          "base_uri": "https://localhost:8080/",
          "height": 424
        },
        "id": "hIPeZggGBh52",
        "outputId": "e2f6e40a-4594-417b-b59b-06abf9c744ec"
      },
      "execution_count": 1855,
      "outputs": [
        {
          "output_type": "execute_result",
          "data": {
            "text/plain": [
              "                               Product Name     Brand  Sale Price  \\\n",
              "0                  XOLO T1000 (Black, 4 GB)      XOLO     183.989   \n",
              "1           GIONEE Pioneer P3 (White, 4 GB)    GIONEE      84.500   \n",
              "2         KARBONN Titanium S4 (Black, 4 GB)   KARBONN     172.874   \n",
              "3         KARBONN Titanium S4 (White, 4 GB)   KARBONN     194.870   \n",
              "4         Micromax Bolt A71 (Black, 165 MB)  Micromax      84.487   \n",
              "...                                     ...       ...         ...   \n",
              "1497  OPPO F19 Pro (Crystal Silver, 128 GB)      OPPO     259.987   \n",
              "1498  OPPO F19 Pro (Crystal Silver, 256 GB)      OPPO     305.370   \n",
              "1499     OPPO F19 Pro (Fluid Black, 256 GB)      OPPO     305.370   \n",
              "1501       OPPO A12 (Flowing Silver, 64 GB)      OPPO     116.870   \n",
              "1502         I Kall K8 (Black Green, 16 GB)     IKall      54.210   \n",
              "\n",
              "      Number Of Ratings  Number Of Reviews               Upc  Star Rating  \\\n",
              "0                 333.0              130.0  MOBDMKDAKQGCYZ6D          3.8   \n",
              "1                 437.0               78.0  MOBDRKHTA3UXHAVD          3.6   \n",
              "2                  28.0                7.0  MOBDRYWHA3ZU9BRT          3.3   \n",
              "3                  28.0                7.0  MOBDRYWHFVVQHQVZ          3.3   \n",
              "4                  61.0                8.0  MOBDSMAJ5UUJUDDE          3.1   \n",
              "...                 ...                ...               ...          ...   \n",
              "1497              993.0               66.0  MOBGYV9VEMHYEQAA          4.3   \n",
              "1498              968.0               65.0  MOBGYV9VFD8HTPZ4          4.3   \n",
              "1499              968.0               65.0  MOBGYV9VPHZ33BJY          4.3   \n",
              "1501            13473.0              669.0  MOBGYX8ETQGZZZ27          4.4   \n",
              "1502              687.0               72.0  MOBGYXC4ZFXEDENG          3.4   \n",
              "\n",
              "         Ram  \n",
              "0       1 GB  \n",
              "1     512 MB  \n",
              "2       1 GB  \n",
              "3       1 GB  \n",
              "4     512 MB  \n",
              "...      ...  \n",
              "1497    8 GB  \n",
              "1498    8 GB  \n",
              "1499    8 GB  \n",
              "1501    4 GB  \n",
              "1502    2 GB  \n",
              "\n",
              "[1394 rows x 8 columns]"
            ],
            "text/html": [
              "\n",
              "  <div id=\"df-914fc9a7-b3c0-4b2a-a235-7f9b5e381819\">\n",
              "    <div class=\"colab-df-container\">\n",
              "      <div>\n",
              "<style scoped>\n",
              "    .dataframe tbody tr th:only-of-type {\n",
              "        vertical-align: middle;\n",
              "    }\n",
              "\n",
              "    .dataframe tbody tr th {\n",
              "        vertical-align: top;\n",
              "    }\n",
              "\n",
              "    .dataframe thead th {\n",
              "        text-align: right;\n",
              "    }\n",
              "</style>\n",
              "<table border=\"1\" class=\"dataframe\">\n",
              "  <thead>\n",
              "    <tr style=\"text-align: right;\">\n",
              "      <th></th>\n",
              "      <th>Product Name</th>\n",
              "      <th>Brand</th>\n",
              "      <th>Sale Price</th>\n",
              "      <th>Number Of Ratings</th>\n",
              "      <th>Number Of Reviews</th>\n",
              "      <th>Upc</th>\n",
              "      <th>Star Rating</th>\n",
              "      <th>Ram</th>\n",
              "    </tr>\n",
              "  </thead>\n",
              "  <tbody>\n",
              "    <tr>\n",
              "      <th>0</th>\n",
              "      <td>XOLO T1000 (Black, 4 GB)</td>\n",
              "      <td>XOLO</td>\n",
              "      <td>183.989</td>\n",
              "      <td>333.0</td>\n",
              "      <td>130.0</td>\n",
              "      <td>MOBDMKDAKQGCYZ6D</td>\n",
              "      <td>3.8</td>\n",
              "      <td>1 GB</td>\n",
              "    </tr>\n",
              "    <tr>\n",
              "      <th>1</th>\n",
              "      <td>GIONEE Pioneer P3 (White, 4 GB)</td>\n",
              "      <td>GIONEE</td>\n",
              "      <td>84.500</td>\n",
              "      <td>437.0</td>\n",
              "      <td>78.0</td>\n",
              "      <td>MOBDRKHTA3UXHAVD</td>\n",
              "      <td>3.6</td>\n",
              "      <td>512 MB</td>\n",
              "    </tr>\n",
              "    <tr>\n",
              "      <th>2</th>\n",
              "      <td>KARBONN Titanium S4 (Black, 4 GB)</td>\n",
              "      <td>KARBONN</td>\n",
              "      <td>172.874</td>\n",
              "      <td>28.0</td>\n",
              "      <td>7.0</td>\n",
              "      <td>MOBDRYWHA3ZU9BRT</td>\n",
              "      <td>3.3</td>\n",
              "      <td>1 GB</td>\n",
              "    </tr>\n",
              "    <tr>\n",
              "      <th>3</th>\n",
              "      <td>KARBONN Titanium S4 (White, 4 GB)</td>\n",
              "      <td>KARBONN</td>\n",
              "      <td>194.870</td>\n",
              "      <td>28.0</td>\n",
              "      <td>7.0</td>\n",
              "      <td>MOBDRYWHFVVQHQVZ</td>\n",
              "      <td>3.3</td>\n",
              "      <td>1 GB</td>\n",
              "    </tr>\n",
              "    <tr>\n",
              "      <th>4</th>\n",
              "      <td>Micromax Bolt A71 (Black, 165 MB)</td>\n",
              "      <td>Micromax</td>\n",
              "      <td>84.487</td>\n",
              "      <td>61.0</td>\n",
              "      <td>8.0</td>\n",
              "      <td>MOBDSMAJ5UUJUDDE</td>\n",
              "      <td>3.1</td>\n",
              "      <td>512 MB</td>\n",
              "    </tr>\n",
              "    <tr>\n",
              "      <th>...</th>\n",
              "      <td>...</td>\n",
              "      <td>...</td>\n",
              "      <td>...</td>\n",
              "      <td>...</td>\n",
              "      <td>...</td>\n",
              "      <td>...</td>\n",
              "      <td>...</td>\n",
              "      <td>...</td>\n",
              "    </tr>\n",
              "    <tr>\n",
              "      <th>1497</th>\n",
              "      <td>OPPO F19 Pro (Crystal Silver, 128 GB)</td>\n",
              "      <td>OPPO</td>\n",
              "      <td>259.987</td>\n",
              "      <td>993.0</td>\n",
              "      <td>66.0</td>\n",
              "      <td>MOBGYV9VEMHYEQAA</td>\n",
              "      <td>4.3</td>\n",
              "      <td>8 GB</td>\n",
              "    </tr>\n",
              "    <tr>\n",
              "      <th>1498</th>\n",
              "      <td>OPPO F19 Pro (Crystal Silver, 256 GB)</td>\n",
              "      <td>OPPO</td>\n",
              "      <td>305.370</td>\n",
              "      <td>968.0</td>\n",
              "      <td>65.0</td>\n",
              "      <td>MOBGYV9VFD8HTPZ4</td>\n",
              "      <td>4.3</td>\n",
              "      <td>8 GB</td>\n",
              "    </tr>\n",
              "    <tr>\n",
              "      <th>1499</th>\n",
              "      <td>OPPO F19 Pro (Fluid Black, 256 GB)</td>\n",
              "      <td>OPPO</td>\n",
              "      <td>305.370</td>\n",
              "      <td>968.0</td>\n",
              "      <td>65.0</td>\n",
              "      <td>MOBGYV9VPHZ33BJY</td>\n",
              "      <td>4.3</td>\n",
              "      <td>8 GB</td>\n",
              "    </tr>\n",
              "    <tr>\n",
              "      <th>1501</th>\n",
              "      <td>OPPO A12 (Flowing Silver, 64 GB)</td>\n",
              "      <td>OPPO</td>\n",
              "      <td>116.870</td>\n",
              "      <td>13473.0</td>\n",
              "      <td>669.0</td>\n",
              "      <td>MOBGYX8ETQGZZZ27</td>\n",
              "      <td>4.4</td>\n",
              "      <td>4 GB</td>\n",
              "    </tr>\n",
              "    <tr>\n",
              "      <th>1502</th>\n",
              "      <td>I Kall K8 (Black Green, 16 GB)</td>\n",
              "      <td>IKall</td>\n",
              "      <td>54.210</td>\n",
              "      <td>687.0</td>\n",
              "      <td>72.0</td>\n",
              "      <td>MOBGYXC4ZFXEDENG</td>\n",
              "      <td>3.4</td>\n",
              "      <td>2 GB</td>\n",
              "    </tr>\n",
              "  </tbody>\n",
              "</table>\n",
              "<p>1394 rows × 8 columns</p>\n",
              "</div>\n",
              "      <button class=\"colab-df-convert\" onclick=\"convertToInteractive('df-914fc9a7-b3c0-4b2a-a235-7f9b5e381819')\"\n",
              "              title=\"Convert this dataframe to an interactive table.\"\n",
              "              style=\"display:none;\">\n",
              "        \n",
              "  <svg xmlns=\"http://www.w3.org/2000/svg\" height=\"24px\"viewBox=\"0 0 24 24\"\n",
              "       width=\"24px\">\n",
              "    <path d=\"M0 0h24v24H0V0z\" fill=\"none\"/>\n",
              "    <path d=\"M18.56 5.44l.94 2.06.94-2.06 2.06-.94-2.06-.94-.94-2.06-.94 2.06-2.06.94zm-11 1L8.5 8.5l.94-2.06 2.06-.94-2.06-.94L8.5 2.5l-.94 2.06-2.06.94zm10 10l.94 2.06.94-2.06 2.06-.94-2.06-.94-.94-2.06-.94 2.06-2.06.94z\"/><path d=\"M17.41 7.96l-1.37-1.37c-.4-.4-.92-.59-1.43-.59-.52 0-1.04.2-1.43.59L10.3 9.45l-7.72 7.72c-.78.78-.78 2.05 0 2.83L4 21.41c.39.39.9.59 1.41.59.51 0 1.02-.2 1.41-.59l7.78-7.78 2.81-2.81c.8-.78.8-2.07 0-2.86zM5.41 20L4 18.59l7.72-7.72 1.47 1.35L5.41 20z\"/>\n",
              "  </svg>\n",
              "      </button>\n",
              "      \n",
              "  <style>\n",
              "    .colab-df-container {\n",
              "      display:flex;\n",
              "      flex-wrap:wrap;\n",
              "      gap: 12px;\n",
              "    }\n",
              "\n",
              "    .colab-df-convert {\n",
              "      background-color: #E8F0FE;\n",
              "      border: none;\n",
              "      border-radius: 50%;\n",
              "      cursor: pointer;\n",
              "      display: none;\n",
              "      fill: #1967D2;\n",
              "      height: 32px;\n",
              "      padding: 0 0 0 0;\n",
              "      width: 32px;\n",
              "    }\n",
              "\n",
              "    .colab-df-convert:hover {\n",
              "      background-color: #E2EBFA;\n",
              "      box-shadow: 0px 1px 2px rgba(60, 64, 67, 0.3), 0px 1px 3px 1px rgba(60, 64, 67, 0.15);\n",
              "      fill: #174EA6;\n",
              "    }\n",
              "\n",
              "    [theme=dark] .colab-df-convert {\n",
              "      background-color: #3B4455;\n",
              "      fill: #D2E3FC;\n",
              "    }\n",
              "\n",
              "    [theme=dark] .colab-df-convert:hover {\n",
              "      background-color: #434B5C;\n",
              "      box-shadow: 0px 1px 3px 1px rgba(0, 0, 0, 0.15);\n",
              "      filter: drop-shadow(0px 1px 2px rgba(0, 0, 0, 0.3));\n",
              "      fill: #FFFFFF;\n",
              "    }\n",
              "  </style>\n",
              "\n",
              "      <script>\n",
              "        const buttonEl =\n",
              "          document.querySelector('#df-914fc9a7-b3c0-4b2a-a235-7f9b5e381819 button.colab-df-convert');\n",
              "        buttonEl.style.display =\n",
              "          google.colab.kernel.accessAllowed ? 'block' : 'none';\n",
              "\n",
              "        async function convertToInteractive(key) {\n",
              "          const element = document.querySelector('#df-914fc9a7-b3c0-4b2a-a235-7f9b5e381819');\n",
              "          const dataTable =\n",
              "            await google.colab.kernel.invokeFunction('convertToInteractive',\n",
              "                                                     [key], {});\n",
              "          if (!dataTable) return;\n",
              "\n",
              "          const docLinkHtml = 'Like what you see? Visit the ' +\n",
              "            '<a target=\"_blank\" href=https://colab.research.google.com/notebooks/data_table.ipynb>data table notebook</a>'\n",
              "            + ' to learn more about interactive tables.';\n",
              "          element.innerHTML = '';\n",
              "          dataTable['output_type'] = 'display_data';\n",
              "          await google.colab.output.renderOutput(dataTable, element);\n",
              "          const docLink = document.createElement('div');\n",
              "          docLink.innerHTML = docLinkHtml;\n",
              "          element.appendChild(docLink);\n",
              "        }\n",
              "      </script>\n",
              "    </div>\n",
              "  </div>\n",
              "  "
            ]
          },
          "metadata": {},
          "execution_count": 1855
        }
      ]
    },
    {
      "cell_type": "markdown",
      "source": [
        "Now that the issues are fixed we can look at other aspects of the data. For example let's take a look at Rating vs Sale Price:"
      ],
      "metadata": {
        "id": "cFf_7nHSJn4O"
      }
    },
    {
      "cell_type": "code",
      "source": [
        "sns.lineplot(data=df['Star Rating'], x=df['Star Rating'], y=df['Sale Price'])"
      ],
      "metadata": {
        "colab": {
          "base_uri": "https://localhost:8080/",
          "height": 296
        },
        "id": "l3FMJo7lHoDx",
        "outputId": "8997fd53-9e93-4239-af95-3a1ce0303a76"
      },
      "execution_count": 1856,
      "outputs": [
        {
          "output_type": "execute_result",
          "data": {
            "text/plain": [
              "<matplotlib.axes._subplots.AxesSubplot at 0x7f3e67677790>"
            ]
          },
          "metadata": {},
          "execution_count": 1856
        },
        {
          "output_type": "display_data",
          "data": {
            "text/plain": [
              "<Figure size 432x288 with 1 Axes>"
            ],
            "image/png": "[encoded data removed]"
          },
          "metadata": {
            "needs_background": "light"
          }
        }
      ]
    },
    {
      "cell_type": "markdown",
      "source": [
        "You notice here a general curve for the higher the rating, the higher the sale price. However I did notice the sharp decline and the very end of the curve. This may be due to an outlier and thus I had to investigate. "
      ],
      "metadata": {
        "id": "YratLFxgJzge"
      }
    },
    {
      "cell_type": "code",
      "source": [
        "max_x = df.loc[df['Star Rating'].idxmax()]\n",
        "print(max_x)"
      ],
      "metadata": {
        "colab": {
          "base_uri": "https://localhost:8080/"
        },
        "id": "35bLqEJ1I5T_",
        "outputId": "5de0a67d-7205-4899-a61b-f88387b14daa"
      },
      "execution_count": 1857,
      "outputs": [
        {
          "output_type": "stream",
          "name": "stdout",
          "text": [
            "Product Name         ViVO X60 Pro (Midnight Black, 256 GB)\n",
            "Brand                                                 ViVO\n",
            "Sale Price                                          649.87\n",
            "Number Of Ratings                                     45.0\n",
            "Number Of Reviews                                      6.0\n",
            "Upc                                       MOBGF89FHMK4Z6NZ\n",
            "Star Rating                                            4.8\n",
            "Ram                                                  12 GB\n",
            "Name: 1372, dtype: object\n"
          ]
        }
      ]
    },
    {
      "cell_type": "markdown",
      "source": [
        "Looking into it this phone seems to be the 'outlier' with the highest rating but also at a very low price. After researching online however I determined that this is not a mistake, this smart phone does indeed have very high rating while being at a decent price. So while keeping this entry in the data set may skew the data a bit, it is a valid entry and ultimately I decided to keep it."
      ],
      "metadata": {
        "id": "b0fjEzIOKKvO"
      }
    },
    {
      "cell_type": "markdown",
      "source": [
        "And now we can just take a look at a few of the individual numerical attributes to make sure the data set is ready to move forward."
      ],
      "metadata": {
        "id": "nvPCrcpWK7Gz"
      }
    },
    {
      "cell_type": "code",
      "source": [
        "sns.displot(df['Star Rating'])"
      ],
      "metadata": {
        "colab": {
          "base_uri": "https://localhost:8080/",
          "height": 386
        },
        "id": "nphfvQY8IUsF",
        "outputId": "e757bdda-3cbc-4dce-a668-e1d4b614335d"
      },
      "execution_count": 1858,
      "outputs": [
        {
          "output_type": "execute_result",
          "data": {
            "text/plain": [
              "<seaborn.axisgrid.FacetGrid at 0x7f3e67945c90>"
            ]
          },
          "metadata": {},
          "execution_count": 1858
        },
        {
          "output_type": "display_data",
          "data": {
            "text/plain": [
              "<Figure size 360x360 with 1 Axes>"
            ],
            "image/png": "[encoded data removed]"
          },
          "metadata": {
            "needs_background": "light"
          }
        }
      ]
    },
    {
      "cell_type": "code",
      "source": [
        "sns.displot(df['Sale Price'])"
      ],
      "metadata": {
        "colab": {
          "base_uri": "https://localhost:8080/",
          "height": 438
        },
        "id": "kzwdDhJOKnGa",
        "outputId": "fe13b73b-a18a-4250-cf9f-459b0a1b02ff"
      },
      "execution_count": 1859,
      "outputs": [
        {
          "output_type": "stream",
          "name": "stderr",
          "text": [
            "/usr/local/lib/python3.7/dist-packages/IPython/core/displayhook.py:260: UserWarning: Output cache limit (currently 1000 entries) hit.\n",
            "Flushing oldest 200 entries.\n",
            "  'Flushing oldest {cull_count} entries.'.format(sz=sz, cull_count=cull_count))\n"
          ]
        },
        {
          "output_type": "execute_result",
          "data": {
            "text/plain": [
              "<seaborn.axisgrid.FacetGrid at 0x7f3e676c2350>"
            ]
          },
          "metadata": {},
          "execution_count": 1859
        },
        {
          "output_type": "display_data",
          "data": {
            "text/plain": [
              "<Figure size 360x360 with 1 Axes>"
            ],
            "image/png": "[encoded data removed]"
          },
          "metadata": {
            "needs_background": "light"
          }
        }
      ]
    },
    {
      "cell_type": "markdown",
      "source": [
        "## Regression \n",
        "The next step was to test some Linear regression models to test the accuracy of our data, while also learning some more information about our data set."
      ],
      "metadata": {
        "id": "DJVoJ0UlFO-z"
      }
    },
    {
      "cell_type": "markdown",
      "source": [
        "First and foremost for Linear Regression we need a small subset of our data to test on. So I decided to focus on the sale price of Apple smartphones. I chose this subset because generally, Apple cell phones tend to be around a similar price point. And if our model is working correctly, it should be able to accurately predict similar prices."
      ],
      "metadata": {
        "id": "G4GD8jzDGPw2"
      }
    },
    {
      "cell_type": "code",
      "source": [
        "from sklearn.linear_model import LinearRegression\n",
        "apple = df[df['Brand'] == 'Apple']\n",
        "apple = apple['Sale Price']\n",
        "\n",
        "n = len(apple)\n",
        "\n",
        "model = LinearRegression().fit(np.arange(n).reshape((n,1)), apple)\n",
        "\n",
        "for i in range (10):\n",
        "  print(model.predict([[i],[i]]))"
      ],
      "metadata": {
        "colab": {
          "base_uri": "https://localhost:8080/"
        },
        "id": "g83jlVkpGZNZ",
        "outputId": "07294dbf-d0b8-4a6c-a9e4-53c3af7c6756"
      },
      "execution_count": 1860,
      "outputs": [
        {
          "output_type": "stream",
          "name": "stdout",
          "text": [
            "[1163.34390015 1163.34390015]\n",
            "[1159.33133071 1159.33133071]\n",
            "[1155.31876128 1155.31876128]\n",
            "[1151.30619184 1151.30619184]\n",
            "[1147.2936224 1147.2936224]\n",
            "[1143.28105296 1143.28105296]\n",
            "[1139.26848352 1139.26848352]\n",
            "[1135.25591408 1135.25591408]\n",
            "[1131.24334464 1131.24334464]\n",
            "[1127.2307752 1127.2307752]\n"
          ]
        }
      ]
    },
    {
      "cell_type": "code",
      "source": [
        "print(apple)"
      ],
      "metadata": {
        "colab": {
          "base_uri": "https://localhost:8080/"
        },
        "id": "hxBu08mtSZrY",
        "outputId": "75060d8d-3414-4dc2-c65c-ba97186b60a5"
      },
      "execution_count": 1861,
      "outputs": [
        {
          "output_type": "stream",
          "name": "stdout",
          "text": [
            "161      648.700\n",
            "162     1103.700\n",
            "163     1103.700\n",
            "164     1001.000\n",
            "165     1001.000\n",
            "          ...   \n",
            "1107     389.987\n",
            "1108     610.987\n",
            "1109     610.987\n",
            "1110     610.987\n",
            "1111     610.987\n",
            "Name: Sale Price, Length: 62, dtype: float64\n"
          ]
        }
      ]
    },
    {
      "cell_type": "markdown",
      "source": [
        "Now comparing this to our actual prices we can see that they are very similar. This means shows that our Linear Regression model is correct and able to accurately predict future values."
      ],
      "metadata": {
        "id": "0SKkP8JLQJV0"
      }
    },
    {
      "cell_type": "code",
      "source": [
        "from sklearn.linear_model import LinearRegression\n",
        "from sklearn.preprocessing import LabelEncoder as le \n",
        "from sklearn.model_selection import train_test_split\n",
        "from sklearn.linear_model import LinearRegression\n",
        "from sklearn.metrics import r2_score, mean_squared_error\n",
        "\n",
        "apple = df[df['Brand'] == 'Apple']\n",
        "\n",
        "label = le()\n",
        "apple = pd.get_dummies(apple)\n",
        "\n",
        "X = apple[['Star Rating','Number Of Reviews']]\n",
        "y = apple['Sale Price']\n",
        "\n",
        "X_train, X_test, y_train, y_test = train_test_split(X,y,test_size = .33)\n",
        "lm = LinearRegression()\n",
        "lm.fit(X_train, y_train)\n",
        "\n",
        "lm.score(X_train,y_train)"
      ],
      "metadata": {
        "colab": {
          "base_uri": "https://localhost:8080/"
        },
        "id": "sbjQHGdXPLUV",
        "outputId": "4e49f045-9edf-4e69-f829-f59a30ce4c9b"
      },
      "execution_count": 1873,
      "outputs": [
        {
          "output_type": "execute_result",
          "data": {
            "text/plain": [
              "0.6054673920150799"
            ]
          },
          "metadata": {},
          "execution_count": 1873
        }
      ]
    },
    {
      "cell_type": "markdown",
      "source": [
        "We can also see here the accuracy percantage which is around 60%. While this is not completely ideal it is a value that can be worked with for this specific model."
      ],
      "metadata": {
        "id": "5GE9y_j6UnB4"
      }
    },
    {
      "cell_type": "markdown",
      "source": [
        "The next model that I decided to used was the K-Best using the F-Test and F-Regression. This model is an interesting one as it allows you to select specific categories of the data set and see which of them are most influential. For my purposes I was interested in seeing how the other factors of the data set influence the price of the cell phone. So I decided to make 'Sale Price' my target and get the values."
      ],
      "metadata": {
        "id": "omJ2z-Xj3vsy"
      }
    },
    {
      "cell_type": "code",
      "source": [
        "from sklearn.feature_selection import SelectKBest\n",
        "from sklearn.feature_selection import f_regression\n",
        "\n",
        "temp = df.copy()\n",
        "temp.drop(['Product Name'], axis = 1, inplace = True)\n",
        "temp.drop(['Brand'], axis = 1, inplace = True)\n",
        "temp.drop(['Upc'], axis = 1, inplace = True)\n",
        "temp.drop(['Ram'], axis = 1, inplace = True)\n",
        "\n",
        "\n",
        "target = temp['Sale Price']\n",
        "features = temp.drop('Sale Price', axis = 1).copy()\n",
        "feature_names = list(features.columns)\n",
        "\n",
        "\n",
        "selection_kBest = SelectKBest(f_regression, k = 3).fit(features, target)\n",
        "\n",
        "features_kbest = selection_kBest.get_support()\n",
        "print('Overall Features ', df.columns, '\\n')\n",
        "print('Chosen features', features.columns[features_kbest], '\\n')\n",
        "\n",
        "selection_kBest.scores_"
      ],
      "metadata": {
        "colab": {
          "base_uri": "https://localhost:8080/"
        },
        "id": "tr5U-78jx-xl",
        "outputId": "8b6d6a62-3ce0-40d6-9abc-aa8a838770f7"
      },
      "execution_count": 1863,
      "outputs": [
        {
          "output_type": "stream",
          "name": "stdout",
          "text": [
            "Overall Features  Index(['Product Name', 'Brand', 'Sale Price', 'Number Of Ratings',\n",
            "       'Number Of Reviews', 'Upc', 'Star Rating', 'Ram'],\n",
            "      dtype='object') \n",
            "\n",
            "Chosen features Index(['Number Of Ratings', 'Number Of Reviews', 'Star Rating'], dtype='object') \n",
            "\n"
          ]
        },
        {
          "output_type": "execute_result",
          "data": {
            "text/plain": [
              "array([  7.89050343,   6.0943769 , 274.68383002])"
            ]
          },
          "metadata": {},
          "execution_count": 1863
        }
      ]
    },
    {
      "cell_type": "markdown",
      "source": [
        "And as we can see above, it seems like the rating of the smart phone is the most influential factor when it comes to the price. And this makes sense as usually the higher rated something is, the more demand there is and thus the more expensive it'll be. "
      ],
      "metadata": {
        "id": "8jTgTaBI6E6Z"
      }
    },
    {
      "cell_type": "markdown",
      "source": [
        "Next I wanted to experiment with the decision tree to see what kind of values this specific model would produce. Here you can see the regression tree utilizing a predictions variable and generating a tree based of those values."
      ],
      "metadata": {
        "id": "ZLWoXg7s-LxG"
      }
    },
    {
      "cell_type": "code",
      "source": [
        "from sklearn.tree import DecisionTreeRegressor\n",
        "model = DecisionTreeRegressor(random_state=44)\n",
        "model.fit(X_train, y_train)\n",
        "predictions = model.predict(X_test)\n",
        "print(predictions)\n",
        "\n",
        "from sklearn.tree import plot_tree\n",
        "plt.figure(figsize=(10,8), dpi=150)\n",
        "plot_tree(model, feature_names=X.columns);"
      ],
      "metadata": {
        "colab": {
          "base_uri": "https://localhost:8080/",
          "height": 1000
        },
        "id": "EezqQwgD8cx9",
        "outputId": "4cea5b04-e7c4-47f0-dbe1-ab9e38510af2"
      },
      "execution_count": 1864,
      "outputs": [
        {
          "output_type": "stream",
          "name": "stdout",
          "text": [
            "[1714.7        1298.7         454.987       537.32033333 1298.7\n",
            " 1298.7         986.7        1298.7        1298.7        1615.03333333\n",
            "  986.7         843.7        1298.7        1615.03333333  537.32033333\n",
            "  986.7         800.36666667 1714.7        1298.7        1714.7\n",
            " 1298.7       ]\n"
          ]
        },
        {
          "output_type": "display_data",
          "data": {
            "text/plain": [
              "<Figure size 1500x1200 with 1 Axes>"
            ],
            "image/png": "[encoded data removed]"
          },
          "metadata": {
            "needs_background": "light"
          }
        }
      ]
    },
    {
      "cell_type": "markdown",
      "source": [
        "And for the final model I decided to use a RFE model. The RFE model is yet another way to measure variable importance and helps when trying to determine which variables are most influential for your target. "
      ],
      "metadata": {
        "id": "SUixssTzGFOc"
      }
    },
    {
      "cell_type": "code",
      "source": [
        "from sklearn.linear_model import LinearRegression\n",
        "from sklearn.feature_selection import RFE\n",
        "\n",
        "\n",
        "lr = LinearRegression()\n",
        "rfe = RFE(estimator = lr, n_features_to_select = 6, step = 1)\n",
        "rfe.fit(features, target)\n",
        "rfe_features = features.columns[rfe.support_]\n",
        "print(rfe_features)"
      ],
      "metadata": {
        "colab": {
          "base_uri": "https://localhost:8080/"
        },
        "id": "ZlfYIaUp-jGj",
        "outputId": "c9a244da-60b2-4a23-ea2b-23bf6d596582"
      },
      "execution_count": 1865,
      "outputs": [
        {
          "output_type": "stream",
          "name": "stdout",
          "text": [
            "Index(['Number Of Ratings', 'Number Of Reviews', 'Star Rating'], dtype='object')\n"
          ]
        }
      ]
    },
    {
      "cell_type": "code",
      "source": [
        "rfe_output = pd.DataFrame({'Features' : features.columns, 'Rank' : rfe.ranking_}).sort_values(by='Rank')\n",
        "print(rfe_output)"
      ],
      "metadata": {
        "colab": {
          "base_uri": "https://localhost:8080/"
        },
        "id": "0ZzVv3rgDBsM",
        "outputId": "90c27edf-2c09-4db1-c3ab-09a469ca5a45"
      },
      "execution_count": 1866,
      "outputs": [
        {
          "output_type": "stream",
          "name": "stdout",
          "text": [
            "            Features  Rank\n",
            "0  Number Of Ratings     1\n",
            "1  Number Of Reviews     1\n",
            "2        Star Rating     1\n"
          ]
        }
      ]
    },
    {
      "cell_type": "markdown",
      "source": [
        "Based on the model you can see that the Number of Ratings, Number of Reviews, and the Star Rating all hold equal rank, which is to be expected based on the results of the previous models."
      ],
      "metadata": {
        "id": "TbjiS1_MG7AV"
      }
    },
    {
      "cell_type": "markdown",
      "source": [
        "## Conclusion\n",
        "So after testing all these models you can see that there are various ways to analyze a data set such as this one. Different models have different information and depending on the situation, it is very true that there is no definite 'best model'. However for our purposes, I believe the K-Best and F-Regression most accurately quantifies the Sale Price variable and it's influences. I do however like the original regression model as well as it gives you a lot of valuable information regarding the data set. In conclusion, perhaps the 'best model' is actually a combination of all them."
      ],
      "metadata": {
        "id": "QIIRIEBEEuLg"
      }
    },
    {
      "cell_type": "markdown",
      "source": [
        "## Sources\n",
        "https://data.world/data-hut/smartphone-category-data\n",
        "https://www.blog.datahut.co/post/indian-smartphone-market-analysis-insights\n",
        "https://stackoverflow.com/questions/11350770/filter-pandas-dataframe-by-substring-criteria\n",
        "https://stackoverflow.com/questions/56809731/how-to-compare-two-data-series-in-one-bar-using-matplotlib\n",
        "https://stackoverflow.com/questions/13411544/delete-a-column-from-a-pandas-dataframe\n",
        "https://data36.com/regression-tree-python-scikit-learn/\n",
        "https://www.tutorialspoint.com/python-pandas-find-the-maximum-value-of-a-column-and-return-its-corresponding-row-values#:~:text=To%20find%20the%20maximum%20value,idxmax()%5D.\n",
        "https://towardsdatascience.com/building-a-logistic-regression-in-python-step-by-step-becd4d56c9c8\n",
        "https://blog.minitab.com/en/adventures-in-statistics-2/what-is-the-f-test-of-overall-significance-in-regression-analysis\n",
        "https://www.geeksforgeeks.org/ml-logistic-regression-using-python/\n",
        "https://stackoverflow.com/questions/15943769/how-do-i-get-the-row-count-of-a-pandas-dataframe\n"
      ],
      "metadata": {
        "id": "HIM-Vv_pLgSn"
      }
    }
  ]
}