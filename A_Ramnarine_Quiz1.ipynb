{
  "nbformat": 4,
  "nbformat_minor": 0,
  "metadata": {
    "colab": {
      "name": "A_Ramnarine_Quiz1.ipynb",
      "provenance": []
    },
    "kernelspec": {
      "name": "python3",
      "display_name": "Python 3"
    },
    "language_info": {
      "name": "python"
    }
  },
  "cells": [
    {
      "cell_type": "markdown",
      "source": [
        "## Part 1: Data Summary\n",
        "\n",
        "This data contains the prices and information of over 50,000 diamonds. Each diamond has specific attributes such as price, carat, cut, color, clarity, length, width, depth, and table."
      ],
      "metadata": {
        "id": "MXfP0x261m_N"
      }
    },
    {
      "cell_type": "markdown",
      "source": [
        "## Part 2: Exploratory Data Analysis\n",
        "\n",
        "Here is a summary of the data. We start with loading the csv file into a data frame and printing it."
      ],
      "metadata": {
        "id": "_x-p5FtN3ZkX"
      }
    },
    {
      "cell_type": "code",
      "execution_count": 2,
      "metadata": {
        "colab": {
          "base_uri": "https://localhost:8080/"
        },
        "id": "OTbIMo3l05Xx",
        "outputId": "a1610527-eec9-4a46-eadf-7b5627890225"
      },
      "outputs": [
        {
          "output_type": "stream",
          "name": "stdout",
          "text": [
            "       Unnamed: 0  carat        cut color clarity  depth  table  price     x  \\\n",
            "0               1   0.23      Ideal     E     SI2   61.5   55.0    326  3.95   \n",
            "1               2   0.21    Premium     E     SI1   59.8   61.0    326  3.89   \n",
            "2               3   0.23       Good     E     VS1   56.9   65.0    327  4.05   \n",
            "3               4   0.29    Premium     I     VS2   62.4   58.0    334  4.20   \n",
            "4               5   0.31       Good     J     SI2   63.3   58.0    335  4.34   \n",
            "...           ...    ...        ...   ...     ...    ...    ...    ...   ...   \n",
            "53935       53936   0.72      Ideal     D     SI1   60.8   57.0   2757  5.75   \n",
            "53936       53937   0.72       Good     D     SI1   63.1   55.0   2757  5.69   \n",
            "53937       53938   0.70  Very Good     D     SI1   62.8   60.0   2757  5.66   \n",
            "53938       53939   0.86    Premium     H     SI2   61.0   58.0   2757  6.15   \n",
            "53939       53940   0.75      Ideal     D     SI2   62.2   55.0   2757  5.83   \n",
            "\n",
            "          y     z  \n",
            "0      3.98  2.43  \n",
            "1      3.84  2.31  \n",
            "2      4.07  2.31  \n",
            "3      4.23  2.63  \n",
            "4      4.35  2.75  \n",
            "...     ...   ...  \n",
            "53935  5.76  3.50  \n",
            "53936  5.75  3.61  \n",
            "53937  5.68  3.56  \n",
            "53938  6.12  3.74  \n",
            "53939  5.87  3.64  \n",
            "\n",
            "[53940 rows x 11 columns]\n"
          ]
        }
      ],
      "source": [
        "import matplotlib.pyplot as plt\n",
        "import numpy as np\n",
        "import pandas as pd\n",
        "\n",
        "df = pd.read_csv('https://raw.githubusercontent.com/AvenashRamnarine/CSCI381/main/diamonds.csv')\n",
        "print(df)"
      ]
    },
    {
      "cell_type": "markdown",
      "source": [
        "However as you can see the data is too large to be represented in a normal form. Instead it is compressed and only gives a bit of the total information."
      ],
      "metadata": {
        "id": "NV8eC0x333v4"
      }
    },
    {
      "cell_type": "markdown",
      "source": [
        "### If we want to show specific attributes of the data however, we can do that using a histogram in matplotlib or seaborn"
      ],
      "metadata": {
        "id": "6he97JFE4W1z"
      }
    },
    {
      "cell_type": "code",
      "source": [
        "plt.hist(df['price'])"
      ],
      "metadata": {
        "colab": {
          "base_uri": "https://localhost:8080/",
          "height": 352
        },
        "id": "d24x8aqC4cGN",
        "outputId": "6858e823-6fbb-4b66-b252-1ddb520e0907"
      },
      "execution_count": 3,
      "outputs": [
        {
          "output_type": "execute_result",
          "data": {
            "text/plain": [
              "(array([25335.,  9328.,  7393.,  3878.,  2364.,  1745.,  1306.,  1002.,\n",
              "          863.,   726.]),\n",
              " array([  326. ,  2175.7,  4025.4,  5875.1,  7724.8,  9574.5, 11424.2,\n",
              "        13273.9, 15123.6, 16973.3, 18823. ]),\n",
              " <a list of 10 Patch objects>)"
            ]
          },
          "metadata": {},
          "execution_count": 3
        },
        {
          "output_type": "display_data",
          "data": {
            "text/plain": [
              "<Figure size 432x288 with 1 Axes>"
            ],
            "image/png": "[encoded data removed]"
          },
          "metadata": {
            "needs_background": "light"
          }
        }
      ]
    },
    {
      "cell_type": "markdown",
      "source": [
        "### You can also do this using seaborn to get different kinds of graphs. Such as a distance plot"
      ],
      "metadata": {
        "id": "7U5P7_7C8-Iu"
      }
    },
    {
      "cell_type": "code",
      "source": [
        "import seaborn as sns\n",
        "\n",
        "sns.distplot(df['price'])"
      ],
      "metadata": {
        "colab": {
          "base_uri": "https://localhost:8080/",
          "height": 351
        },
        "id": "NAM6wce09KCv",
        "outputId": "df8dff67-d508-4901-8604-c7e1006bc83e"
      },
      "execution_count": 4,
      "outputs": [
        {
          "output_type": "stream",
          "name": "stderr",
          "text": [
            "/usr/local/lib/python3.7/dist-packages/seaborn/distributions.py:2619: FutureWarning: `distplot` is a deprecated function and will be removed in a future version. Please adapt your code to use either `displot` (a figure-level function with similar flexibility) or `histplot` (an axes-level function for histograms).\n",
            "  warnings.warn(msg, FutureWarning)\n"
          ]
        },
        {
          "output_type": "execute_result",
          "data": {
            "text/plain": [
              "<matplotlib.axes._subplots.AxesSubplot at 0x7fdea26b0d10>"
            ]
          },
          "metadata": {},
          "execution_count": 4
        },
        {
          "output_type": "display_data",
          "data": {
            "text/plain": [
              "<Figure size 432x288 with 1 Axes>"
            ],
            "image/png": "[encoded data removed]"
          },
          "metadata": {
            "needs_background": "light"
          }
        }
      ]
    },
    {
      "cell_type": "markdown",
      "source": [
        "### Now that we can do this, lets plot out each attribute of the data so we can visualize it accordingly"
      ],
      "metadata": {
        "id": "awtaautk-Iq_"
      }
    },
    {
      "cell_type": "code",
      "source": [
        "sns.distplot(df['carat'])"
      ],
      "metadata": {
        "colab": {
          "base_uri": "https://localhost:8080/",
          "height": 351
        },
        "id": "ZINb3fDG-Qs4",
        "outputId": "2e952d74-876c-4333-b3dc-3b9b2e4da99f"
      },
      "execution_count": 5,
      "outputs": [
        {
          "output_type": "stream",
          "name": "stderr",
          "text": [
            "/usr/local/lib/python3.7/dist-packages/seaborn/distributions.py:2619: FutureWarning: `distplot` is a deprecated function and will be removed in a future version. Please adapt your code to use either `displot` (a figure-level function with similar flexibility) or `histplot` (an axes-level function for histograms).\n",
            "  warnings.warn(msg, FutureWarning)\n"
          ]
        },
        {
          "output_type": "execute_result",
          "data": {
            "text/plain": [
              "<matplotlib.axes._subplots.AxesSubplot at 0x7fde9dd712d0>"
            ]
          },
          "metadata": {},
          "execution_count": 5
        },
        {
          "output_type": "display_data",
          "data": {
            "text/plain": [
              "<Figure size 432x288 with 1 Axes>"
            ],
            "image/png": "[encoded data removed]"
          },
          "metadata": {
            "needs_background": "light"
          }
        }
      ]
    },
    {
      "cell_type": "code",
      "source": [
        "sns.distplot(df['depth'])"
      ],
      "metadata": {
        "colab": {
          "base_uri": "https://localhost:8080/",
          "height": 351
        },
        "id": "AfczVchKE6Z2",
        "outputId": "632fadda-dbf5-4fa4-d3ea-a71d94b10591"
      },
      "execution_count": 6,
      "outputs": [
        {
          "output_type": "stream",
          "name": "stderr",
          "text": [
            "/usr/local/lib/python3.7/dist-packages/seaborn/distributions.py:2619: FutureWarning: `distplot` is a deprecated function and will be removed in a future version. Please adapt your code to use either `displot` (a figure-level function with similar flexibility) or `histplot` (an axes-level function for histograms).\n",
            "  warnings.warn(msg, FutureWarning)\n"
          ]
        },
        {
          "output_type": "execute_result",
          "data": {
            "text/plain": [
              "<matplotlib.axes._subplots.AxesSubplot at 0x7fde9dc69bd0>"
            ]
          },
          "metadata": {},
          "execution_count": 6
        },
        {
          "output_type": "display_data",
          "data": {
            "text/plain": [
              "<Figure size 432x288 with 1 Axes>"
            ],
            "image/png": "[encoded data removed]"
          },
          "metadata": {
            "needs_background": "light"
          }
        }
      ]
    },
    {
      "cell_type": "code",
      "source": [
        "sns.distplot(df['table'])"
      ],
      "metadata": {
        "colab": {
          "base_uri": "https://localhost:8080/",
          "height": 354
        },
        "id": "QYd4KvUBGkmc",
        "outputId": "97c905f3-e590-4e78-8b36-a85726700eee"
      },
      "execution_count": 7,
      "outputs": [
        {
          "output_type": "stream",
          "name": "stderr",
          "text": [
            "/usr/local/lib/python3.7/dist-packages/seaborn/distributions.py:2619: FutureWarning: `distplot` is a deprecated function and will be removed in a future version. Please adapt your code to use either `displot` (a figure-level function with similar flexibility) or `histplot` (an axes-level function for histograms).\n",
            "  warnings.warn(msg, FutureWarning)\n"
          ]
        },
        {
          "output_type": "execute_result",
          "data": {
            "text/plain": [
              "<matplotlib.axes._subplots.AxesSubplot at 0x7fde9db80510>"
            ]
          },
          "metadata": {},
          "execution_count": 7
        },
        {
          "output_type": "display_data",
          "data": {
            "text/plain": [
              "<Figure size 432x288 with 1 Axes>"
            ],
            "image/png": "[encoded data removed]"
          },
          "metadata": {
            "needs_background": "light"
          }
        }
      ]
    },
    {
      "cell_type": "code",
      "source": [
        "sns.distplot(df['price'])"
      ],
      "metadata": {
        "colab": {
          "base_uri": "https://localhost:8080/",
          "height": 351
        },
        "id": "i_DZAOejGwtN",
        "outputId": "a1e5a580-3a2b-4ca8-f308-49913051221a"
      },
      "execution_count": 8,
      "outputs": [
        {
          "output_type": "stream",
          "name": "stderr",
          "text": [
            "/usr/local/lib/python3.7/dist-packages/seaborn/distributions.py:2619: FutureWarning: `distplot` is a deprecated function and will be removed in a future version. Please adapt your code to use either `displot` (a figure-level function with similar flexibility) or `histplot` (an axes-level function for histograms).\n",
            "  warnings.warn(msg, FutureWarning)\n"
          ]
        },
        {
          "output_type": "execute_result",
          "data": {
            "text/plain": [
              "<matplotlib.axes._subplots.AxesSubplot at 0x7fde9da6a690>"
            ]
          },
          "metadata": {},
          "execution_count": 8
        },
        {
          "output_type": "display_data",
          "data": {
            "text/plain": [
              "<Figure size 432x288 with 1 Axes>"
            ],
            "image/png": "[encoded data removed]"
          },
          "metadata": {
            "needs_background": "light"
          }
        }
      ]
    },
    {
      "cell_type": "code",
      "source": [
        "sns.distplot(df['x'])"
      ],
      "metadata": {
        "colab": {
          "base_uri": "https://localhost:8080/",
          "height": 351
        },
        "id": "Nqu8CWwqGmiJ",
        "outputId": "fb418914-eced-483a-fe15-71bee7a954cc"
      },
      "execution_count": 9,
      "outputs": [
        {
          "output_type": "stream",
          "name": "stderr",
          "text": [
            "/usr/local/lib/python3.7/dist-packages/seaborn/distributions.py:2619: FutureWarning: `distplot` is a deprecated function and will be removed in a future version. Please adapt your code to use either `displot` (a figure-level function with similar flexibility) or `histplot` (an axes-level function for histograms).\n",
            "  warnings.warn(msg, FutureWarning)\n"
          ]
        },
        {
          "output_type": "execute_result",
          "data": {
            "text/plain": [
              "<matplotlib.axes._subplots.AxesSubplot at 0x7fde9d9237d0>"
            ]
          },
          "metadata": {},
          "execution_count": 9
        },
        {
          "output_type": "display_data",
          "data": {
            "text/plain": [
              "<Figure size 432x288 with 1 Axes>"
            ],
            "image/png": "[encoded data removed]"
          },
          "metadata": {
            "needs_background": "light"
          }
        }
      ]
    },
    {
      "cell_type": "code",
      "source": [
        "sns.distplot(df['y'])"
      ],
      "metadata": {
        "colab": {
          "base_uri": "https://localhost:8080/",
          "height": 351
        },
        "id": "p0rSFDmIGocy",
        "outputId": "3714e134-3856-4a30-809e-7a9daf2ee748"
      },
      "execution_count": 10,
      "outputs": [
        {
          "output_type": "stream",
          "name": "stderr",
          "text": [
            "/usr/local/lib/python3.7/dist-packages/seaborn/distributions.py:2619: FutureWarning: `distplot` is a deprecated function and will be removed in a future version. Please adapt your code to use either `displot` (a figure-level function with similar flexibility) or `histplot` (an axes-level function for histograms).\n",
            "  warnings.warn(msg, FutureWarning)\n"
          ]
        },
        {
          "output_type": "execute_result",
          "data": {
            "text/plain": [
              "<matplotlib.axes._subplots.AxesSubplot at 0x7fde9d8c9250>"
            ]
          },
          "metadata": {},
          "execution_count": 10
        },
        {
          "output_type": "display_data",
          "data": {
            "text/plain": [
              "<Figure size 432x288 with 1 Axes>"
            ],
            "image/png": "[encoded data removed]"
          },
          "metadata": {
            "needs_background": "light"
          }
        }
      ]
    },
    {
      "cell_type": "code",
      "source": [
        "sns.distplot(df['z'])"
      ],
      "metadata": {
        "colab": {
          "base_uri": "https://localhost:8080/",
          "height": 352
        },
        "id": "xTNNSF_uGqLj",
        "outputId": "089dfa23-f388-4d00-fa4c-ff0fd4557469"
      },
      "execution_count": 11,
      "outputs": [
        {
          "output_type": "stream",
          "name": "stderr",
          "text": [
            "/usr/local/lib/python3.7/dist-packages/seaborn/distributions.py:2619: FutureWarning: `distplot` is a deprecated function and will be removed in a future version. Please adapt your code to use either `displot` (a figure-level function with similar flexibility) or `histplot` (an axes-level function for histograms).\n",
            "  warnings.warn(msg, FutureWarning)\n"
          ]
        },
        {
          "output_type": "execute_result",
          "data": {
            "text/plain": [
              "<matplotlib.axes._subplots.AxesSubplot at 0x7fde9d7a5d50>"
            ]
          },
          "metadata": {},
          "execution_count": 11
        },
        {
          "output_type": "display_data",
          "data": {
            "text/plain": [
              "<Figure size 432x288 with 1 Axes>"
            ],
            "image/png": "[encoded data removed]"
          },
          "metadata": {
            "needs_background": "light"
          }
        }
      ]
    },
    {
      "cell_type": "markdown",
      "source": [
        "## Part 3: Inferences"
      ],
      "metadata": {
        "id": "mQLc7T1AHBuP"
      }
    },
    {
      "cell_type": "markdown",
      "source": [
        "What proportion of diamonds are between .30 and 1.08 carats?"
      ],
      "metadata": {
        "id": "Zxm4tD54HLlP"
      }
    },
    {
      "cell_type": "code",
      "source": [
        "temp = df['carat'][df['carat'] > .30]\n",
        "temp2 = df['carat'][df['carat'] < 1.08]\n",
        "print((len(temp) + len(temp2)) / len(df['carat']))"
      ],
      "metadata": {
        "colab": {
          "base_uri": "https://localhost:8080/"
        },
        "id": "2LzmbAtKHMyO",
        "outputId": "24ebb309-25ba-4495-e9c1-b875e2037d41"
      },
      "execution_count": 12,
      "outputs": [
        {
          "output_type": "stream",
          "name": "stdout",
          "text": [
            "1.6939933259176863\n"
          ]
        }
      ]
    },
    {
      "cell_type": "markdown",
      "source": [
        "How many of the diamonds have equal x and y dimensions?\n"
      ],
      "metadata": {
        "id": "6TfgOZejKNfN"
      }
    },
    {
      "cell_type": "code",
      "source": [
        "print(np.array(np.where(df['x'] == df['y'])).size)"
      ],
      "metadata": {
        "colab": {
          "base_uri": "https://localhost:8080/"
        },
        "id": "p_v7J9y4KkP9",
        "outputId": "c6eb5b2e-36b3-4599-e000-33c877859b4f"
      },
      "execution_count": 13,
      "outputs": [
        {
          "output_type": "stream",
          "name": "stdout",
          "text": [
            "17\n"
          ]
        }
      ]
    },
    {
      "cell_type": "markdown",
      "source": [
        "How many of the diamonds have a carat value that is less than the mean carat value?"
      ],
      "metadata": {
        "id": "7Jed60EXQBTZ"
      }
    },
    {
      "cell_type": "code",
      "source": [
        "print(np.array(np.where(df['carat'] < np.mean(df['carat']))).size)"
      ],
      "metadata": {
        "colab": {
          "base_uri": "https://localhost:8080/"
        },
        "id": "pPt32cI1QCNo",
        "outputId": "d27d8f3a-3740-4a89-aed3-ca964251098a"
      },
      "execution_count": 25,
      "outputs": [
        {
          "output_type": "stream",
          "name": "stdout",
          "text": [
            "31127\n"
          ]
        }
      ]
    },
    {
      "cell_type": "markdown",
      "source": [
        "How many diamonds have a Premium cut or better?"
      ],
      "metadata": {
        "id": "l-GAzd6Yylik"
      }
    },
    {
      "cell_type": "code",
      "source": [
        "print(np.array(np.where((df['cut'] == 'Premium') | (df['cut'] == 'Ideal'))).size)"
      ],
      "metadata": {
        "colab": {
          "base_uri": "https://localhost:8080/"
        },
        "id": "Ki-_MEW4ymOA",
        "outputId": "2ef11fad-bd5c-41d7-9e77-8c64c4995c94"
      },
      "execution_count": 40,
      "outputs": [
        {
          "output_type": "stream",
          "name": "stdout",
          "text": [
            "35342\n"
          ]
        }
      ]
    },
    {
      "cell_type": "markdown",
      "source": [
        "Which diamond has the highest price per carat? What is its value?\n"
      ],
      "metadata": {
        "id": "qT-v_dIG1aVN"
      }
    },
    {
      "cell_type": "code",
      "source": [
        "a = np.array(df['carat'])\n",
        "b = np.array(df['price'])\n",
        "max = 0\n",
        "diamond = 0\n",
        "\n",
        "for i in range(len(a)):\n",
        "  if (a[i]/b[i] > max):\n",
        "    max = a[i]/b[i]\n",
        "    diamond = i\n",
        "\n",
        "print(\"Diamond number: \" , diamond)"
      ],
      "metadata": {
        "colab": {
          "base_uri": "https://localhost:8080/"
        },
        "id": "wGl1umon1bSc",
        "outputId": "a1f3a442-cecf-4030-a4ef-b2300c8675c7"
      },
      "execution_count": 50,
      "outputs": [
        {
          "output_type": "stream",
          "name": "stdout",
          "text": [
            "Diamond number:  31962\n"
          ]
        }
      ]
    },
    {
      "cell_type": "markdown",
      "source": [
        " Using Matplotlib make a boxplot of the diamond price for each distinct cut value and\n",
        "discuss any conclusions you can draw from the appearance of the boxplots.\n"
      ],
      "metadata": {
        "id": "fUmS0PPT5ov9"
      }
    },
    {
      "cell_type": "code",
      "source": [
        "data = df[['cut', 'price']].copy()\n",
        "\n",
        "plt.boxplot(data['price'])\n"
      ],
      "metadata": {
        "colab": {
          "base_uri": "https://localhost:8080/",
          "height": 404
        },
        "id": "BQVI41tk5qNo",
        "outputId": "69d6e94d-8d66-4cff-d66d-eac4db84f711"
      },
      "execution_count": 68,
      "outputs": [
        {
          "output_type": "execute_result",
          "data": {
            "text/plain": [
              "{'boxes': [<matplotlib.lines.Line2D at 0x7fde424bdfd0>],\n",
              " 'caps': [<matplotlib.lines.Line2D at 0x7fde4214ffd0>,\n",
              "  <matplotlib.lines.Line2D at 0x7fde4214e550>],\n",
              " 'fliers': [<matplotlib.lines.Line2D at 0x7fde42147050>],\n",
              " 'means': [],\n",
              " 'medians': [<matplotlib.lines.Line2D at 0x7fde4214ead0>],\n",
              " 'whiskers': [<matplotlib.lines.Line2D at 0x7fde4214f550>,\n",
              "  <matplotlib.lines.Line2D at 0x7fde4214fa90>]}"
            ]
          },
          "metadata": {},
          "execution_count": 68
        },
        {
          "output_type": "display_data",
          "data": {
            "text/plain": [
              "<Figure size 432x288 with 1 Axes>"
            ],
            "image/png": "[encoded data removed]"
          },
          "metadata": {
            "needs_background": "light"
          }
        }
      ]
    },
    {
      "cell_type": "markdown",
      "source": [
        "In comparing the diamond price for each cut value, we can see that the higher the cut, the more expensive the diamond is."
      ],
      "metadata": {
        "id": "JPXhrLHtAVHU"
      }
    },
    {
      "cell_type": "markdown",
      "source": [
        "Using Matplolib make a scatter plot of price vs. carat. What can we say about the\n",
        "relationship between those two attributes?"
      ],
      "metadata": {
        "id": "X53DbMde_zXj"
      }
    },
    {
      "cell_type": "code",
      "source": [
        "plt.scatter(df['price'], df['carat'])"
      ],
      "metadata": {
        "colab": {
          "base_uri": "https://localhost:8080/",
          "height": 282
        },
        "id": "AppXFqD1-6at",
        "outputId": "6e255d33-3676-470c-9c67-e08e2c30c17f"
      },
      "execution_count": 69,
      "outputs": [
        {
          "output_type": "execute_result",
          "data": {
            "text/plain": [
              "<matplotlib.collections.PathCollection at 0x7fde421740d0>"
            ]
          },
          "metadata": {},
          "execution_count": 69
        },
        {
          "output_type": "display_data",
          "data": {
            "text/plain": [
              "<Figure size 432x288 with 1 Axes>"
            ],
            "image/png": "[encoded data removed]"
          },
          "metadata": {
            "needs_background": "light"
          }
        }
      ]
    },
    {
      "cell_type": "markdown",
      "source": [
        "Comparing the price and carat we can see that as the carat increases, the price also increases. This is to be expected as generally, the higher the carat the better quality a diamond is. Thus increasing it's value."
      ],
      "metadata": {
        "id": "idVm3e57AoLv"
      }
    },
    {
      "cell_type": "markdown",
      "source": [
        "## Conclusion"
      ],
      "metadata": {
        "id": "KxLKRk09BPda"
      }
    },
    {
      "cell_type": "markdown",
      "source": [
        "By using the given dataset we were able to construct graphs and perform some data analysis. I found that using graphs is a particularly helpful tool in pinpointing outliers of a specific dataset. In this example, by looking at the outliers in favor of factors such as price vs carat or price vs cut, a person who might be interested in purchasing a diamond can make an informed decision on which is the best deal. This is a benefit of performing this kind of data analysis which is only made even easier by using python. The libraries of matplotlib, pandas, numpy and seaborn make this process extremely simple and accessible for all people to experiment with."
      ],
      "metadata": {
        "id": "vzIx6E8bBhHT"
      }
    },
    {
      "cell_type": "markdown",
      "source": [
        "## Sources"
      ],
      "metadata": {
        "id": "HB1b56vaC2_H"
      }
    },
    {
      "cell_type": "markdown",
      "source": [
        "https://ggplot2.tidyverse.org/reference/diamonds.html\n",
        "https://www.geeksforgeeks.org/selecting-rows-in-pandas-dataframe-based-on-conditions/\n",
        "https://www.geeksforgeeks.org/how-to-calculate-the-percentage-of-a-column-in-pandas/\n",
        "https://www.geeksforgeeks.org/how-to-compare-two-columns-in-pandas/\n",
        "https://www.geeksforgeeks.org/numpy-size-function-python/\n",
        "https://www.geeksforgeeks.org/numpy-mean-in-python/\n",
        "https://stackoverflow.com/questions/34682828/extracting-specific-selected-columns-to-new-dataframe-as-a-copy\n",
        "https://www.geeksforgeeks.org/box-plot-in-python-using-matplotlib/\n",
        "https://stackoverflow.com/questions/39541276/take-unique-of-numpy-array-according-to-2-column-values\n",
        "https://stackoverflow.com/questions/3777861/setting-y-axis-limit-in-matplotlib"
      ],
      "metadata": {
        "id": "agPd-jzjC4in"
      }
    }
  ]
}